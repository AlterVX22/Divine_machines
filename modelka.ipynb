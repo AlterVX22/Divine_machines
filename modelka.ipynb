{
 "cells": [
  {
   "cell_type": "code",
   "id": "ee5e94b87c5c5a64",
   "metadata": {
    "ExecuteTime": {
     "end_time": "2025-04-15T17:14:29.234472Z",
     "start_time": "2025-04-15T17:14:28.408881Z"
    }
   },
   "source": [
    "# !pip install xgboost lightgbm imbalanced-learn seaborn matplotlib\n",
    "import numpy as np\n",
    "import pandas as pd\n",
    "import matplotlib.pyplot as plt\n",
    "import seaborn as sns\n",
    "\n",
    "from sklearn.preprocessing import StandardScaler\n",
    "from sklearn.model_selection import train_test_split\n",
    "from sklearn.metrics import (\n",
    "    confusion_matrix, classification_report, f1_score, roc_auc_score, RocCurveDisplay\n",
    ")\n",
    "from imblearn.over_sampling import RandomOverSampler\n",
    "from sklearn.tree import DecisionTreeClassifier\n",
    "from sklearn.ensemble import RandomForestClassifier\n",
    "from sklearn.linear_model import LogisticRegression\n",
    "from sklearn.neighbors import KNeighborsClassifier\n",
    "from sklearn.svm import SVC\n",
    "\n",
    "from xgboost import XGBClassifier\n",
    "from lightgbm import LGBMClassifier\n",
    "\n",
    "from imblearn.over_sampling import SMOTE"
   ],
   "outputs": [],
   "execution_count": 1
  },
  {
   "cell_type": "code",
   "id": "4b3dfec2",
   "metadata": {
    "vscode": {
     "languageId": "plaintext"
    },
    "ExecuteTime": {
     "end_time": "2025-04-15T17:14:42.873758Z",
     "start_time": "2025-04-15T17:14:31.289172Z"
    }
   },
   "source": [
    "df = pd.read_csv('train1.csv').drop('id', axis=1)\n",
    "df_test = pd.read_csv('test.csv').drop('id', axis=1)"
   ],
   "outputs": [],
   "execution_count": 2
  },
  {
   "metadata": {},
   "cell_type": "markdown",
   "source": "Предработка: маппинг категорий",
   "id": "a4201c67639c49e6"
  },
  {
   "cell_type": "code",
   "id": "0f3ba821",
   "metadata": {
    "vscode": {
     "languageId": "plaintext"
    },
    "ExecuteTime": {
     "end_time": "2025-04-15T17:14:45.042241Z",
     "start_time": "2025-04-15T17:14:43.500871Z"
    }
   },
   "source": [
    "v_age_mapping = {'< 1 Year': 0, '1-2 Year': 1, '> 2 Years': 2}\n",
    "v_damage_mapping = {'Yes': True, 'No': False}\n",
    "bool_mapping = {1: True, 0: False}\n",
    "\n",
    "df['Vehicle_Age'] = df['Vehicle_Age'].map(v_age_mapping)\n",
    "df_test['Vehicle_Age'] = df_test['Vehicle_Age'].map(v_age_mapping)\n",
    "\n",
    "df['Vehicle_Damage'] = df['Vehicle_Damage'].map(v_damage_mapping)\n",
    "df_test['Vehicle_Damage'] = df_test['Vehicle_Damage'].map(v_damage_mapping)\n",
    "\n",
    "df['Driving_License'] = df['Driving_License'].map(bool_mapping)\n",
    "df['Previously_Insured'] = df['Previously_Insured'].map(bool_mapping)\n",
    "df_test['Driving_License'] = df_test['Driving_License'].map(bool_mapping)\n",
    "df_test['Previously_Insured'] = df_test['Previously_Insured'].map(bool_mapping)"
   ],
   "outputs": [],
   "execution_count": 3
  },
  {
   "metadata": {},
   "cell_type": "markdown",
   "source": " Категориальные признаки",
   "id": "67a1853dd99620c2"
  },
  {
   "cell_type": "code",
   "id": "139f02d6",
   "metadata": {
    "ExecuteTime": {
     "end_time": "2025-04-15T17:14:47.236745Z",
     "start_time": "2025-04-15T17:14:46.531721Z"
    }
   },
   "source": [
    "df['Policy_Sales_Channel'] = df['Policy_Sales_Channel'].astype('object')\n",
    "df['Region_Code'] = df['Region_Code'].astype('object')\n",
    "df_test['Policy_Sales_Channel'] = df_test['Policy_Sales_Channel'].astype('object')\n",
    "df_test['Region_Code'] = df_test['Region_Code'].astype('object')"
   ],
   "outputs": [],
   "execution_count": 4
  },
  {
   "metadata": {},
   "cell_type": "markdown",
   "source": "Масштабирование числовых признаков\n",
   "id": "bfa0f08278ae0e5f"
  },
  {
   "metadata": {
    "ExecuteTime": {
     "end_time": "2025-04-15T17:14:50.061234Z",
     "start_time": "2025-04-15T17:14:48.502886Z"
    }
   },
   "cell_type": "code",
   "source": [
    "numerical_features = df.select_dtypes(exclude=['object', 'bool']).drop('Response', axis=1).columns\n",
    "\n",
    "scaler = StandardScaler()\n",
    "df[numerical_features] = scaler.fit_transform(df[numerical_features])\n",
    "df_test[numerical_features] = scaler.transform(df_test[numerical_features])"
   ],
   "id": "8af738708f9ecc1f",
   "outputs": [],
   "execution_count": 5
  },
  {
   "metadata": {},
   "cell_type": "markdown",
   "source": "One-hot кодирование",
   "id": "c47e5c736bb96d7c"
  },
  {
   "metadata": {
    "ExecuteTime": {
     "end_time": "2025-04-15T17:14:59.295486Z",
     "start_time": "2025-04-15T17:14:51.374296Z"
    }
   },
   "cell_type": "code",
   "source": [
    "df = pd.get_dummies(df, drop_first=True)\n",
    "df_test = pd.get_dummies(df_test, drop_first=True)"
   ],
   "id": "7cea8d551899ca18",
   "outputs": [],
   "execution_count": 6
  },
  {
   "metadata": {},
   "cell_type": "markdown",
   "source": "Выравнивание признаков train/test",
   "id": "cd79efee9afd93a1"
  },
  {
   "metadata": {
    "ExecuteTime": {
     "end_time": "2025-04-15T17:15:03.440393Z",
     "start_time": "2025-04-15T17:15:00.803033Z"
    }
   },
   "cell_type": "code",
   "source": [
    "train_cols = df.columns\n",
    "test_cols = df_test.columns\n",
    "missing_cols_train = set(test_cols) - set(train_cols)\n",
    "missing_cols_test = set(train_cols) - set(test_cols)\n",
    "\n",
    "df.drop(columns=missing_cols_test, inplace=True)\n",
    "df_test.drop(columns=missing_cols_train, inplace=True)"
   ],
   "id": "7178fe37a9aba67f",
   "outputs": [],
   "execution_count": 7
  },
  {
   "metadata": {},
   "cell_type": "markdown",
   "source": "Создание X, y",
   "id": "1649292885eabb99"
  },
  {
   "metadata": {
    "ExecuteTime": {
     "end_time": "2025-04-15T17:15:06.248373Z",
     "start_time": "2025-04-15T17:15:04.026629Z"
    }
   },
   "cell_type": "code",
   "source": [
    "X_train = df.drop('Response', axis=1)\n",
    "y_train = df['Response']\n",
    "X_test = df_test.drop('Response', axis=1)\n",
    "y_test = df_test['Response']"
   ],
   "id": "c777b27e9302d442",
   "outputs": [],
   "execution_count": 8
  },
  {
   "metadata": {},
   "cell_type": "markdown",
   "source": "Удалим Vehicle_Age",
   "id": "39e4e65984124b72"
  },
  {
   "metadata": {
    "ExecuteTime": {
     "end_time": "2025-04-15T17:15:10.217051Z",
     "start_time": "2025-04-15T17:15:06.862277Z"
    }
   },
   "cell_type": "code",
   "source": [
    "X_train = X_train.drop('Vehicle_Age', axis=1)\n",
    "X_test = X_test.drop('Vehicle_Age', axis=1)"
   ],
   "id": "4a6b292d261ad2d1",
   "outputs": [],
   "execution_count": 9
  },
  {
   "metadata": {},
   "cell_type": "markdown",
   "source": "Балансировка классов (SMOTE)",
   "id": "bdfba197b1c09d6"
  },
  {
   "metadata": {
    "ExecuteTime": {
     "end_time": "2025-04-15T17:15:23.987511Z",
     "start_time": "2025-04-15T17:15:11.642187Z"
    }
   },
   "cell_type": "code",
   "source": [
    "# Проверим наличие NaN\n",
    "print(\"Train NaN:\\n\", X_train.isna().sum())\n",
    "print(\"\\nTest NaN:\\n\", X_test.isna().sum())\n",
    "\n",
    "# Удалим строки с NaN, если они есть\n",
    "X_train.dropna(inplace=True)\n",
    "y_train = y_train.loc[X_train.index]  # синхронизируем y\n",
    "\n",
    "X_test.dropna(inplace=True)\n",
    "y_test = y_test.loc[X_test.index]\n"
   ],
   "id": "d2e3a61958e990d0",
   "outputs": [
    {
     "name": "stdout",
     "output_type": "stream",
     "text": [
      "Train NaN:\n",
      " Age                           0\n",
      "Driving_License               0\n",
      "Previously_Insured            0\n",
      "Vehicle_Damage                0\n",
      "Annual_Premium                0\n",
      "                             ..\n",
      "Policy_Sales_Channel_157.0    0\n",
      "Policy_Sales_Channel_158.0    0\n",
      "Policy_Sales_Channel_159.0    0\n",
      "Policy_Sales_Channel_160.0    0\n",
      "Policy_Sales_Channel_163.0    0\n",
      "Length: 206, dtype: int64\n",
      "\n",
      "Test NaN:\n",
      " Age                           0\n",
      "Driving_License               0\n",
      "Previously_Insured            0\n",
      "Vehicle_Damage                0\n",
      "Annual_Premium                0\n",
      "                             ..\n",
      "Policy_Sales_Channel_157.0    0\n",
      "Policy_Sales_Channel_158.0    0\n",
      "Policy_Sales_Channel_159.0    0\n",
      "Policy_Sales_Channel_160.0    0\n",
      "Policy_Sales_Channel_163.0    0\n",
      "Length: 206, dtype: int64\n"
     ]
    }
   ],
   "execution_count": 10
  },
  {
   "metadata": {
    "ExecuteTime": {
     "end_time": "2025-04-15T19:09:56.832346Z",
     "start_time": "2025-04-15T19:09:43.297092Z"
    }
   },
   "cell_type": "code",
   "source": [
    "# уменьшим X_train до 100k перед SMOTE\n",
    "X_small, _, y_small, _ = train_test_split(X_train, y_train, train_size=200_000, stratify=y_train, random_state=37)\n",
    "\n",
    "# Применим SMOTE только к уменьшенному\n",
    "X_res, y_res = SMOTE(random_state=37).fit_resample(X_small, y_small)"
   ],
   "id": "9f6e60460d55270f",
   "outputs": [],
   "execution_count": 57
  },
  {
   "metadata": {
    "ExecuteTime": {
     "end_time": "2025-04-15T19:09:58.428978Z",
     "start_time": "2025-04-15T19:09:58.384927Z"
    }
   },
   "cell_type": "code",
   "source": "print(X_res, y_res)",
   "id": "20823c52d794121b",
   "outputs": [
    {
     "name": "stdout",
     "output_type": "stream",
     "text": [
      "             Age  Driving_License  Previously_Insured  Vehicle_Damage  \\\n",
      "0       1.374460             True                True           False   \n",
      "1       0.707649             True               False            True   \n",
      "2      -0.359248             True               False            True   \n",
      "3      -0.492610             True                True           False   \n",
      "4      -1.226102             True               False            True   \n",
      "...          ...              ...                 ...             ...   \n",
      "350773  0.774330             True               False            True   \n",
      "350774 -0.356441             True               False            True   \n",
      "350775 -0.865099             True               False            True   \n",
      "350776  1.212394             True               False            True   \n",
      "350777  1.241098             True               False            True   \n",
      "\n",
      "        Annual_Premium   Vintage  Gender_Male  Region_Code_1.0  \\\n",
      "0             0.465547  1.426467         True            False   \n",
      "1             1.335530 -0.049002        False            False   \n",
      "2             0.676700 -0.249066        False            False   \n",
      "3             1.040559 -1.061824        False            False   \n",
      "4            -0.383617 -1.837071         True            False   \n",
      "...                ...       ...          ...              ...   \n",
      "350773        0.622339  0.476164        False            False   \n",
      "350774       -0.264465 -1.220427         True            False   \n",
      "350775        0.073357  0.378287         True            False   \n",
      "350776       -1.689623 -0.309847         True            False   \n",
      "350777       -1.689623 -1.212614         True            False   \n",
      "\n",
      "        Region_Code_2.0  Region_Code_3.0  ...  Policy_Sales_Channel_152.0  \\\n",
      "0                 False            False  ...                       False   \n",
      "1                 False            False  ...                       False   \n",
      "2                 False            False  ...                       False   \n",
      "3                 False            False  ...                        True   \n",
      "4                 False            False  ...                       False   \n",
      "...                 ...              ...  ...                         ...   \n",
      "350773            False            False  ...                       False   \n",
      "350774            False            False  ...                       False   \n",
      "350775            False            False  ...                        True   \n",
      "350776            False            False  ...                       False   \n",
      "350777            False             True  ...                       False   \n",
      "\n",
      "        Policy_Sales_Channel_153.0  Policy_Sales_Channel_154.0  \\\n",
      "0                            False                       False   \n",
      "1                            False                       False   \n",
      "2                            False                        True   \n",
      "3                            False                       False   \n",
      "4                            False                       False   \n",
      "...                            ...                         ...   \n",
      "350773                       False                       False   \n",
      "350774                       False                       False   \n",
      "350775                       False                       False   \n",
      "350776                       False                       False   \n",
      "350777                       False                       False   \n",
      "\n",
      "        Policy_Sales_Channel_155.0  Policy_Sales_Channel_156.0  \\\n",
      "0                            False                       False   \n",
      "1                            False                       False   \n",
      "2                            False                       False   \n",
      "3                            False                       False   \n",
      "4                            False                       False   \n",
      "...                            ...                         ...   \n",
      "350773                       False                       False   \n",
      "350774                       False                       False   \n",
      "350775                       False                       False   \n",
      "350776                       False                       False   \n",
      "350777                       False                       False   \n",
      "\n",
      "        Policy_Sales_Channel_157.0  Policy_Sales_Channel_158.0  \\\n",
      "0                            False                       False   \n",
      "1                            False                       False   \n",
      "2                            False                       False   \n",
      "3                            False                       False   \n",
      "4                            False                       False   \n",
      "...                            ...                         ...   \n",
      "350773                       False                       False   \n",
      "350774                       False                       False   \n",
      "350775                       False                       False   \n",
      "350776                        True                       False   \n",
      "350777                       False                       False   \n",
      "\n",
      "        Policy_Sales_Channel_159.0  Policy_Sales_Channel_160.0  \\\n",
      "0                            False                       False   \n",
      "1                            False                       False   \n",
      "2                            False                       False   \n",
      "3                            False                       False   \n",
      "4                            False                        True   \n",
      "...                            ...                         ...   \n",
      "350773                       False                       False   \n",
      "350774                       False                       False   \n",
      "350775                       False                       False   \n",
      "350776                       False                       False   \n",
      "350777                       False                       False   \n",
      "\n",
      "        Policy_Sales_Channel_163.0  \n",
      "0                            False  \n",
      "1                            False  \n",
      "2                            False  \n",
      "3                            False  \n",
      "4                            False  \n",
      "...                            ...  \n",
      "350773                       False  \n",
      "350774                       False  \n",
      "350775                       False  \n",
      "350776                       False  \n",
      "350777                       False  \n",
      "\n",
      "[350778 rows x 206 columns] 0         0\n",
      "1         0\n",
      "2         0\n",
      "3         0\n",
      "4         0\n",
      "         ..\n",
      "350773    1\n",
      "350774    1\n",
      "350775    1\n",
      "350776    1\n",
      "350777    1\n",
      "Name: Response, Length: 350778, dtype: int64\n"
     ]
    }
   ],
   "execution_count": 58
  },
  {
   "metadata": {},
   "cell_type": "markdown",
   "source": "Функция для оценки моделей",
   "id": "7a22c04f748a5321"
  },
  {
   "metadata": {
    "ExecuteTime": {
     "end_time": "2025-04-15T18:34:09.211770Z",
     "start_time": "2025-04-15T18:34:09.191614Z"
    }
   },
   "cell_type": "code",
   "source": [
    "model_scores = []\n",
    "\n",
    "# Функция для оценки модели и сохранения метрик\n",
    "def evaluate_model(model, name, X_test, y_test):\n",
    "    print(f\"\\n--- {name} ---\")\n",
    "    y_pred = model.predict(X_test)\n",
    "\n",
    "    # Матрица ошибок\n",
    "    cm = confusion_matrix(y_test, y_pred)\n",
    "    plt.figure(figsize=(6, 4))\n",
    "    sns.heatmap(cm, annot=True, fmt='d', cmap='Blues',\n",
    "                xticklabels=['Not Interested', 'Interested'],\n",
    "                yticklabels=['Not Interested', 'Interested'])\n",
    "    plt.title(f'Confusion Matrix: {name}')\n",
    "    plt.xlabel('Predicted')\n",
    "    plt.ylabel('Actual')\n",
    "    plt.show()\n",
    "\n",
    "    # Классификационный отчёт\n",
    "    report = classification_report(y_test, y_pred, output_dict=True)\n",
    "\n",
    "    # Все типы F1\n",
    "    f1_binary = f1_score(y_test, y_pred, average='binary')\n",
    "    f1_macro = f1_score(y_test, y_pred, average='macro')\n",
    "    f1_weighted = f1_score(y_test, y_pred, average='weighted')\n",
    "    roc = roc_auc_score(y_test, y_pred)\n",
    "\n",
    "    print(classification_report(y_test, y_pred))\n",
    "    print(f\"F1 Binary: {f1_binary:.4f}\")\n",
    "    print(f\"F1 Macro: {f1_macro:.4f}\")\n",
    "    print(f\"F1 Weighted: {f1_weighted:.4f}\")\n",
    "    print(f\"ROC AUC: {roc:.4f}\")\n",
    "\n",
    "    # Сохраняем метрики\n",
    "    model_scores.append({\n",
    "        'Model': name,\n",
    "        'F1 Binary': f1_binary,\n",
    "        'F1 Macro': f1_macro,\n",
    "        'F1 Weighted': f1_weighted,\n",
    "        'ROC AUC': roc,\n",
    "        'Precision': report['1']['precision'],\n",
    "        'Recall': report['1']['recall']\n",
    "    })"
   ],
   "id": "cadf4033e009adc2",
   "outputs": [],
   "execution_count": 46
  },
  {
   "metadata": {},
   "cell_type": "markdown",
   "source": "Обучение моделей",
   "id": "bc54a4ca941427b4"
  },
  {
   "metadata": {
    "ExecuteTime": {
     "end_time": "2025-04-15T18:34:13.576551Z",
     "start_time": "2025-04-15T18:34:13.560418Z"
    }
   },
   "cell_type": "code",
   "source": [
    "# Logistic Regression\n",
    "log_model = LogisticRegression(max_iter=1000, class_weight='balanced', random_state=37)\n",
    "\n",
    "# Support Vector Classifier\n",
    "svc_model = SVC(kernel='linear', class_weight='balanced', probability=True, random_state=37)\n",
    "\n",
    "# Decision Tree\n",
    "tree_model = DecisionTreeClassifier(random_state=37, max_depth=80, min_samples_split=2)\n",
    "\n",
    "# Random Forest\n",
    "rf_model = RandomForestClassifier(random_state=37, n_estimators=40, max_depth=150, min_samples_split=2)\n",
    "\n",
    "# XGBoost\n",
    "xgb_model = XGBClassifier(use_label_encoder=False, eval_metric='logloss', random_state=37)\n",
    "\n",
    "# LightGBM\n",
    "lgb_model = LGBMClassifier(class_weight='balanced', random_state=37)\n"
   ],
   "id": "38f48ce015a5204d",
   "outputs": [],
   "execution_count": 48
  },
  {
   "metadata": {
    "ExecuteTime": {
     "end_time": "2025-04-15T18:34:19.725066Z",
     "start_time": "2025-04-15T18:34:19.711212Z"
    }
   },
   "cell_type": "code",
   "source": [
    "def display_model_comparison():\n",
    "    results_df = pd.DataFrame(model_scores)\n",
    "    print(\"\\n--- Model Comparison ---\")\n",
    "    display(results_df.sort_values(by='F1 Weighted', ascending=False))"
   ],
   "id": "ee5a821929130848",
   "outputs": [],
   "execution_count": 49
  },
  {
   "metadata": {},
   "cell_type": "markdown",
   "source": "Тестирование моделей",
   "id": "19bb00317dd0ce09"
  },
  {
   "metadata": {
    "ExecuteTime": {
     "end_time": "2025-04-15T18:36:20.512064Z",
     "start_time": "2025-04-15T18:34:21.509491Z"
    }
   },
   "cell_type": "code",
   "source": [
    "# Logistic Regression\n",
    "log_model.fit(X_res, y_res)\n",
    "evaluate_model(log_model, \"Logistic Regression\", X_test, y_test)\n"
   ],
   "id": "9eecd3dfd8f0a763",
   "outputs": [
    {
     "name": "stdout",
     "output_type": "stream",
     "text": [
      "\n",
      "--- Logistic Regression ---\n"
     ]
    },
    {
     "data": {
      "text/plain": [
       "<Figure size 600x400 with 2 Axes>"
      ],
      "image/png": "[encoded data removed]"
     },
     "metadata": {},
     "output_type": "display_data"
    },
    {
     "name": "stdout",
     "output_type": "stream",
     "text": [
      "              precision    recall  f1-score   support\n",
      "\n",
      "           0       0.98      0.69      0.81   5705020\n",
      "           1       0.29      0.89      0.44    799778\n",
      "\n",
      "    accuracy                           0.72   6504798\n",
      "   macro avg       0.63      0.79      0.62   6504798\n",
      "weighted avg       0.89      0.72      0.77   6504798\n",
      "\n",
      "F1 Binary: 0.4368\n",
      "F1 Macro: 0.6243\n",
      "F1 Weighted: 0.7658\n",
      "ROC AUC: 0.7916\n"
     ]
    }
   ],
   "execution_count": 50
  },
  {
   "metadata": {
    "ExecuteTime": {
     "end_time": "2025-04-15T18:36:30.073505Z",
     "start_time": "2025-04-15T18:36:30.071171Z"
    }
   },
   "cell_type": "code",
   "source": "",
   "id": "e3d0320587c6179c",
   "outputs": [],
   "execution_count": null
  },
  {
   "metadata": {
    "ExecuteTime": {
     "end_time": "2025-04-15T18:38:05.569559Z",
     "start_time": "2025-04-15T18:37:30.914429Z"
    }
   },
   "cell_type": "code",
   "source": [
    "# Decision Tree\n",
    "tree_model.fit(X_res, y_res)\n",
    "evaluate_model(tree_model, \"Decision Tree\", X_test, y_test)"
   ],
   "id": "31d1bdb0d18368f7",
   "outputs": [
    {
     "name": "stdout",
     "output_type": "stream",
     "text": [
      "\n",
      "--- Decision Tree ---\n"
     ]
    },
    {
     "data": {
      "text/plain": [
       "<Figure size 600x400 with 2 Axes>"
      ],
      "image/png": "[encoded data removed]"
     },
     "metadata": {},
     "output_type": "display_data"
    },
    {
     "name": "stdout",
     "output_type": "stream",
     "text": [
      "              precision    recall  f1-score   support\n",
      "\n",
      "           0       0.90      0.90      0.90   5705020\n",
      "           1       0.30      0.31      0.31    799778\n",
      "\n",
      "    accuracy                           0.83   6504798\n",
      "   macro avg       0.60      0.61      0.60   6504798\n",
      "weighted avg       0.83      0.83      0.83   6504798\n",
      "\n",
      "F1 Binary: 0.3080\n",
      "F1 Macro: 0.6044\n",
      "F1 Weighted: 0.8279\n",
      "ROC AUC: 0.6062\n"
     ]
    }
   ],
   "execution_count": 51
  },
  {
   "metadata": {
    "ExecuteTime": {
     "end_time": "2025-04-15T19:13:51.060595Z",
     "start_time": "2025-04-15T19:10:20.948268Z"
    }
   },
   "cell_type": "code",
   "source": [
    "# Random Forest\n",
    "rf_model.fit(X_res, y_res)\n",
    "evaluate_model(rf_model, \"Random Forest\", X_test, y_test)"
   ],
   "id": "a9448b38ca621f6a",
   "outputs": [
    {
     "name": "stdout",
     "output_type": "stream",
     "text": [
      "\n",
      "--- Random Forest ---\n"
     ]
    },
    {
     "data": {
      "text/plain": [
       "<Figure size 600x400 with 2 Axes>"
      ],
      "image/png": "[encoded data removed]"
     },
     "metadata": {},
     "output_type": "display_data"
    },
    {
     "name": "stdout",
     "output_type": "stream",
     "text": [
      "              precision    recall  f1-score   support\n",
      "\n",
      "           0       0.92      0.86      0.89   5705020\n",
      "           1       0.33      0.49      0.39    799778\n",
      "\n",
      "    accuracy                           0.81   6504798\n",
      "   macro avg       0.63      0.67      0.64   6504798\n",
      "weighted avg       0.85      0.81      0.83   6504798\n",
      "\n",
      "F1 Binary: 0.3921\n",
      "F1 Macro: 0.6412\n",
      "F1 Weighted: 0.8290\n",
      "ROC AUC: 0.6737\n"
     ]
    }
   ],
   "execution_count": 59
  },
  {
   "metadata": {
    "ExecuteTime": {
     "end_time": "2025-04-15T18:41:43.042987Z",
     "start_time": "2025-04-15T18:41:25.921331Z"
    }
   },
   "cell_type": "code",
   "source": [
    "# XGBoost\n",
    "xgb_model.fit(X_res, y_res)\n",
    "evaluate_model(xgb_model, \"XGBoost\", X_test, y_test)"
   ],
   "id": "f060c64ed2ce7f41",
   "outputs": [
    {
     "name": "stderr",
     "output_type": "stream",
     "text": [
      "C:\\Users\\shkva\\AppData\\Local\\Packages\\PythonSoftwareFoundation.Python.3.11_qbz5n2kfra8p0\\LocalCache\\local-packages\\Python311\\site-packages\\xgboost\\training.py:183: UserWarning: [21:41:26] WARNING: C:\\actions-runner\\_work\\xgboost\\xgboost\\src\\learner.cc:738: \n",
      "Parameters: { \"use_label_encoder\" } are not used.\n",
      "\n",
      "  bst.update(dtrain, iteration=i, fobj=obj)\n"
     ]
    },
    {
     "name": "stdout",
     "output_type": "stream",
     "text": [
      "\n",
      "--- XGBoost ---\n"
     ]
    },
    {
     "data": {
      "text/plain": [
       "<Figure size 600x400 with 2 Axes>"
      ],
      "image/png": "[encoded data removed]"
     },
     "metadata": {},
     "output_type": "display_data"
    },
    {
     "name": "stdout",
     "output_type": "stream",
     "text": [
      "              precision    recall  f1-score   support\n",
      "\n",
      "           0       0.96      0.78      0.86   5705020\n",
      "           1       0.32      0.75      0.45    799778\n",
      "\n",
      "    accuracy                           0.78   6504798\n",
      "   macro avg       0.64      0.76      0.65   6504798\n",
      "weighted avg       0.88      0.78      0.81   6504798\n",
      "\n",
      "F1 Binary: 0.4506\n",
      "F1 Macro: 0.6548\n",
      "F1 Weighted: 0.8088\n",
      "ROC AUC: 0.7640\n"
     ]
    }
   ],
   "execution_count": 53
  },
  {
   "metadata": {
    "ExecuteTime": {
     "end_time": "2025-04-15T18:42:34.281854Z",
     "start_time": "2025-04-15T18:41:48.816579Z"
    }
   },
   "cell_type": "code",
   "source": [
    "# LightGBM\n",
    "lgb_model.fit(X_res, y_res)\n",
    "evaluate_model(lgb_model, \"LightGBM\", X_test, y_test)"
   ],
   "id": "6d8c76047a19350f",
   "outputs": [
    {
     "name": "stdout",
     "output_type": "stream",
     "text": [
      "[LightGBM] [Info] Number of positive: 87694, number of negative: 87694\n",
      "[LightGBM] [Info] Auto-choosing row-wise multi-threading, the overhead of testing was 0.047623 seconds.\n",
      "You can set `force_row_wise=true` to remove the overhead.\n",
      "And if memory is not enough, you can set `force_col_wise=true`.\n",
      "[LightGBM] [Info] Total Bins 1017\n",
      "[LightGBM] [Info] Number of data points in the train set: 175388, number of used features: 129\n",
      "[LightGBM] [Info] [binary:BoostFromScore]: pavg=0.500000 -> initscore=0.000000\n",
      "\n",
      "--- LightGBM ---\n"
     ]
    },
    {
     "data": {
      "text/plain": [
       "<Figure size 600x400 with 2 Axes>"
      ],
      "image/png": "[encoded data removed]"
     },
     "metadata": {},
     "output_type": "display_data"
    },
    {
     "name": "stdout",
     "output_type": "stream",
     "text": [
      "              precision    recall  f1-score   support\n",
      "\n",
      "           0       0.95      0.81      0.87   5705020\n",
      "           1       0.34      0.69      0.45    799778\n",
      "\n",
      "    accuracy                           0.80   6504798\n",
      "   macro avg       0.64      0.75      0.66   6504798\n",
      "weighted avg       0.87      0.80      0.82   6504798\n",
      "\n",
      "F1 Binary: 0.4548\n",
      "F1 Macro: 0.6648\n",
      "F1 Weighted: 0.8231\n",
      "ROC AUC: 0.7511\n"
     ]
    }
   ],
   "execution_count": 54
  },
  {
   "metadata": {},
   "cell_type": "markdown",
   "source": "Сравнительная таблица моделей",
   "id": "711e35b1edfa44a5"
  },
  {
   "metadata": {
    "ExecuteTime": {
     "end_time": "2025-04-15T19:14:19.221633Z",
     "start_time": "2025-04-15T19:14:19.201474Z"
    }
   },
   "cell_type": "code",
   "source": "display_model_comparison()",
   "id": "68ac9baa42bcb55e",
   "outputs": [
    {
     "name": "stdout",
     "output_type": "stream",
     "text": [
      "\n",
      "--- Model Comparison ---\n"
     ]
    },
    {
     "data": {
      "text/plain": [
       "                 Model  F1 Binary  F1 Macro  F1 Weighted   ROC AUC  Precision  \\\n",
       "2        Random Forest   0.390386  0.640746     0.829541  0.671625   0.328404   \n",
       "5        Random Forest   0.392083  0.641181     0.829026  0.673722   0.327879   \n",
       "1        Decision Tree   0.308043  0.604411     0.827901  0.606227   0.302123   \n",
       "4             LightGBM   0.454837  0.664773     0.823084  0.751133   0.338908   \n",
       "3              XGBoost   0.450621  0.654793     0.808759  0.763994   0.322308   \n",
       "0  Logistic Regression   0.436758  0.624338     0.765792  0.791623   0.289465   \n",
       "\n",
       "     Recall  \n",
       "2  0.481206  \n",
       "5  0.487554  \n",
       "1  0.314200  \n",
       "4  0.691311  \n",
       "3  0.748669  \n",
       "0  0.889249  "
      ],
      "text/html": [
       "<div>\n",
       "<style scoped>\n",
       "    .dataframe tbody tr th:only-of-type {\n",
       "        vertical-align: middle;\n",
       "    }\n",
       "\n",
       "    .dataframe tbody tr th {\n",
       "        vertical-align: top;\n",
       "    }\n",
       "\n",
       "    .dataframe thead th {\n",
       "        text-align: right;\n",
       "    }\n",
       "</style>\n",
       "<table border=\"1\" class=\"dataframe\">\n",
       "  <thead>\n",
       "    <tr style=\"text-align: right;\">\n",
       "      <th></th>\n",
       "      <th>Model</th>\n",
       "      <th>F1 Binary</th>\n",
       "      <th>F1 Macro</th>\n",
       "      <th>F1 Weighted</th>\n",
       "      <th>ROC AUC</th>\n",
       "      <th>Precision</th>\n",
       "      <th>Recall</th>\n",
       "    </tr>\n",
       "  </thead>\n",
       "  <tbody>\n",
       "    <tr>\n",
       "      <th>2</th>\n",
       "      <td>Random Forest</td>\n",
       "      <td>0.390386</td>\n",
       "      <td>0.640746</td>\n",
       "      <td>0.829541</td>\n",
       "      <td>0.671625</td>\n",
       "      <td>0.328404</td>\n",
       "      <td>0.481206</td>\n",
       "    </tr>\n",
       "    <tr>\n",
       "      <th>5</th>\n",
       "      <td>Random Forest</td>\n",
       "      <td>0.392083</td>\n",
       "      <td>0.641181</td>\n",
       "      <td>0.829026</td>\n",
       "      <td>0.673722</td>\n",
       "      <td>0.327879</td>\n",
       "      <td>0.487554</td>\n",
       "    </tr>\n",
       "    <tr>\n",
       "      <th>1</th>\n",
       "      <td>Decision Tree</td>\n",
       "      <td>0.308043</td>\n",
       "      <td>0.604411</td>\n",
       "      <td>0.827901</td>\n",
       "      <td>0.606227</td>\n",
       "      <td>0.302123</td>\n",
       "      <td>0.314200</td>\n",
       "    </tr>\n",
       "    <tr>\n",
       "      <th>4</th>\n",
       "      <td>LightGBM</td>\n",
       "      <td>0.454837</td>\n",
       "      <td>0.664773</td>\n",
       "      <td>0.823084</td>\n",
       "      <td>0.751133</td>\n",
       "      <td>0.338908</td>\n",
       "      <td>0.691311</td>\n",
       "    </tr>\n",
       "    <tr>\n",
       "      <th>3</th>\n",
       "      <td>XGBoost</td>\n",
       "      <td>0.450621</td>\n",
       "      <td>0.654793</td>\n",
       "      <td>0.808759</td>\n",
       "      <td>0.763994</td>\n",
       "      <td>0.322308</td>\n",
       "      <td>0.748669</td>\n",
       "    </tr>\n",
       "    <tr>\n",
       "      <th>0</th>\n",
       "      <td>Logistic Regression</td>\n",
       "      <td>0.436758</td>\n",
       "      <td>0.624338</td>\n",
       "      <td>0.765792</td>\n",
       "      <td>0.791623</td>\n",
       "      <td>0.289465</td>\n",
       "      <td>0.889249</td>\n",
       "    </tr>\n",
       "  </tbody>\n",
       "</table>\n",
       "</div>"
      ]
     },
     "metadata": {},
     "output_type": "display_data"
    }
   ],
   "execution_count": 60
  }
 ],
 "metadata": {
  "language_info": {
   "name": "python"
  },
  "kernelspec": {
   "name": "python3",
   "language": "python",
   "display_name": "Python 3 (ipykernel)"
  }
 },
 "nbformat": 4,
 "nbformat_minor": 5
}
