{
 "cells": [
  {
   "cell_type": "code",
   "execution_count": null,
   "id": "ee5e94b87c5c5a64",
   "metadata": {
    "ExecuteTime": {
     "end_time": "2025-04-15T17:14:29.234472Z",
     "start_time": "2025-04-15T17:14:28.408881Z"
    }
   },
   "outputs": [],
   "source": [
    "import numpy as np\n",
    "import pandas as pd\n",
    "import matplotlib.pyplot as plt\n",
    "import seaborn as sns\n",
    "\n",
    "from sklearn.preprocessing import StandardScaler\n",
    "from sklearn.model_selection import train_test_split\n",
    "from sklearn.metrics import (\n",
    "    confusion_matrix, classification_report, f1_score, roc_auc_score, RocCurveDisplay\n",
    ")\n",
    "from sklearn.tree import DecisionTreeClassifier\n",
    "from sklearn.ensemble import RandomForestClassifier\n",
    "from sklearn.linear_model import LogisticRegression\n",
    "from sklearn.svm import SVC\n",
    "\n",
    "from xgboost import XGBClassifier\n",
    "from lightgbm import LGBMClassifier\n",
    "\n",
    "from imblearn.over_sampling import SMOTE"
   ]
  },
  {
   "cell_type": "code",
   "execution_count": 4,
   "id": "4b3dfec2",
   "metadata": {
    "ExecuteTime": {
     "end_time": "2025-04-15T17:14:42.873758Z",
     "start_time": "2025-04-15T17:14:31.289172Z"
    }
   },
   "outputs": [],
   "source": [
    "df = pd.read_csv('train.csv').drop('id', axis=1)\n",
    "df_test = pd.read_csv('test.csv').drop('id', axis=1)"
   ]
  },
  {
   "cell_type": "markdown",
   "id": "a4201c67639c49e6",
   "metadata": {},
   "source": [
    "Предработка: маппинг категорий"
   ]
  },
  {
   "cell_type": "code",
   "execution_count": 5,
   "id": "0f3ba821",
   "metadata": {
    "ExecuteTime": {
     "end_time": "2025-04-15T17:14:45.042241Z",
     "start_time": "2025-04-15T17:14:43.500871Z"
    }
   },
   "outputs": [],
   "source": [
    "v_age_mapping = {'< 1 Year': 0, '1-2 Year': 1, '> 2 Years': 2}\n",
    "v_damage_mapping = {'Yes': True, 'No': False}\n",
    "bool_mapping = {1: True, 0: False}\n",
    "\n",
    "df['Vehicle_Age'] = df['Vehicle_Age'].map(v_age_mapping)\n",
    "df_test['Vehicle_Age'] = df_test['Vehicle_Age'].map(v_age_mapping)\n",
    "\n",
    "df['Vehicle_Damage'] = df['Vehicle_Damage'].map(v_damage_mapping)\n",
    "df_test['Vehicle_Damage'] = df_test['Vehicle_Damage'].map(v_damage_mapping)\n",
    "\n",
    "df['Driving_License'] = df['Driving_License'].map(bool_mapping)\n",
    "df['Previously_Insured'] = df['Previously_Insured'].map(bool_mapping)\n",
    "df_test['Driving_License'] = df_test['Driving_License'].map(bool_mapping)\n",
    "df_test['Previously_Insured'] = df_test['Previously_Insured'].map(bool_mapping)"
   ]
  },
  {
   "cell_type": "markdown",
   "id": "67a1853dd99620c2",
   "metadata": {},
   "source": [
    " Категориальные признаки"
   ]
  },
  {
   "cell_type": "code",
   "execution_count": 6,
   "id": "139f02d6",
   "metadata": {
    "ExecuteTime": {
     "end_time": "2025-04-15T17:14:47.236745Z",
     "start_time": "2025-04-15T17:14:46.531721Z"
    }
   },
   "outputs": [],
   "source": [
    "df['Policy_Sales_Channel'] = df['Policy_Sales_Channel'].astype('object')\n",
    "df['Region_Code'] = df['Region_Code'].astype('object')\n",
    "df_test['Policy_Sales_Channel'] = df_test['Policy_Sales_Channel'].astype('object')\n",
    "df_test['Region_Code'] = df_test['Region_Code'].astype('object')"
   ]
  },
  {
   "cell_type": "markdown",
   "id": "bfa0f08278ae0e5f",
   "metadata": {},
   "source": [
    "Масштабирование числовых признаков\n"
   ]
  },
  {
   "cell_type": "code",
   "execution_count": 7,
   "id": "8af738708f9ecc1f",
   "metadata": {
    "ExecuteTime": {
     "end_time": "2025-04-15T17:14:50.061234Z",
     "start_time": "2025-04-15T17:14:48.502886Z"
    }
   },
   "outputs": [],
   "source": [
    "numerical_features = df.select_dtypes(exclude=['object', 'bool']).drop('Response', axis=1).columns\n",
    "\n",
    "scaler = StandardScaler()\n",
    "df[numerical_features] = scaler.fit_transform(df[numerical_features])\n",
    "df_test[numerical_features] = scaler.transform(df_test[numerical_features])"
   ]
  },
  {
   "cell_type": "markdown",
   "id": "c47e5c736bb96d7c",
   "metadata": {},
   "source": [
    "One-hot кодирование"
   ]
  },
  {
   "cell_type": "code",
   "execution_count": 8,
   "id": "7cea8d551899ca18",
   "metadata": {
    "ExecuteTime": {
     "end_time": "2025-04-15T17:14:59.295486Z",
     "start_time": "2025-04-15T17:14:51.374296Z"
    }
   },
   "outputs": [],
   "source": [
    "df = pd.get_dummies(df, drop_first=True)\n",
    "df_test = pd.get_dummies(df_test, drop_first=True)"
   ]
  },
  {
   "cell_type": "markdown",
   "id": "cd79efee9afd93a1",
   "metadata": {},
   "source": [
    "Выравнивание признаков train/test"
   ]
  },
  {
   "cell_type": "code",
   "execution_count": 9,
   "id": "7178fe37a9aba67f",
   "metadata": {
    "ExecuteTime": {
     "end_time": "2025-04-15T17:15:03.440393Z",
     "start_time": "2025-04-15T17:15:00.803033Z"
    }
   },
   "outputs": [],
   "source": [
    "train_cols = df.columns\n",
    "test_cols = df_test.columns\n",
    "missing_cols_train = set(test_cols) - set(train_cols)\n",
    "missing_cols_test = set(train_cols) - set(test_cols)\n",
    "\n",
    "df.drop(columns=missing_cols_test, inplace=True)\n",
    "df_test.drop(columns=missing_cols_train, inplace=True)"
   ]
  },
  {
   "cell_type": "markdown",
   "id": "1649292885eabb99",
   "metadata": {},
   "source": [
    "Создание X, y"
   ]
  },
  {
   "cell_type": "code",
   "execution_count": 10,
   "id": "c777b27e9302d442",
   "metadata": {
    "ExecuteTime": {
     "end_time": "2025-04-15T17:15:06.248373Z",
     "start_time": "2025-04-15T17:15:04.026629Z"
    }
   },
   "outputs": [],
   "source": [
    "X_train = df.drop('Response', axis=1)\n",
    "y_train = df['Response']\n",
    "X_test = df_test.drop('Response', axis=1)\n",
    "y_test = df_test['Response']"
   ]
  },
  {
   "cell_type": "markdown",
   "id": "39e4e65984124b72",
   "metadata": {},
   "source": [
    "Удалим Vehicle_Age"
   ]
  },
  {
   "cell_type": "code",
   "execution_count": 11,
   "id": "4a6b292d261ad2d1",
   "metadata": {
    "ExecuteTime": {
     "end_time": "2025-04-15T17:15:10.217051Z",
     "start_time": "2025-04-15T17:15:06.862277Z"
    }
   },
   "outputs": [],
   "source": [
    "X_train = X_train.drop('Vehicle_Age', axis=1)\n",
    "X_test = X_test.drop('Vehicle_Age', axis=1)"
   ]
  },
  {
   "cell_type": "markdown",
   "id": "bdfba197b1c09d6",
   "metadata": {},
   "source": [
    "Балансировка классов (SMOTE)"
   ]
  },
  {
   "cell_type": "code",
   "execution_count": 13,
   "id": "9f6e60460d55270f",
   "metadata": {
    "ExecuteTime": {
     "end_time": "2025-04-15T19:09:56.832346Z",
     "start_time": "2025-04-15T19:09:43.297092Z"
    }
   },
   "outputs": [],
   "source": [
    "# уменьшим X_train до 100k перед SMOTE\n",
    "X_small, _, y_small, _ = train_test_split(X_train, y_train, train_size=200_000, stratify=y_train, random_state=37)\n",
    "\n",
    "# Применим SMOTE только к уменьшенному\n",
    "X_res, y_res = SMOTE(random_state=37).fit_resample(X_small, y_small)"
   ]
  },
  {
   "cell_type": "markdown",
   "id": "7a22c04f748a5321",
   "metadata": {},
   "source": [
    "Функция для оценки моделей"
   ]
  },
  {
   "cell_type": "code",
   "execution_count": 15,
   "id": "cadf4033e009adc2",
   "metadata": {
    "ExecuteTime": {
     "end_time": "2025-04-15T18:34:09.211770Z",
     "start_time": "2025-04-15T18:34:09.191614Z"
    }
   },
   "outputs": [],
   "source": [
    "model_scores = []\n",
    "\n",
    "# Функция для оценки модели и сохранения метрик\n",
    "def evaluate_model(model, name, X_test, y_test):\n",
    "    print(f\"\\n--- {name} ---\")\n",
    "    y_pred = model.predict(X_test)\n",
    "\n",
    "    # Матрица ошибок\n",
    "    cm = confusion_matrix(y_test, y_pred)\n",
    "    plt.figure(figsize=(6, 4))\n",
    "    sns.heatmap(cm, annot=True, fmt='d', cmap='Blues',\n",
    "                xticklabels=['Not Interested', 'Interested'],\n",
    "                yticklabels=['Not Interested', 'Interested'])\n",
    "    plt.title(f'Confusion Matrix: {name}')\n",
    "    plt.xlabel('Predicted')\n",
    "    plt.ylabel('Actual')\n",
    "    plt.show()\n",
    "\n",
    "    # Классификационный отчёт\n",
    "    report = classification_report(y_test, y_pred, output_dict=True)\n",
    "\n",
    "    # Все типы F1\n",
    "    f1_binary = f1_score(y_test, y_pred, average='binary')\n",
    "    f1_macro = f1_score(y_test, y_pred, average='macro')\n",
    "    f1_weighted = f1_score(y_test, y_pred, average='weighted')\n",
    "    roc = roc_auc_score(y_test, y_pred)\n",
    "\n",
    "    print(classification_report(y_test, y_pred))\n",
    "    print(f\"F1 Binary: {f1_binary:.4f}\")\n",
    "    print(f\"F1 Macro: {f1_macro:.4f}\")\n",
    "    print(f\"F1 Weighted: {f1_weighted:.4f}\")\n",
    "    print(f\"ROC AUC: {roc:.4f}\")\n",
    "\n",
    "    # Сохраняем метрики\n",
    "    model_scores.append({\n",
    "        'Model': name,\n",
    "        'F1 Binary': f1_binary,\n",
    "        'F1 Macro': f1_macro,\n",
    "        'F1 Weighted': f1_weighted,\n",
    "        'ROC AUC': roc,\n",
    "        'Precision': report['1']['precision'],\n",
    "        'Recall': report['1']['recall']\n",
    "    })"
   ]
  },
  {
   "cell_type": "markdown",
   "id": "bc54a4ca941427b4",
   "metadata": {},
   "source": [
    "Обучение моделей"
   ]
  },
  {
   "cell_type": "code",
   "execution_count": 59,
   "id": "38f48ce015a5204d",
   "metadata": {
    "ExecuteTime": {
     "end_time": "2025-04-15T18:34:13.576551Z",
     "start_time": "2025-04-15T18:34:13.560418Z"
    }
   },
   "outputs": [],
   "source": [
    "# LightGBM\n",
    "lgb_model = LGBMClassifier(random_state=37, n_estimators=200, num_leaves=11, reg_lambda=0.05, reg_alpha=0.1, boosting_type='goss')"
   ]
  },
  {
   "cell_type": "code",
   "execution_count": 17,
   "id": "ee5a821929130848",
   "metadata": {
    "ExecuteTime": {
     "end_time": "2025-04-15T18:34:19.725066Z",
     "start_time": "2025-04-15T18:34:19.711212Z"
    }
   },
   "outputs": [],
   "source": [
    "def display_model_comparison():\n",
    "    results_df = pd.DataFrame(model_scores)\n",
    "    print(\"\\n--- Model Comparison ---\")\n",
    "    display(results_df.sort_values(by='F1 Weighted', ascending=False))"
   ]
  },
  {
   "cell_type": "markdown",
   "id": "19bb00317dd0ce09",
   "metadata": {},
   "source": [
    "Тестирование моделей"
   ]
  },
  {
   "cell_type": "code",
   "execution_count": 60,
   "id": "6d8c76047a19350f",
   "metadata": {
    "ExecuteTime": {
     "end_time": "2025-04-15T18:42:34.281854Z",
     "start_time": "2025-04-15T18:41:48.816579Z"
    }
   },
   "outputs": [
    {
     "name": "stdout",
     "output_type": "stream",
     "text": [
      "[LightGBM] [Warning] Found boosting=goss. For backwards compatibility reasons, LightGBM interprets this as boosting=gbdt, data_sample_strategy=goss.To suppress this warning, set data_sample_strategy=goss instead.\n",
      "[LightGBM] [Warning] Found boosting=goss. For backwards compatibility reasons, LightGBM interprets this as boosting=gbdt, data_sample_strategy=goss.To suppress this warning, set data_sample_strategy=goss instead.\n",
      "[LightGBM] [Info] Number of positive: 175389, number of negative: 175389\n",
      "[LightGBM] [Info] Auto-choosing row-wise multi-threading, the overhead of testing was 0,086351 seconds.\n",
      "You can set `force_row_wise=true` to remove the overhead.\n",
      "And if memory is not enough, you can set `force_col_wise=true`.\n",
      "[LightGBM] [Info] Total Bins 1035\n",
      "[LightGBM] [Info] Number of data points in the train set: 350778, number of used features: 138\n",
      "[LightGBM] [Info] Using GOSS\n",
      "[LightGBM] [Info] [binary:BoostFromScore]: pavg=0,500000 -> initscore=0,000000\n",
      "\n",
      "--- LightGBM ---\n",
      "[LightGBM] [Warning] Found boosting=goss. For backwards compatibility reasons, LightGBM interprets this as boosting=gbdt, data_sample_strategy=goss.To suppress this warning, set data_sample_strategy=goss instead.\n"
     ]
    },
    {
     "data": {
      "image/png": "[encoded data removed]",
      "text/plain": [
       "<Figure size 600x400 with 2 Axes>"
      ]
     },
     "metadata": {},
     "output_type": "display_data"
    },
    {
     "name": "stdout",
     "output_type": "stream",
     "text": [
      "              precision    recall  f1-score   support\n",
      "\n",
      "           0       0.96      0.77      0.86   5705020\n",
      "           1       0.32      0.78      0.46    799778\n",
      "\n",
      "    accuracy                           0.77   6504798\n",
      "   macro avg       0.64      0.78      0.66   6504798\n",
      "weighted avg       0.88      0.77      0.81   6504798\n",
      "\n",
      "F1 Binary: 0.4569\n",
      "F1 Macro: 0.6562\n",
      "F1 Weighted: 0.8064\n",
      "ROC AUC: 0.7758\n"
     ]
    }
   ],
   "source": [
    "# LightGBM\n",
    "lgb_model.fit(X_res, y_res)\n",
    "evaluate_model(lgb_model, \"LightGBM\", X_test, y_test)"
   ]
  },
  {
   "cell_type": "code",
   "execution_count": 62,
   "id": "2e2850a4",
   "metadata": {},
   "outputs": [],
   "source": [
    "import pickle\n",
    "\n",
    "with open('lgb_BEST.pkl', 'wb') as f:\n",
    "    pickle.dump({'model': lgb_model, 'scaler': scaler}, f)"
   ]
  }
 ],
 "metadata": {
  "kernelspec": {
   "display_name": "Python 3",
   "language": "python",
   "name": "python3"
  },
  "language_info": {
   "codemirror_mode": {
    "name": "ipython",
    "version": 3
   },
   "file_extension": ".py",
   "mimetype": "text/x-python",
   "name": "python",
   "nbconvert_exporter": "python",
   "pygments_lexer": "ipython3",
   "version": "3.12.6"
  }
 },
 "nbformat": 4,
 "nbformat_minor": 5
}
