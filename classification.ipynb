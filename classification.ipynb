{
 "cells": [
  {
   "cell_type": "code",
   "execution_count": 35,
   "metadata": {},
   "outputs": [],
   "source": [
    "import numpy as np\n",
    "import pandas as pd\n",
    "import matplotlib.pyplot as plt\n",
    "import seaborn as sns\n",
    "from sklearn.preprocessing import StandardScaler\n",
    "from sklearn.model_selection import train_test_split, GridSearchCV\n",
    "from sklearn.tree import DecisionTreeClassifier\n",
    "from sklearn.ensemble import RandomForestClassifier\n",
    "from sklearn.neighbors import KNeighborsClassifier\n",
    "from sklearn.svm import SVC\n",
    "from sklearn.metrics import confusion_matrix, classification_report, f1_score, roc_auc_score\n",
    "from sklearn.inspection import permutation_importance\n",
    "from sklearn.linear_model import LogisticRegression"
   ]
  },
  {
   "cell_type": "markdown",
   "metadata": {},
   "source": [
    "# Описание датасета (взято с kaggle)\n",
    "\n",
    "id\t(continous)\tУникальный идентификатор Клиента.\n",
    "\n",
    "Age\t(continous)\tВозраст клиента.\n",
    "\n",
    "Gender\t(dichotomous)\tПол клиента.\n",
    "\n",
    "Driving_License\t(dichotomous)\t0 для клиента, у которого нет водительских прав, 1 для клиента, у которого есть водительские права.\n",
    "\n",
    "Region_Code\t(nominal)\tУникальный код для региона клиента.\n",
    "\n",
    "Previously_Insured\t(dichotomous)\t0 для клиента, не имеющего страховки на транспортное средство, 1 для клиента, имеющего страховку на транспортное средство.\n",
    "\n",
    "Vehicle_Age\t(nominal)\tВозраст транспортного средства.\n",
    "\n",
    "Vehicle_Damage\t(dichotomous)\t1: В прошлом у клиента был поврежден автомобиль. 0: В прошлом у клиента не было повреждений автомобиля.\n",
    "\n",
    "Annual_Premium\t(continous)\tСумма, которую клиент должен заплатить в качестве взноса в течение года.\n",
    "\n",
    "Policy_Sales_Channel\t(nominal)\tАнонимизированный код для канала связи с клиентом, т.е. Различные агенты, по почте, телефону, лично и т.д.\n",
    "\n",
    "Vintage\t(continous)\tКоличество дней, в течение которых Клиент был связан с компанией.\n",
    "\n",
    "Response (Dependent Feature)\t(dichotomous)\t1 означает, что Клиент заинтересован, 0 - что Клиент не заинтересован."
   ]
  },
  {
   "cell_type": "code",
   "execution_count": 2,
   "metadata": {},
   "outputs": [
    {
     "data": {
      "application/vnd.microsoft.datawrangler.viewer.v0+json": {
       "columns": [
        {
         "name": "index",
         "rawType": "int64",
         "type": "integer"
        },
        {
         "name": "id",
         "rawType": "int64",
         "type": "integer"
        },
        {
         "name": "Gender",
         "rawType": "object",
         "type": "string"
        },
        {
         "name": "Age",
         "rawType": "int64",
         "type": "integer"
        },
        {
         "name": "Driving_License",
         "rawType": "int64",
         "type": "integer"
        },
        {
         "name": "Region_Code",
         "rawType": "float64",
         "type": "float"
        },
        {
         "name": "Previously_Insured",
         "rawType": "int64",
         "type": "integer"
        },
        {
         "name": "Vehicle_Age",
         "rawType": "object",
         "type": "string"
        },
        {
         "name": "Vehicle_Damage",
         "rawType": "object",
         "type": "string"
        },
        {
         "name": "Annual_Premium",
         "rawType": "float64",
         "type": "float"
        },
        {
         "name": "Policy_Sales_Channel",
         "rawType": "float64",
         "type": "float"
        },
        {
         "name": "Vintage",
         "rawType": "int64",
         "type": "integer"
        },
        {
         "name": "Response",
         "rawType": "int64",
         "type": "integer"
        }
       ],
       "conversionMethod": "pd.DataFrame",
       "ref": "2c3be8c6-615c-4a3c-a8b4-202bd575b3a1",
       "rows": [
        [
         "0",
         "0",
         "Male",
         "21",
         "1",
         "35.0",
         "0",
         "1-2 Year",
         "Yes",
         "65101.0",
         "124.0",
         "187",
         "0"
        ],
        [
         "1",
         "1",
         "Male",
         "43",
         "1",
         "28.0",
         "0",
         "> 2 Years",
         "Yes",
         "58911.0",
         "26.0",
         "288",
         "1"
        ],
        [
         "2",
         "2",
         "Female",
         "25",
         "1",
         "14.0",
         "1",
         "< 1 Year",
         "No",
         "38043.0",
         "152.0",
         "254",
         "0"
        ],
        [
         "3",
         "3",
         "Female",
         "35",
         "1",
         "1.0",
         "0",
         "1-2 Year",
         "Yes",
         "2630.0",
         "156.0",
         "76",
         "0"
        ],
        [
         "4",
         "4",
         "Female",
         "36",
         "1",
         "15.0",
         "1",
         "1-2 Year",
         "No",
         "31951.0",
         "152.0",
         "294",
         "0"
        ]
       ],
       "shape": {
        "columns": 12,
        "rows": 5
       }
      },
      "text/html": [
       "<div>\n",
       "<style scoped>\n",
       "    .dataframe tbody tr th:only-of-type {\n",
       "        vertical-align: middle;\n",
       "    }\n",
       "\n",
       "    .dataframe tbody tr th {\n",
       "        vertical-align: top;\n",
       "    }\n",
       "\n",
       "    .dataframe thead th {\n",
       "        text-align: right;\n",
       "    }\n",
       "</style>\n",
       "<table border=\"1\" class=\"dataframe\">\n",
       "  <thead>\n",
       "    <tr style=\"text-align: right;\">\n",
       "      <th></th>\n",
       "      <th>id</th>\n",
       "      <th>Gender</th>\n",
       "      <th>Age</th>\n",
       "      <th>Driving_License</th>\n",
       "      <th>Region_Code</th>\n",
       "      <th>Previously_Insured</th>\n",
       "      <th>Vehicle_Age</th>\n",
       "      <th>Vehicle_Damage</th>\n",
       "      <th>Annual_Premium</th>\n",
       "      <th>Policy_Sales_Channel</th>\n",
       "      <th>Vintage</th>\n",
       "      <th>Response</th>\n",
       "    </tr>\n",
       "  </thead>\n",
       "  <tbody>\n",
       "    <tr>\n",
       "      <th>0</th>\n",
       "      <td>0</td>\n",
       "      <td>Male</td>\n",
       "      <td>21</td>\n",
       "      <td>1</td>\n",
       "      <td>35.0</td>\n",
       "      <td>0</td>\n",
       "      <td>1-2 Year</td>\n",
       "      <td>Yes</td>\n",
       "      <td>65101.0</td>\n",
       "      <td>124.0</td>\n",
       "      <td>187</td>\n",
       "      <td>0</td>\n",
       "    </tr>\n",
       "    <tr>\n",
       "      <th>1</th>\n",
       "      <td>1</td>\n",
       "      <td>Male</td>\n",
       "      <td>43</td>\n",
       "      <td>1</td>\n",
       "      <td>28.0</td>\n",
       "      <td>0</td>\n",
       "      <td>&gt; 2 Years</td>\n",
       "      <td>Yes</td>\n",
       "      <td>58911.0</td>\n",
       "      <td>26.0</td>\n",
       "      <td>288</td>\n",
       "      <td>1</td>\n",
       "    </tr>\n",
       "    <tr>\n",
       "      <th>2</th>\n",
       "      <td>2</td>\n",
       "      <td>Female</td>\n",
       "      <td>25</td>\n",
       "      <td>1</td>\n",
       "      <td>14.0</td>\n",
       "      <td>1</td>\n",
       "      <td>&lt; 1 Year</td>\n",
       "      <td>No</td>\n",
       "      <td>38043.0</td>\n",
       "      <td>152.0</td>\n",
       "      <td>254</td>\n",
       "      <td>0</td>\n",
       "    </tr>\n",
       "    <tr>\n",
       "      <th>3</th>\n",
       "      <td>3</td>\n",
       "      <td>Female</td>\n",
       "      <td>35</td>\n",
       "      <td>1</td>\n",
       "      <td>1.0</td>\n",
       "      <td>0</td>\n",
       "      <td>1-2 Year</td>\n",
       "      <td>Yes</td>\n",
       "      <td>2630.0</td>\n",
       "      <td>156.0</td>\n",
       "      <td>76</td>\n",
       "      <td>0</td>\n",
       "    </tr>\n",
       "    <tr>\n",
       "      <th>4</th>\n",
       "      <td>4</td>\n",
       "      <td>Female</td>\n",
       "      <td>36</td>\n",
       "      <td>1</td>\n",
       "      <td>15.0</td>\n",
       "      <td>1</td>\n",
       "      <td>1-2 Year</td>\n",
       "      <td>No</td>\n",
       "      <td>31951.0</td>\n",
       "      <td>152.0</td>\n",
       "      <td>294</td>\n",
       "      <td>0</td>\n",
       "    </tr>\n",
       "  </tbody>\n",
       "</table>\n",
       "</div>"
      ],
      "text/plain": [
       "   id  Gender  Age  Driving_License  Region_Code  Previously_Insured  \\\n",
       "0   0    Male   21                1         35.0                   0   \n",
       "1   1    Male   43                1         28.0                   0   \n",
       "2   2  Female   25                1         14.0                   1   \n",
       "3   3  Female   35                1          1.0                   0   \n",
       "4   4  Female   36                1         15.0                   1   \n",
       "\n",
       "  Vehicle_Age Vehicle_Damage  Annual_Premium  Policy_Sales_Channel  Vintage  \\\n",
       "0    1-2 Year            Yes         65101.0                 124.0      187   \n",
       "1   > 2 Years            Yes         58911.0                  26.0      288   \n",
       "2    < 1 Year             No         38043.0                 152.0      254   \n",
       "3    1-2 Year            Yes          2630.0                 156.0       76   \n",
       "4    1-2 Year             No         31951.0                 152.0      294   \n",
       "\n",
       "   Response  \n",
       "0         0  \n",
       "1         1  \n",
       "2         0  \n",
       "3         0  \n",
       "4         0  "
      ]
     },
     "execution_count": 2,
     "metadata": {},
     "output_type": "execute_result"
    }
   ],
   "source": [
    "df = pd.read_csv('train.csv')\n",
    "df.head()"
   ]
  },
  {
   "cell_type": "code",
   "execution_count": 3,
   "metadata": {},
   "outputs": [
    {
     "data": {
      "application/vnd.microsoft.datawrangler.viewer.v0+json": {
       "columns": [
        {
         "name": "index",
         "rawType": "int64",
         "type": "integer"
        },
        {
         "name": "id",
         "rawType": "int64",
         "type": "integer"
        },
        {
         "name": "Gender",
         "rawType": "object",
         "type": "string"
        },
        {
         "name": "Age",
         "rawType": "int64",
         "type": "integer"
        },
        {
         "name": "Driving_License",
         "rawType": "int64",
         "type": "integer"
        },
        {
         "name": "Region_Code",
         "rawType": "float64",
         "type": "float"
        },
        {
         "name": "Previously_Insured",
         "rawType": "int64",
         "type": "integer"
        },
        {
         "name": "Vehicle_Age",
         "rawType": "object",
         "type": "string"
        },
        {
         "name": "Vehicle_Damage",
         "rawType": "object",
         "type": "string"
        },
        {
         "name": "Annual_Premium",
         "rawType": "float64",
         "type": "float"
        },
        {
         "name": "Policy_Sales_Channel",
         "rawType": "float64",
         "type": "float"
        },
        {
         "name": "Vintage",
         "rawType": "int64",
         "type": "integer"
        },
        {
         "name": "Response",
         "rawType": "int64",
         "type": "integer"
        }
       ],
       "conversionMethod": "pd.DataFrame",
       "ref": "293708f5-f209-4aa1-9b4a-a7dc480f8ff9",
       "rows": [
        [
         "0",
         "5000000",
         "Female",
         "44",
         "1",
         "36.0",
         "1",
         "1-2 Year",
         "No",
         "2630.0",
         "152.0",
         "182",
         "0"
        ],
        [
         "1",
         "5000001",
         "Male",
         "61",
         "1",
         "28.0",
         "0",
         "> 2 Years",
         "Yes",
         "41372.0",
         "30.0",
         "77",
         "1"
        ],
        [
         "2",
         "5000002",
         "Male",
         "44",
         "1",
         "0.0",
         "1",
         "1-2 Year",
         "No",
         "2630.0",
         "122.0",
         "107",
         "0"
        ],
        [
         "3",
         "5000003",
         "Male",
         "25",
         "1",
         "28.0",
         "0",
         "< 1 Year",
         "No",
         "2630.0",
         "152.0",
         "248",
         "0"
        ],
        [
         "4",
         "5000004",
         "Female",
         "26",
         "1",
         "2.0",
         "1",
         "< 1 Year",
         "No",
         "38414.0",
         "160.0",
         "24",
         "0"
        ]
       ],
       "shape": {
        "columns": 12,
        "rows": 5
       }
      },
      "text/html": [
       "<div>\n",
       "<style scoped>\n",
       "    .dataframe tbody tr th:only-of-type {\n",
       "        vertical-align: middle;\n",
       "    }\n",
       "\n",
       "    .dataframe tbody tr th {\n",
       "        vertical-align: top;\n",
       "    }\n",
       "\n",
       "    .dataframe thead th {\n",
       "        text-align: right;\n",
       "    }\n",
       "</style>\n",
       "<table border=\"1\" class=\"dataframe\">\n",
       "  <thead>\n",
       "    <tr style=\"text-align: right;\">\n",
       "      <th></th>\n",
       "      <th>id</th>\n",
       "      <th>Gender</th>\n",
       "      <th>Age</th>\n",
       "      <th>Driving_License</th>\n",
       "      <th>Region_Code</th>\n",
       "      <th>Previously_Insured</th>\n",
       "      <th>Vehicle_Age</th>\n",
       "      <th>Vehicle_Damage</th>\n",
       "      <th>Annual_Premium</th>\n",
       "      <th>Policy_Sales_Channel</th>\n",
       "      <th>Vintage</th>\n",
       "      <th>Response</th>\n",
       "    </tr>\n",
       "  </thead>\n",
       "  <tbody>\n",
       "    <tr>\n",
       "      <th>0</th>\n",
       "      <td>5000000</td>\n",
       "      <td>Female</td>\n",
       "      <td>44</td>\n",
       "      <td>1</td>\n",
       "      <td>36.0</td>\n",
       "      <td>1</td>\n",
       "      <td>1-2 Year</td>\n",
       "      <td>No</td>\n",
       "      <td>2630.0</td>\n",
       "      <td>152.0</td>\n",
       "      <td>182</td>\n",
       "      <td>0</td>\n",
       "    </tr>\n",
       "    <tr>\n",
       "      <th>1</th>\n",
       "      <td>5000001</td>\n",
       "      <td>Male</td>\n",
       "      <td>61</td>\n",
       "      <td>1</td>\n",
       "      <td>28.0</td>\n",
       "      <td>0</td>\n",
       "      <td>&gt; 2 Years</td>\n",
       "      <td>Yes</td>\n",
       "      <td>41372.0</td>\n",
       "      <td>30.0</td>\n",
       "      <td>77</td>\n",
       "      <td>1</td>\n",
       "    </tr>\n",
       "    <tr>\n",
       "      <th>2</th>\n",
       "      <td>5000002</td>\n",
       "      <td>Male</td>\n",
       "      <td>44</td>\n",
       "      <td>1</td>\n",
       "      <td>0.0</td>\n",
       "      <td>1</td>\n",
       "      <td>1-2 Year</td>\n",
       "      <td>No</td>\n",
       "      <td>2630.0</td>\n",
       "      <td>122.0</td>\n",
       "      <td>107</td>\n",
       "      <td>0</td>\n",
       "    </tr>\n",
       "    <tr>\n",
       "      <th>3</th>\n",
       "      <td>5000003</td>\n",
       "      <td>Male</td>\n",
       "      <td>25</td>\n",
       "      <td>1</td>\n",
       "      <td>28.0</td>\n",
       "      <td>0</td>\n",
       "      <td>&lt; 1 Year</td>\n",
       "      <td>No</td>\n",
       "      <td>2630.0</td>\n",
       "      <td>152.0</td>\n",
       "      <td>248</td>\n",
       "      <td>0</td>\n",
       "    </tr>\n",
       "    <tr>\n",
       "      <th>4</th>\n",
       "      <td>5000004</td>\n",
       "      <td>Female</td>\n",
       "      <td>26</td>\n",
       "      <td>1</td>\n",
       "      <td>2.0</td>\n",
       "      <td>1</td>\n",
       "      <td>&lt; 1 Year</td>\n",
       "      <td>No</td>\n",
       "      <td>38414.0</td>\n",
       "      <td>160.0</td>\n",
       "      <td>24</td>\n",
       "      <td>0</td>\n",
       "    </tr>\n",
       "  </tbody>\n",
       "</table>\n",
       "</div>"
      ],
      "text/plain": [
       "        id  Gender  Age  Driving_License  Region_Code  Previously_Insured  \\\n",
       "0  5000000  Female   44                1         36.0                   1   \n",
       "1  5000001    Male   61                1         28.0                   0   \n",
       "2  5000002    Male   44                1          0.0                   1   \n",
       "3  5000003    Male   25                1         28.0                   0   \n",
       "4  5000004  Female   26                1          2.0                   1   \n",
       "\n",
       "  Vehicle_Age Vehicle_Damage  Annual_Premium  Policy_Sales_Channel  Vintage  \\\n",
       "0    1-2 Year             No          2630.0                 152.0      182   \n",
       "1   > 2 Years            Yes         41372.0                  30.0       77   \n",
       "2    1-2 Year             No          2630.0                 122.0      107   \n",
       "3    < 1 Year             No          2630.0                 152.0      248   \n",
       "4    < 1 Year             No         38414.0                 160.0       24   \n",
       "\n",
       "   Response  \n",
       "0         0  \n",
       "1         1  \n",
       "2         0  \n",
       "3         0  \n",
       "4         0  "
      ]
     },
     "execution_count": 3,
     "metadata": {},
     "output_type": "execute_result"
    }
   ],
   "source": [
    "df_test = pd.read_csv('test.csv')\n",
    "df_test.head()"
   ]
  },
  {
   "cell_type": "code",
   "execution_count": 4,
   "metadata": {},
   "outputs": [],
   "source": [
    "# sns.pairplot(df)"
   ]
  },
  {
   "cell_type": "markdown",
   "metadata": {},
   "source": [
    "# Предобработка"
   ]
  },
  {
   "cell_type": "code",
   "execution_count": 5,
   "metadata": {},
   "outputs": [
    {
     "data": {
      "text/plain": [
       "Gender                   object\n",
       "Age                       int64\n",
       "Driving_License           int64\n",
       "Region_Code             float64\n",
       "Previously_Insured        int64\n",
       "Vehicle_Age              object\n",
       "Vehicle_Damage           object\n",
       "Annual_Premium          float64\n",
       "Policy_Sales_Channel    float64\n",
       "Vintage                   int64\n",
       "Response                  int64\n",
       "dtype: object"
      ]
     },
     "execution_count": 5,
     "metadata": {},
     "output_type": "execute_result"
    }
   ],
   "source": [
    "df = df.drop('id', axis=1) # Удаление бесполезного признака id\n",
    "df_test = df_test.drop('id', axis=1)\n",
    "df.dtypes"
   ]
  },
  {
   "cell_type": "code",
   "execution_count": 6,
   "metadata": {},
   "outputs": [
    {
     "name": "stdout",
     "output_type": "stream",
     "text": [
      "max train\n",
      " Gender                       Male\n",
      "Age                            85\n",
      "Driving_License                 1\n",
      "Region_Code                  52.0\n",
      "Previously_Insured              1\n",
      "Vehicle_Age             > 2 Years\n",
      "Vehicle_Damage                Yes\n",
      "Annual_Premium           540165.0\n",
      "Policy_Sales_Channel        163.0\n",
      "Vintage                       299\n",
      "Response                        1\n",
      "dtype: object\n",
      "\n",
      "min train\n",
      " Gender                    Female\n",
      "Age                           20\n",
      "Driving_License                0\n",
      "Region_Code                  0.0\n",
      "Previously_Insured             0\n",
      "Vehicle_Age             1-2 Year\n",
      "Vehicle_Damage                No\n",
      "Annual_Premium            2630.0\n",
      "Policy_Sales_Channel         1.0\n",
      "Vintage                       10\n",
      "Response                       0\n",
      "dtype: object\n",
      "\n",
      "max test\n",
      " Gender                       Male\n",
      "Age                            85\n",
      "Driving_License                 1\n",
      "Region_Code                  52.0\n",
      "Previously_Insured              1\n",
      "Vehicle_Age             > 2 Years\n",
      "Vehicle_Damage                Yes\n",
      "Annual_Premium           540165.0\n",
      "Policy_Sales_Channel        163.0\n",
      "Vintage                       299\n",
      "Response                        1\n",
      "dtype: object\n",
      "\n",
      "min test\n",
      " Gender                    Female\n",
      "Age                           20\n",
      "Driving_License                0\n",
      "Region_Code                  0.0\n",
      "Previously_Insured             0\n",
      "Vehicle_Age             1-2 Year\n",
      "Vehicle_Damage                No\n",
      "Annual_Premium            2630.0\n",
      "Policy_Sales_Channel         1.0\n",
      "Vintage                       10\n",
      "Response                       0\n",
      "dtype: object\n"
     ]
    }
   ],
   "source": [
    "print('max train\\n', df.max())\n",
    "print('\\nmin train\\n', df.min())\n",
    "print('\\nmax test\\n', df_test.max())\n",
    "print('\\nmin test\\n', df_test.min())"
   ]
  },
  {
   "cell_type": "code",
   "execution_count": 7,
   "metadata": {},
   "outputs": [
    {
     "data": {
      "text/plain": [
       "Response\n",
       "0    4384719\n",
       "1     615281\n",
       "Name: count, dtype: int64"
      ]
     },
     "execution_count": 7,
     "metadata": {},
     "output_type": "execute_result"
    }
   ],
   "source": [
    "df['Response'].value_counts()"
   ]
  },
  {
   "cell_type": "markdown",
   "metadata": {},
   "source": [
    "Виден дисбаланс, но пока забьем"
   ]
  },
  {
   "cell_type": "code",
   "execution_count": 8,
   "metadata": {},
   "outputs": [
    {
     "data": {
      "text/plain": [
       "<bound method Series.count of Gender                  0\n",
       "Age                     0\n",
       "Driving_License         0\n",
       "Region_Code             0\n",
       "Previously_Insured      0\n",
       "Vehicle_Age             0\n",
       "Vehicle_Damage          0\n",
       "Annual_Premium          0\n",
       "Policy_Sales_Channel    0\n",
       "Vintage                 0\n",
       "Response                0\n",
       "dtype: int64>"
      ]
     },
     "execution_count": 8,
     "metadata": {},
     "output_type": "execute_result"
    }
   ],
   "source": [
    "df.isna().sum().count"
   ]
  },
  {
   "cell_type": "code",
   "execution_count": 9,
   "metadata": {},
   "outputs": [
    {
     "data": {
      "text/plain": [
       "<bound method Series.count of Gender                  0\n",
       "Age                     0\n",
       "Driving_License         0\n",
       "Region_Code             0\n",
       "Previously_Insured      0\n",
       "Vehicle_Age             0\n",
       "Vehicle_Damage          0\n",
       "Annual_Premium          0\n",
       "Policy_Sales_Channel    0\n",
       "Vintage                 0\n",
       "Response                0\n",
       "dtype: int64>"
      ]
     },
     "execution_count": 9,
     "metadata": {},
     "output_type": "execute_result"
    }
   ],
   "source": [
    "df_test.isna().sum().count"
   ]
  },
  {
   "cell_type": "markdown",
   "metadata": {},
   "source": [
    "Пропусков нет"
   ]
  },
  {
   "cell_type": "markdown",
   "metadata": {},
   "source": [
    "### Заменим значения признака Vehicle_Age на порядковые, а признаков Vehicle_Damage, Driving_license, Previously_Insured - на булевые значения"
   ]
  },
  {
   "cell_type": "code",
   "execution_count": 10,
   "metadata": {},
   "outputs": [
    {
     "data": {
      "application/vnd.microsoft.datawrangler.viewer.v0+json": {
       "columns": [
        {
         "name": "index",
         "rawType": "int64",
         "type": "integer"
        },
        {
         "name": "Gender",
         "rawType": "object",
         "type": "string"
        },
        {
         "name": "Age",
         "rawType": "int64",
         "type": "integer"
        },
        {
         "name": "Driving_License",
         "rawType": "bool",
         "type": "boolean"
        },
        {
         "name": "Region_Code",
         "rawType": "float64",
         "type": "float"
        },
        {
         "name": "Previously_Insured",
         "rawType": "bool",
         "type": "boolean"
        },
        {
         "name": "Vehicle_Age",
         "rawType": "int64",
         "type": "integer"
        },
        {
         "name": "Vehicle_Damage",
         "rawType": "bool",
         "type": "boolean"
        },
        {
         "name": "Annual_Premium",
         "rawType": "float64",
         "type": "float"
        },
        {
         "name": "Policy_Sales_Channel",
         "rawType": "float64",
         "type": "float"
        },
        {
         "name": "Vintage",
         "rawType": "int64",
         "type": "integer"
        },
        {
         "name": "Response",
         "rawType": "int64",
         "type": "integer"
        }
       ],
       "conversionMethod": "pd.DataFrame",
       "ref": "62e5b8d6-6b0f-46ec-ad2c-52f216adf34f",
       "rows": [
        [
         "0",
         "Male",
         "21",
         "True",
         "35.0",
         "False",
         "1",
         "True",
         "65101.0",
         "124.0",
         "187",
         "0"
        ],
        [
         "1",
         "Male",
         "43",
         "True",
         "28.0",
         "False",
         "2",
         "True",
         "58911.0",
         "26.0",
         "288",
         "1"
        ],
        [
         "2",
         "Female",
         "25",
         "True",
         "14.0",
         "True",
         "0",
         "False",
         "38043.0",
         "152.0",
         "254",
         "0"
        ],
        [
         "3",
         "Female",
         "35",
         "True",
         "1.0",
         "False",
         "1",
         "True",
         "2630.0",
         "156.0",
         "76",
         "0"
        ],
        [
         "4",
         "Female",
         "36",
         "True",
         "15.0",
         "True",
         "1",
         "False",
         "31951.0",
         "152.0",
         "294",
         "0"
        ]
       ],
       "shape": {
        "columns": 11,
        "rows": 5
       }
      },
      "text/html": [
       "<div>\n",
       "<style scoped>\n",
       "    .dataframe tbody tr th:only-of-type {\n",
       "        vertical-align: middle;\n",
       "    }\n",
       "\n",
       "    .dataframe tbody tr th {\n",
       "        vertical-align: top;\n",
       "    }\n",
       "\n",
       "    .dataframe thead th {\n",
       "        text-align: right;\n",
       "    }\n",
       "</style>\n",
       "<table border=\"1\" class=\"dataframe\">\n",
       "  <thead>\n",
       "    <tr style=\"text-align: right;\">\n",
       "      <th></th>\n",
       "      <th>Gender</th>\n",
       "      <th>Age</th>\n",
       "      <th>Driving_License</th>\n",
       "      <th>Region_Code</th>\n",
       "      <th>Previously_Insured</th>\n",
       "      <th>Vehicle_Age</th>\n",
       "      <th>Vehicle_Damage</th>\n",
       "      <th>Annual_Premium</th>\n",
       "      <th>Policy_Sales_Channel</th>\n",
       "      <th>Vintage</th>\n",
       "      <th>Response</th>\n",
       "    </tr>\n",
       "  </thead>\n",
       "  <tbody>\n",
       "    <tr>\n",
       "      <th>0</th>\n",
       "      <td>Male</td>\n",
       "      <td>21</td>\n",
       "      <td>True</td>\n",
       "      <td>35.0</td>\n",
       "      <td>False</td>\n",
       "      <td>1</td>\n",
       "      <td>True</td>\n",
       "      <td>65101.0</td>\n",
       "      <td>124.0</td>\n",
       "      <td>187</td>\n",
       "      <td>0</td>\n",
       "    </tr>\n",
       "    <tr>\n",
       "      <th>1</th>\n",
       "      <td>Male</td>\n",
       "      <td>43</td>\n",
       "      <td>True</td>\n",
       "      <td>28.0</td>\n",
       "      <td>False</td>\n",
       "      <td>2</td>\n",
       "      <td>True</td>\n",
       "      <td>58911.0</td>\n",
       "      <td>26.0</td>\n",
       "      <td>288</td>\n",
       "      <td>1</td>\n",
       "    </tr>\n",
       "    <tr>\n",
       "      <th>2</th>\n",
       "      <td>Female</td>\n",
       "      <td>25</td>\n",
       "      <td>True</td>\n",
       "      <td>14.0</td>\n",
       "      <td>True</td>\n",
       "      <td>0</td>\n",
       "      <td>False</td>\n",
       "      <td>38043.0</td>\n",
       "      <td>152.0</td>\n",
       "      <td>254</td>\n",
       "      <td>0</td>\n",
       "    </tr>\n",
       "    <tr>\n",
       "      <th>3</th>\n",
       "      <td>Female</td>\n",
       "      <td>35</td>\n",
       "      <td>True</td>\n",
       "      <td>1.0</td>\n",
       "      <td>False</td>\n",
       "      <td>1</td>\n",
       "      <td>True</td>\n",
       "      <td>2630.0</td>\n",
       "      <td>156.0</td>\n",
       "      <td>76</td>\n",
       "      <td>0</td>\n",
       "    </tr>\n",
       "    <tr>\n",
       "      <th>4</th>\n",
       "      <td>Female</td>\n",
       "      <td>36</td>\n",
       "      <td>True</td>\n",
       "      <td>15.0</td>\n",
       "      <td>True</td>\n",
       "      <td>1</td>\n",
       "      <td>False</td>\n",
       "      <td>31951.0</td>\n",
       "      <td>152.0</td>\n",
       "      <td>294</td>\n",
       "      <td>0</td>\n",
       "    </tr>\n",
       "  </tbody>\n",
       "</table>\n",
       "</div>"
      ],
      "text/plain": [
       "   Gender  Age  Driving_License  Region_Code  Previously_Insured  Vehicle_Age  \\\n",
       "0    Male   21             True         35.0               False            1   \n",
       "1    Male   43             True         28.0               False            2   \n",
       "2  Female   25             True         14.0                True            0   \n",
       "3  Female   35             True          1.0               False            1   \n",
       "4  Female   36             True         15.0                True            1   \n",
       "\n",
       "   Vehicle_Damage  Annual_Premium  Policy_Sales_Channel  Vintage  Response  \n",
       "0            True         65101.0                 124.0      187         0  \n",
       "1            True         58911.0                  26.0      288         1  \n",
       "2           False         38043.0                 152.0      254         0  \n",
       "3            True          2630.0                 156.0       76         0  \n",
       "4           False         31951.0                 152.0      294         0  "
      ]
     },
     "execution_count": 10,
     "metadata": {},
     "output_type": "execute_result"
    }
   ],
   "source": [
    "v_age_mapping = {'< 1 Year': 0, '1-2 Year': 1, '> 2 Years': 2}\n",
    "\n",
    "df['Vehicle_Age'] = df['Vehicle_Age'].map(v_age_mapping)\n",
    "df_test['Vehicle_Age'] = df_test['Vehicle_Age'].map(v_age_mapping)\n",
    "\n",
    "\n",
    "v_damage_mapping = {'Yes': True, 'No': False}\n",
    "\n",
    "df['Vehicle_Damage'] = df['Vehicle_Damage'].map(v_damage_mapping)\n",
    "df_test['Vehicle_Damage'] = df_test['Vehicle_Damage'].map(v_damage_mapping)\n",
    "\n",
    "\n",
    "bool_mapping = {1: True, 0: False}\n",
    "\n",
    "df['Driving_License'] = df['Driving_License'].map(bool_mapping)\n",
    "df['Previously_Insured'] = df['Previously_Insured'].map(bool_mapping)\n",
    "\n",
    "df_test['Driving_License'] = df_test['Driving_License'].map(bool_mapping)\n",
    "df_test['Previously_Insured'] = df_test['Previously_Insured'].map(bool_mapping)\n",
    "\n",
    "df.head()"
   ]
  },
  {
   "cell_type": "markdown",
   "metadata": {},
   "source": [
    "### Преобразуем признаки Policy_Sales_Channel и Region_Code в категориальные, ибо они несут именно такой смысл"
   ]
  },
  {
   "cell_type": "code",
   "execution_count": 11,
   "metadata": {},
   "outputs": [
    {
     "name": "stdout",
     "output_type": "stream",
     "text": [
      "149\n",
      "53\n"
     ]
    }
   ],
   "source": [
    "print(df['Policy_Sales_Channel'].unique().size)\n",
    "print(df['Region_Code'].unique().size)"
   ]
  },
  {
   "cell_type": "code",
   "execution_count": 12,
   "metadata": {},
   "outputs": [
    {
     "data": {
      "application/vnd.microsoft.datawrangler.viewer.v0+json": {
       "columns": [
        {
         "name": "index",
         "rawType": "int64",
         "type": "integer"
        },
        {
         "name": "Gender",
         "rawType": "object",
         "type": "string"
        },
        {
         "name": "Age",
         "rawType": "int64",
         "type": "integer"
        },
        {
         "name": "Driving_License",
         "rawType": "bool",
         "type": "boolean"
        },
        {
         "name": "Region_Code",
         "rawType": "object",
         "type": "unknown"
        },
        {
         "name": "Previously_Insured",
         "rawType": "bool",
         "type": "boolean"
        },
        {
         "name": "Vehicle_Age",
         "rawType": "int64",
         "type": "integer"
        },
        {
         "name": "Vehicle_Damage",
         "rawType": "bool",
         "type": "boolean"
        },
        {
         "name": "Annual_Premium",
         "rawType": "float64",
         "type": "float"
        },
        {
         "name": "Policy_Sales_Channel",
         "rawType": "object",
         "type": "unknown"
        },
        {
         "name": "Vintage",
         "rawType": "int64",
         "type": "integer"
        },
        {
         "name": "Response",
         "rawType": "int64",
         "type": "integer"
        }
       ],
       "conversionMethod": "pd.DataFrame",
       "ref": "8999d8e9-7c45-4adb-8ca8-40fc216a1b14",
       "rows": [
        [
         "0",
         "Male",
         "21",
         "True",
         "35.0",
         "False",
         "1",
         "True",
         "65101.0",
         "124.0",
         "187",
         "0"
        ],
        [
         "1",
         "Male",
         "43",
         "True",
         "28.0",
         "False",
         "2",
         "True",
         "58911.0",
         "26.0",
         "288",
         "1"
        ],
        [
         "2",
         "Female",
         "25",
         "True",
         "14.0",
         "True",
         "0",
         "False",
         "38043.0",
         "152.0",
         "254",
         "0"
        ],
        [
         "3",
         "Female",
         "35",
         "True",
         "1.0",
         "False",
         "1",
         "True",
         "2630.0",
         "156.0",
         "76",
         "0"
        ],
        [
         "4",
         "Female",
         "36",
         "True",
         "15.0",
         "True",
         "1",
         "False",
         "31951.0",
         "152.0",
         "294",
         "0"
        ]
       ],
       "shape": {
        "columns": 11,
        "rows": 5
       }
      },
      "text/html": [
       "<div>\n",
       "<style scoped>\n",
       "    .dataframe tbody tr th:only-of-type {\n",
       "        vertical-align: middle;\n",
       "    }\n",
       "\n",
       "    .dataframe tbody tr th {\n",
       "        vertical-align: top;\n",
       "    }\n",
       "\n",
       "    .dataframe thead th {\n",
       "        text-align: right;\n",
       "    }\n",
       "</style>\n",
       "<table border=\"1\" class=\"dataframe\">\n",
       "  <thead>\n",
       "    <tr style=\"text-align: right;\">\n",
       "      <th></th>\n",
       "      <th>Gender</th>\n",
       "      <th>Age</th>\n",
       "      <th>Driving_License</th>\n",
       "      <th>Region_Code</th>\n",
       "      <th>Previously_Insured</th>\n",
       "      <th>Vehicle_Age</th>\n",
       "      <th>Vehicle_Damage</th>\n",
       "      <th>Annual_Premium</th>\n",
       "      <th>Policy_Sales_Channel</th>\n",
       "      <th>Vintage</th>\n",
       "      <th>Response</th>\n",
       "    </tr>\n",
       "  </thead>\n",
       "  <tbody>\n",
       "    <tr>\n",
       "      <th>0</th>\n",
       "      <td>Male</td>\n",
       "      <td>21</td>\n",
       "      <td>True</td>\n",
       "      <td>35.0</td>\n",
       "      <td>False</td>\n",
       "      <td>1</td>\n",
       "      <td>True</td>\n",
       "      <td>65101.0</td>\n",
       "      <td>124.0</td>\n",
       "      <td>187</td>\n",
       "      <td>0</td>\n",
       "    </tr>\n",
       "    <tr>\n",
       "      <th>1</th>\n",
       "      <td>Male</td>\n",
       "      <td>43</td>\n",
       "      <td>True</td>\n",
       "      <td>28.0</td>\n",
       "      <td>False</td>\n",
       "      <td>2</td>\n",
       "      <td>True</td>\n",
       "      <td>58911.0</td>\n",
       "      <td>26.0</td>\n",
       "      <td>288</td>\n",
       "      <td>1</td>\n",
       "    </tr>\n",
       "    <tr>\n",
       "      <th>2</th>\n",
       "      <td>Female</td>\n",
       "      <td>25</td>\n",
       "      <td>True</td>\n",
       "      <td>14.0</td>\n",
       "      <td>True</td>\n",
       "      <td>0</td>\n",
       "      <td>False</td>\n",
       "      <td>38043.0</td>\n",
       "      <td>152.0</td>\n",
       "      <td>254</td>\n",
       "      <td>0</td>\n",
       "    </tr>\n",
       "    <tr>\n",
       "      <th>3</th>\n",
       "      <td>Female</td>\n",
       "      <td>35</td>\n",
       "      <td>True</td>\n",
       "      <td>1.0</td>\n",
       "      <td>False</td>\n",
       "      <td>1</td>\n",
       "      <td>True</td>\n",
       "      <td>2630.0</td>\n",
       "      <td>156.0</td>\n",
       "      <td>76</td>\n",
       "      <td>0</td>\n",
       "    </tr>\n",
       "    <tr>\n",
       "      <th>4</th>\n",
       "      <td>Female</td>\n",
       "      <td>36</td>\n",
       "      <td>True</td>\n",
       "      <td>15.0</td>\n",
       "      <td>True</td>\n",
       "      <td>1</td>\n",
       "      <td>False</td>\n",
       "      <td>31951.0</td>\n",
       "      <td>152.0</td>\n",
       "      <td>294</td>\n",
       "      <td>0</td>\n",
       "    </tr>\n",
       "  </tbody>\n",
       "</table>\n",
       "</div>"
      ],
      "text/plain": [
       "   Gender  Age  Driving_License Region_Code  Previously_Insured  Vehicle_Age  \\\n",
       "0    Male   21             True        35.0               False            1   \n",
       "1    Male   43             True        28.0               False            2   \n",
       "2  Female   25             True        14.0                True            0   \n",
       "3  Female   35             True         1.0               False            1   \n",
       "4  Female   36             True        15.0                True            1   \n",
       "\n",
       "   Vehicle_Damage  Annual_Premium Policy_Sales_Channel  Vintage  Response  \n",
       "0            True         65101.0                124.0      187         0  \n",
       "1            True         58911.0                 26.0      288         1  \n",
       "2           False         38043.0                152.0      254         0  \n",
       "3            True          2630.0                156.0       76         0  \n",
       "4           False         31951.0                152.0      294         0  "
      ]
     },
     "execution_count": 12,
     "metadata": {},
     "output_type": "execute_result"
    }
   ],
   "source": [
    "df['Policy_Sales_Channel'] = df['Policy_Sales_Channel'].astype('object')\n",
    "df['Region_Code'] = df['Region_Code'].astype('object')\n",
    "\n",
    "df_test['Policy_Sales_Channel'] = df_test['Policy_Sales_Channel'].astype('object')\n",
    "df_test['Region_Code'] = df_test['Region_Code'].astype('object')\n",
    "\n",
    "df.head()"
   ]
  },
  {
   "cell_type": "markdown",
   "metadata": {},
   "source": [
    "### Нормировка"
   ]
  },
  {
   "cell_type": "code",
   "execution_count": 13,
   "metadata": {},
   "outputs": [
    {
     "data": {
      "application/vnd.microsoft.datawrangler.viewer.v0+json": {
       "columns": [
        {
         "name": "index",
         "rawType": "int64",
         "type": "integer"
        },
        {
         "name": "Gender",
         "rawType": "object",
         "type": "string"
        },
        {
         "name": "Age",
         "rawType": "float64",
         "type": "float"
        },
        {
         "name": "Driving_License",
         "rawType": "bool",
         "type": "boolean"
        },
        {
         "name": "Region_Code",
         "rawType": "object",
         "type": "unknown"
        },
        {
         "name": "Previously_Insured",
         "rawType": "bool",
         "type": "boolean"
        },
        {
         "name": "Vehicle_Age",
         "rawType": "float64",
         "type": "float"
        },
        {
         "name": "Vehicle_Damage",
         "rawType": "bool",
         "type": "boolean"
        },
        {
         "name": "Annual_Premium",
         "rawType": "float64",
         "type": "float"
        },
        {
         "name": "Policy_Sales_Channel",
         "rawType": "object",
         "type": "unknown"
        },
        {
         "name": "Vintage",
         "rawType": "float64",
         "type": "float"
        },
        {
         "name": "Response",
         "rawType": "int64",
         "type": "integer"
        }
       ],
       "conversionMethod": "pd.DataFrame",
       "ref": "afb0a57c-51a3-4ad5-89ff-847c73ce43d2",
       "rows": [
        [
         "0",
         "Male",
         "-1.1594206867041619",
         "True",
         "35.0",
         "False",
         "0.6987915732469862",
         "True",
         "2.1019687635585367",
         "124.0",
         "0.28860488637834164",
         "0"
        ],
        [
         "1",
         "Male",
         "0.3075627452672431",
         "True",
         "28.0",
         "False",
         "2.459898990620329",
         "True",
         "1.726275216882029",
         "26.0",
         "1.5515062593881654",
         "1"
        ],
        [
         "2",
         "Female",
         "-0.8926964263457245",
         "True",
         "14.0",
         "True",
         "-1.0623158441263567",
         "False",
         "0.45972062365983823",
         "152.0",
         "1.126371143721492",
         "0"
        ],
        [
         "3",
         "Female",
         "-0.2258857754496314",
         "True",
         "1.0",
         "False",
         "0.6987915732469862",
         "True",
         "-1.6896227638127246",
         "156.0",
         "-1.0993362265334448",
         "0"
        ],
        [
         "4",
         "Female",
         "-0.1592047103600221",
         "True",
         "15.0",
         "True",
         "0.6987915732469862",
         "False",
         "0.08997505235882296",
         "152.0",
         "1.6265301033293431",
         "0"
        ]
       ],
       "shape": {
        "columns": 11,
        "rows": 5
       }
      },
      "text/html": [
       "<div>\n",
       "<style scoped>\n",
       "    .dataframe tbody tr th:only-of-type {\n",
       "        vertical-align: middle;\n",
       "    }\n",
       "\n",
       "    .dataframe tbody tr th {\n",
       "        vertical-align: top;\n",
       "    }\n",
       "\n",
       "    .dataframe thead th {\n",
       "        text-align: right;\n",
       "    }\n",
       "</style>\n",
       "<table border=\"1\" class=\"dataframe\">\n",
       "  <thead>\n",
       "    <tr style=\"text-align: right;\">\n",
       "      <th></th>\n",
       "      <th>Gender</th>\n",
       "      <th>Age</th>\n",
       "      <th>Driving_License</th>\n",
       "      <th>Region_Code</th>\n",
       "      <th>Previously_Insured</th>\n",
       "      <th>Vehicle_Age</th>\n",
       "      <th>Vehicle_Damage</th>\n",
       "      <th>Annual_Premium</th>\n",
       "      <th>Policy_Sales_Channel</th>\n",
       "      <th>Vintage</th>\n",
       "      <th>Response</th>\n",
       "    </tr>\n",
       "  </thead>\n",
       "  <tbody>\n",
       "    <tr>\n",
       "      <th>0</th>\n",
       "      <td>Male</td>\n",
       "      <td>-1.159421</td>\n",
       "      <td>True</td>\n",
       "      <td>35.0</td>\n",
       "      <td>False</td>\n",
       "      <td>0.698792</td>\n",
       "      <td>True</td>\n",
       "      <td>2.101969</td>\n",
       "      <td>124.0</td>\n",
       "      <td>0.288605</td>\n",
       "      <td>0</td>\n",
       "    </tr>\n",
       "    <tr>\n",
       "      <th>1</th>\n",
       "      <td>Male</td>\n",
       "      <td>0.307563</td>\n",
       "      <td>True</td>\n",
       "      <td>28.0</td>\n",
       "      <td>False</td>\n",
       "      <td>2.459899</td>\n",
       "      <td>True</td>\n",
       "      <td>1.726275</td>\n",
       "      <td>26.0</td>\n",
       "      <td>1.551506</td>\n",
       "      <td>1</td>\n",
       "    </tr>\n",
       "    <tr>\n",
       "      <th>2</th>\n",
       "      <td>Female</td>\n",
       "      <td>-0.892696</td>\n",
       "      <td>True</td>\n",
       "      <td>14.0</td>\n",
       "      <td>True</td>\n",
       "      <td>-1.062316</td>\n",
       "      <td>False</td>\n",
       "      <td>0.459721</td>\n",
       "      <td>152.0</td>\n",
       "      <td>1.126371</td>\n",
       "      <td>0</td>\n",
       "    </tr>\n",
       "    <tr>\n",
       "      <th>3</th>\n",
       "      <td>Female</td>\n",
       "      <td>-0.225886</td>\n",
       "      <td>True</td>\n",
       "      <td>1.0</td>\n",
       "      <td>False</td>\n",
       "      <td>0.698792</td>\n",
       "      <td>True</td>\n",
       "      <td>-1.689623</td>\n",
       "      <td>156.0</td>\n",
       "      <td>-1.099336</td>\n",
       "      <td>0</td>\n",
       "    </tr>\n",
       "    <tr>\n",
       "      <th>4</th>\n",
       "      <td>Female</td>\n",
       "      <td>-0.159205</td>\n",
       "      <td>True</td>\n",
       "      <td>15.0</td>\n",
       "      <td>True</td>\n",
       "      <td>0.698792</td>\n",
       "      <td>False</td>\n",
       "      <td>0.089975</td>\n",
       "      <td>152.0</td>\n",
       "      <td>1.626530</td>\n",
       "      <td>0</td>\n",
       "    </tr>\n",
       "  </tbody>\n",
       "</table>\n",
       "</div>"
      ],
      "text/plain": [
       "   Gender       Age  Driving_License Region_Code  Previously_Insured  \\\n",
       "0    Male -1.159421             True        35.0               False   \n",
       "1    Male  0.307563             True        28.0               False   \n",
       "2  Female -0.892696             True        14.0                True   \n",
       "3  Female -0.225886             True         1.0               False   \n",
       "4  Female -0.159205             True        15.0                True   \n",
       "\n",
       "   Vehicle_Age  Vehicle_Damage  Annual_Premium Policy_Sales_Channel   Vintage  \\\n",
       "0     0.698792            True        2.101969                124.0  0.288605   \n",
       "1     2.459899            True        1.726275                 26.0  1.551506   \n",
       "2    -1.062316           False        0.459721                152.0  1.126371   \n",
       "3     0.698792            True       -1.689623                156.0 -1.099336   \n",
       "4     0.698792           False        0.089975                152.0  1.626530   \n",
       "\n",
       "   Response  \n",
       "0         0  \n",
       "1         1  \n",
       "2         0  \n",
       "3         0  \n",
       "4         0  "
      ]
     },
     "execution_count": 13,
     "metadata": {},
     "output_type": "execute_result"
    }
   ],
   "source": [
    "numerical_features = df.select_dtypes(exclude=['object', 'bool']).columns\n",
    "numerical_features = np.delete(numerical_features, np.where(numerical_features == 'Response'))\n",
    "\n",
    "scaler = StandardScaler()\n",
    "df[numerical_features] = scaler.fit_transform(df[numerical_features])\n",
    "df_test[numerical_features] = scaler.transform(df_test[numerical_features])\n",
    "\n",
    "df.head()"
   ]
  },
  {
   "cell_type": "markdown",
   "metadata": {},
   "source": [
    "### Выполним One-hot кодирование"
   ]
  },
  {
   "cell_type": "code",
   "execution_count": 14,
   "metadata": {},
   "outputs": [
    {
     "data": {
      "application/vnd.microsoft.datawrangler.viewer.v0+json": {
       "columns": [
        {
         "name": "index",
         "rawType": "int64",
         "type": "integer"
        },
        {
         "name": "Age",
         "rawType": "float64",
         "type": "float"
        },
        {
         "name": "Driving_License",
         "rawType": "bool",
         "type": "boolean"
        },
        {
         "name": "Previously_Insured",
         "rawType": "bool",
         "type": "boolean"
        },
        {
         "name": "Vehicle_Age",
         "rawType": "float64",
         "type": "float"
        },
        {
         "name": "Vehicle_Damage",
         "rawType": "bool",
         "type": "boolean"
        },
        {
         "name": "Annual_Premium",
         "rawType": "float64",
         "type": "float"
        },
        {
         "name": "Vintage",
         "rawType": "float64",
         "type": "float"
        },
        {
         "name": "Response",
         "rawType": "int64",
         "type": "integer"
        },
        {
         "name": "Gender_Male",
         "rawType": "bool",
         "type": "boolean"
        },
        {
         "name": "Region_Code_1.0",
         "rawType": "bool",
         "type": "boolean"
        },
        {
         "name": "Region_Code_2.0",
         "rawType": "bool",
         "type": "boolean"
        },
        {
         "name": "Region_Code_3.0",
         "rawType": "bool",
         "type": "boolean"
        },
        {
         "name": "Region_Code_4.0",
         "rawType": "bool",
         "type": "boolean"
        },
        {
         "name": "Region_Code_5.0",
         "rawType": "bool",
         "type": "boolean"
        },
        {
         "name": "Region_Code_6.0",
         "rawType": "bool",
         "type": "boolean"
        },
        {
         "name": "Region_Code_7.0",
         "rawType": "bool",
         "type": "boolean"
        },
        {
         "name": "Region_Code_8.0",
         "rawType": "bool",
         "type": "boolean"
        },
        {
         "name": "Region_Code_9.0",
         "rawType": "bool",
         "type": "boolean"
        },
        {
         "name": "Region_Code_10.0",
         "rawType": "bool",
         "type": "boolean"
        },
        {
         "name": "Region_Code_11.0",
         "rawType": "bool",
         "type": "boolean"
        },
        {
         "name": "Region_Code_12.0",
         "rawType": "bool",
         "type": "boolean"
        },
        {
         "name": "Region_Code_13.0",
         "rawType": "bool",
         "type": "boolean"
        },
        {
         "name": "Region_Code_14.0",
         "rawType": "bool",
         "type": "boolean"
        },
        {
         "name": "Region_Code_15.0",
         "rawType": "bool",
         "type": "boolean"
        },
        {
         "name": "Region_Code_16.0",
         "rawType": "bool",
         "type": "boolean"
        },
        {
         "name": "Region_Code_17.0",
         "rawType": "bool",
         "type": "boolean"
        },
        {
         "name": "Region_Code_18.0",
         "rawType": "bool",
         "type": "boolean"
        },
        {
         "name": "Region_Code_19.0",
         "rawType": "bool",
         "type": "boolean"
        },
        {
         "name": "Region_Code_20.0",
         "rawType": "bool",
         "type": "boolean"
        },
        {
         "name": "Region_Code_21.0",
         "rawType": "bool",
         "type": "boolean"
        },
        {
         "name": "Region_Code_22.0",
         "rawType": "bool",
         "type": "boolean"
        },
        {
         "name": "Region_Code_23.0",
         "rawType": "bool",
         "type": "boolean"
        },
        {
         "name": "Region_Code_24.0",
         "rawType": "bool",
         "type": "boolean"
        },
        {
         "name": "Region_Code_25.0",
         "rawType": "bool",
         "type": "boolean"
        },
        {
         "name": "Region_Code_26.0",
         "rawType": "bool",
         "type": "boolean"
        },
        {
         "name": "Region_Code_27.0",
         "rawType": "bool",
         "type": "boolean"
        },
        {
         "name": "Region_Code_28.0",
         "rawType": "bool",
         "type": "boolean"
        },
        {
         "name": "Region_Code_29.0",
         "rawType": "bool",
         "type": "boolean"
        },
        {
         "name": "Region_Code_30.0",
         "rawType": "bool",
         "type": "boolean"
        },
        {
         "name": "Region_Code_31.0",
         "rawType": "bool",
         "type": "boolean"
        },
        {
         "name": "Region_Code_32.0",
         "rawType": "bool",
         "type": "boolean"
        },
        {
         "name": "Region_Code_33.0",
         "rawType": "bool",
         "type": "boolean"
        },
        {
         "name": "Region_Code_34.0",
         "rawType": "bool",
         "type": "boolean"
        },
        {
         "name": "Region_Code_35.0",
         "rawType": "bool",
         "type": "boolean"
        },
        {
         "name": "Region_Code_36.0",
         "rawType": "bool",
         "type": "boolean"
        },
        {
         "name": "Region_Code_37.0",
         "rawType": "bool",
         "type": "boolean"
        },
        {
         "name": "Region_Code_38.0",
         "rawType": "bool",
         "type": "boolean"
        },
        {
         "name": "Region_Code_39.0",
         "rawType": "bool",
         "type": "boolean"
        },
        {
         "name": "Region_Code_40.0",
         "rawType": "bool",
         "type": "boolean"
        },
        {
         "name": "Region_Code_41.0",
         "rawType": "bool",
         "type": "boolean"
        },
        {
         "name": "Region_Code_42.0",
         "rawType": "bool",
         "type": "boolean"
        },
        {
         "name": "Region_Code_43.0",
         "rawType": "bool",
         "type": "boolean"
        },
        {
         "name": "Region_Code_44.0",
         "rawType": "bool",
         "type": "boolean"
        },
        {
         "name": "Region_Code_45.0",
         "rawType": "bool",
         "type": "boolean"
        },
        {
         "name": "Region_Code_46.0",
         "rawType": "bool",
         "type": "boolean"
        },
        {
         "name": "Region_Code_47.0",
         "rawType": "bool",
         "type": "boolean"
        },
        {
         "name": "Region_Code_48.0",
         "rawType": "bool",
         "type": "boolean"
        },
        {
         "name": "Region_Code_49.0",
         "rawType": "bool",
         "type": "boolean"
        },
        {
         "name": "Region_Code_50.0",
         "rawType": "bool",
         "type": "boolean"
        },
        {
         "name": "Region_Code_51.0",
         "rawType": "bool",
         "type": "boolean"
        },
        {
         "name": "Region_Code_52.0",
         "rawType": "bool",
         "type": "boolean"
        },
        {
         "name": "Policy_Sales_Channel_2.0",
         "rawType": "bool",
         "type": "boolean"
        },
        {
         "name": "Policy_Sales_Channel_3.0",
         "rawType": "bool",
         "type": "boolean"
        },
        {
         "name": "Policy_Sales_Channel_4.0",
         "rawType": "bool",
         "type": "boolean"
        },
        {
         "name": "Policy_Sales_Channel_6.0",
         "rawType": "bool",
         "type": "boolean"
        },
        {
         "name": "Policy_Sales_Channel_7.0",
         "rawType": "bool",
         "type": "boolean"
        },
        {
         "name": "Policy_Sales_Channel_8.0",
         "rawType": "bool",
         "type": "boolean"
        },
        {
         "name": "Policy_Sales_Channel_9.0",
         "rawType": "bool",
         "type": "boolean"
        },
        {
         "name": "Policy_Sales_Channel_10.0",
         "rawType": "bool",
         "type": "boolean"
        },
        {
         "name": "Policy_Sales_Channel_11.0",
         "rawType": "bool",
         "type": "boolean"
        },
        {
         "name": "Policy_Sales_Channel_12.0",
         "rawType": "bool",
         "type": "boolean"
        },
        {
         "name": "Policy_Sales_Channel_13.0",
         "rawType": "bool",
         "type": "boolean"
        },
        {
         "name": "Policy_Sales_Channel_14.0",
         "rawType": "bool",
         "type": "boolean"
        },
        {
         "name": "Policy_Sales_Channel_15.0",
         "rawType": "bool",
         "type": "boolean"
        },
        {
         "name": "Policy_Sales_Channel_16.0",
         "rawType": "bool",
         "type": "boolean"
        },
        {
         "name": "Policy_Sales_Channel_17.0",
         "rawType": "bool",
         "type": "boolean"
        },
        {
         "name": "Policy_Sales_Channel_18.0",
         "rawType": "bool",
         "type": "boolean"
        },
        {
         "name": "Policy_Sales_Channel_19.0",
         "rawType": "bool",
         "type": "boolean"
        },
        {
         "name": "Policy_Sales_Channel_20.0",
         "rawType": "bool",
         "type": "boolean"
        },
        {
         "name": "Policy_Sales_Channel_21.0",
         "rawType": "bool",
         "type": "boolean"
        },
        {
         "name": "Policy_Sales_Channel_22.0",
         "rawType": "bool",
         "type": "boolean"
        },
        {
         "name": "Policy_Sales_Channel_23.0",
         "rawType": "bool",
         "type": "boolean"
        },
        {
         "name": "Policy_Sales_Channel_24.0",
         "rawType": "bool",
         "type": "boolean"
        },
        {
         "name": "Policy_Sales_Channel_25.0",
         "rawType": "bool",
         "type": "boolean"
        },
        {
         "name": "Policy_Sales_Channel_26.0",
         "rawType": "bool",
         "type": "boolean"
        },
        {
         "name": "Policy_Sales_Channel_27.0",
         "rawType": "bool",
         "type": "boolean"
        },
        {
         "name": "Policy_Sales_Channel_28.0",
         "rawType": "bool",
         "type": "boolean"
        },
        {
         "name": "Policy_Sales_Channel_29.0",
         "rawType": "bool",
         "type": "boolean"
        },
        {
         "name": "Policy_Sales_Channel_30.0",
         "rawType": "bool",
         "type": "boolean"
        },
        {
         "name": "Policy_Sales_Channel_31.0",
         "rawType": "bool",
         "type": "boolean"
        },
        {
         "name": "Policy_Sales_Channel_32.0",
         "rawType": "bool",
         "type": "boolean"
        },
        {
         "name": "Policy_Sales_Channel_33.0",
         "rawType": "bool",
         "type": "boolean"
        },
        {
         "name": "Policy_Sales_Channel_34.0",
         "rawType": "bool",
         "type": "boolean"
        },
        {
         "name": "Policy_Sales_Channel_35.0",
         "rawType": "bool",
         "type": "boolean"
        },
        {
         "name": "Policy_Sales_Channel_36.0",
         "rawType": "bool",
         "type": "boolean"
        },
        {
         "name": "Policy_Sales_Channel_37.0",
         "rawType": "bool",
         "type": "boolean"
        },
        {
         "name": "Policy_Sales_Channel_38.0",
         "rawType": "bool",
         "type": "boolean"
        },
        {
         "name": "Policy_Sales_Channel_39.0",
         "rawType": "bool",
         "type": "boolean"
        },
        {
         "name": "Policy_Sales_Channel_40.0",
         "rawType": "bool",
         "type": "boolean"
        },
        {
         "name": "Policy_Sales_Channel_41.0",
         "rawType": "bool",
         "type": "boolean"
        },
        {
         "name": "Policy_Sales_Channel_42.0",
         "rawType": "bool",
         "type": "boolean"
        },
        {
         "name": "Policy_Sales_Channel_43.0",
         "rawType": "bool",
         "type": "boolean"
        },
        {
         "name": "Policy_Sales_Channel_44.0",
         "rawType": "bool",
         "type": "boolean"
        },
        {
         "name": "Policy_Sales_Channel_45.0",
         "rawType": "bool",
         "type": "boolean"
        },
        {
         "name": "Policy_Sales_Channel_46.0",
         "rawType": "bool",
         "type": "boolean"
        },
        {
         "name": "Policy_Sales_Channel_47.0",
         "rawType": "bool",
         "type": "boolean"
        },
        {
         "name": "Policy_Sales_Channel_48.0",
         "rawType": "bool",
         "type": "boolean"
        },
        {
         "name": "Policy_Sales_Channel_49.0",
         "rawType": "bool",
         "type": "boolean"
        },
        {
         "name": "Policy_Sales_Channel_50.0",
         "rawType": "bool",
         "type": "boolean"
        },
        {
         "name": "Policy_Sales_Channel_51.0",
         "rawType": "bool",
         "type": "boolean"
        },
        {
         "name": "Policy_Sales_Channel_52.0",
         "rawType": "bool",
         "type": "boolean"
        },
        {
         "name": "Policy_Sales_Channel_53.0",
         "rawType": "bool",
         "type": "boolean"
        },
        {
         "name": "Policy_Sales_Channel_54.0",
         "rawType": "bool",
         "type": "boolean"
        },
        {
         "name": "Policy_Sales_Channel_55.0",
         "rawType": "bool",
         "type": "boolean"
        },
        {
         "name": "Policy_Sales_Channel_56.0",
         "rawType": "bool",
         "type": "boolean"
        },
        {
         "name": "Policy_Sales_Channel_57.0",
         "rawType": "bool",
         "type": "boolean"
        },
        {
         "name": "Policy_Sales_Channel_58.0",
         "rawType": "bool",
         "type": "boolean"
        },
        {
         "name": "Policy_Sales_Channel_59.0",
         "rawType": "bool",
         "type": "boolean"
        },
        {
         "name": "Policy_Sales_Channel_60.0",
         "rawType": "bool",
         "type": "boolean"
        },
        {
         "name": "Policy_Sales_Channel_61.0",
         "rawType": "bool",
         "type": "boolean"
        },
        {
         "name": "Policy_Sales_Channel_62.0",
         "rawType": "bool",
         "type": "boolean"
        },
        {
         "name": "Policy_Sales_Channel_63.0",
         "rawType": "bool",
         "type": "boolean"
        },
        {
         "name": "Policy_Sales_Channel_64.0",
         "rawType": "bool",
         "type": "boolean"
        },
        {
         "name": "Policy_Sales_Channel_65.0",
         "rawType": "bool",
         "type": "boolean"
        },
        {
         "name": "Policy_Sales_Channel_66.0",
         "rawType": "bool",
         "type": "boolean"
        },
        {
         "name": "Policy_Sales_Channel_67.0",
         "rawType": "bool",
         "type": "boolean"
        },
        {
         "name": "Policy_Sales_Channel_68.0",
         "rawType": "bool",
         "type": "boolean"
        },
        {
         "name": "Policy_Sales_Channel_69.0",
         "rawType": "bool",
         "type": "boolean"
        },
        {
         "name": "Policy_Sales_Channel_70.0",
         "rawType": "bool",
         "type": "boolean"
        },
        {
         "name": "Policy_Sales_Channel_71.0",
         "rawType": "bool",
         "type": "boolean"
        },
        {
         "name": "Policy_Sales_Channel_73.0",
         "rawType": "bool",
         "type": "boolean"
        },
        {
         "name": "Policy_Sales_Channel_74.0",
         "rawType": "bool",
         "type": "boolean"
        },
        {
         "name": "Policy_Sales_Channel_75.0",
         "rawType": "bool",
         "type": "boolean"
        },
        {
         "name": "Policy_Sales_Channel_76.0",
         "rawType": "bool",
         "type": "boolean"
        },
        {
         "name": "Policy_Sales_Channel_78.0",
         "rawType": "bool",
         "type": "boolean"
        },
        {
         "name": "Policy_Sales_Channel_79.0",
         "rawType": "bool",
         "type": "boolean"
        },
        {
         "name": "Policy_Sales_Channel_80.0",
         "rawType": "bool",
         "type": "boolean"
        },
        {
         "name": "Policy_Sales_Channel_81.0",
         "rawType": "bool",
         "type": "boolean"
        },
        {
         "name": "Policy_Sales_Channel_82.0",
         "rawType": "bool",
         "type": "boolean"
        },
        {
         "name": "Policy_Sales_Channel_83.0",
         "rawType": "bool",
         "type": "boolean"
        },
        {
         "name": "Policy_Sales_Channel_86.0",
         "rawType": "bool",
         "type": "boolean"
        },
        {
         "name": "Policy_Sales_Channel_87.0",
         "rawType": "bool",
         "type": "boolean"
        },
        {
         "name": "Policy_Sales_Channel_88.0",
         "rawType": "bool",
         "type": "boolean"
        },
        {
         "name": "Policy_Sales_Channel_89.0",
         "rawType": "bool",
         "type": "boolean"
        },
        {
         "name": "Policy_Sales_Channel_90.0",
         "rawType": "bool",
         "type": "boolean"
        },
        {
         "name": "Policy_Sales_Channel_91.0",
         "rawType": "bool",
         "type": "boolean"
        },
        {
         "name": "Policy_Sales_Channel_92.0",
         "rawType": "bool",
         "type": "boolean"
        },
        {
         "name": "Policy_Sales_Channel_93.0",
         "rawType": "bool",
         "type": "boolean"
        },
        {
         "name": "Policy_Sales_Channel_94.0",
         "rawType": "bool",
         "type": "boolean"
        },
        {
         "name": "Policy_Sales_Channel_95.0",
         "rawType": "bool",
         "type": "boolean"
        },
        {
         "name": "Policy_Sales_Channel_96.0",
         "rawType": "bool",
         "type": "boolean"
        },
        {
         "name": "Policy_Sales_Channel_97.0",
         "rawType": "bool",
         "type": "boolean"
        },
        {
         "name": "Policy_Sales_Channel_98.0",
         "rawType": "bool",
         "type": "boolean"
        },
        {
         "name": "Policy_Sales_Channel_99.0",
         "rawType": "bool",
         "type": "boolean"
        },
        {
         "name": "Policy_Sales_Channel_100.0",
         "rawType": "bool",
         "type": "boolean"
        },
        {
         "name": "Policy_Sales_Channel_101.0",
         "rawType": "bool",
         "type": "boolean"
        },
        {
         "name": "Policy_Sales_Channel_103.0",
         "rawType": "bool",
         "type": "boolean"
        },
        {
         "name": "Policy_Sales_Channel_104.0",
         "rawType": "bool",
         "type": "boolean"
        },
        {
         "name": "Policy_Sales_Channel_105.0",
         "rawType": "bool",
         "type": "boolean"
        },
        {
         "name": "Policy_Sales_Channel_106.0",
         "rawType": "bool",
         "type": "boolean"
        },
        {
         "name": "Policy_Sales_Channel_107.0",
         "rawType": "bool",
         "type": "boolean"
        },
        {
         "name": "Policy_Sales_Channel_108.0",
         "rawType": "bool",
         "type": "boolean"
        },
        {
         "name": "Policy_Sales_Channel_109.0",
         "rawType": "bool",
         "type": "boolean"
        },
        {
         "name": "Policy_Sales_Channel_110.0",
         "rawType": "bool",
         "type": "boolean"
        },
        {
         "name": "Policy_Sales_Channel_111.0",
         "rawType": "bool",
         "type": "boolean"
        },
        {
         "name": "Policy_Sales_Channel_113.0",
         "rawType": "bool",
         "type": "boolean"
        },
        {
         "name": "Policy_Sales_Channel_114.0",
         "rawType": "bool",
         "type": "boolean"
        },
        {
         "name": "Policy_Sales_Channel_115.0",
         "rawType": "bool",
         "type": "boolean"
        },
        {
         "name": "Policy_Sales_Channel_116.0",
         "rawType": "bool",
         "type": "boolean"
        },
        {
         "name": "Policy_Sales_Channel_117.0",
         "rawType": "bool",
         "type": "boolean"
        },
        {
         "name": "Policy_Sales_Channel_118.0",
         "rawType": "bool",
         "type": "boolean"
        },
        {
         "name": "Policy_Sales_Channel_119.0",
         "rawType": "bool",
         "type": "boolean"
        },
        {
         "name": "Policy_Sales_Channel_120.0",
         "rawType": "bool",
         "type": "boolean"
        },
        {
         "name": "Policy_Sales_Channel_121.0",
         "rawType": "bool",
         "type": "boolean"
        },
        {
         "name": "Policy_Sales_Channel_122.0",
         "rawType": "bool",
         "type": "boolean"
        },
        {
         "name": "Policy_Sales_Channel_123.0",
         "rawType": "bool",
         "type": "boolean"
        },
        {
         "name": "Policy_Sales_Channel_124.0",
         "rawType": "bool",
         "type": "boolean"
        },
        {
         "name": "Policy_Sales_Channel_125.0",
         "rawType": "bool",
         "type": "boolean"
        },
        {
         "name": "Policy_Sales_Channel_126.0",
         "rawType": "bool",
         "type": "boolean"
        },
        {
         "name": "Policy_Sales_Channel_127.0",
         "rawType": "bool",
         "type": "boolean"
        },
        {
         "name": "Policy_Sales_Channel_128.0",
         "rawType": "bool",
         "type": "boolean"
        },
        {
         "name": "Policy_Sales_Channel_129.0",
         "rawType": "bool",
         "type": "boolean"
        },
        {
         "name": "Policy_Sales_Channel_130.0",
         "rawType": "bool",
         "type": "boolean"
        },
        {
         "name": "Policy_Sales_Channel_131.0",
         "rawType": "bool",
         "type": "boolean"
        },
        {
         "name": "Policy_Sales_Channel_132.0",
         "rawType": "bool",
         "type": "boolean"
        },
        {
         "name": "Policy_Sales_Channel_133.0",
         "rawType": "bool",
         "type": "boolean"
        },
        {
         "name": "Policy_Sales_Channel_134.0",
         "rawType": "bool",
         "type": "boolean"
        },
        {
         "name": "Policy_Sales_Channel_135.0",
         "rawType": "bool",
         "type": "boolean"
        },
        {
         "name": "Policy_Sales_Channel_136.0",
         "rawType": "bool",
         "type": "boolean"
        },
        {
         "name": "Policy_Sales_Channel_137.0",
         "rawType": "bool",
         "type": "boolean"
        },
        {
         "name": "Policy_Sales_Channel_138.0",
         "rawType": "bool",
         "type": "boolean"
        },
        {
         "name": "Policy_Sales_Channel_139.0",
         "rawType": "bool",
         "type": "boolean"
        },
        {
         "name": "Policy_Sales_Channel_140.0",
         "rawType": "bool",
         "type": "boolean"
        },
        {
         "name": "Policy_Sales_Channel_145.0",
         "rawType": "bool",
         "type": "boolean"
        },
        {
         "name": "Policy_Sales_Channel_146.0",
         "rawType": "bool",
         "type": "boolean"
        },
        {
         "name": "Policy_Sales_Channel_147.0",
         "rawType": "bool",
         "type": "boolean"
        },
        {
         "name": "Policy_Sales_Channel_148.0",
         "rawType": "bool",
         "type": "boolean"
        },
        {
         "name": "Policy_Sales_Channel_150.0",
         "rawType": "bool",
         "type": "boolean"
        },
        {
         "name": "Policy_Sales_Channel_151.0",
         "rawType": "bool",
         "type": "boolean"
        },
        {
         "name": "Policy_Sales_Channel_152.0",
         "rawType": "bool",
         "type": "boolean"
        },
        {
         "name": "Policy_Sales_Channel_153.0",
         "rawType": "bool",
         "type": "boolean"
        },
        {
         "name": "Policy_Sales_Channel_154.0",
         "rawType": "bool",
         "type": "boolean"
        },
        {
         "name": "Policy_Sales_Channel_155.0",
         "rawType": "bool",
         "type": "boolean"
        },
        {
         "name": "Policy_Sales_Channel_156.0",
         "rawType": "bool",
         "type": "boolean"
        },
        {
         "name": "Policy_Sales_Channel_157.0",
         "rawType": "bool",
         "type": "boolean"
        },
        {
         "name": "Policy_Sales_Channel_158.0",
         "rawType": "bool",
         "type": "boolean"
        },
        {
         "name": "Policy_Sales_Channel_159.0",
         "rawType": "bool",
         "type": "boolean"
        },
        {
         "name": "Policy_Sales_Channel_160.0",
         "rawType": "bool",
         "type": "boolean"
        },
        {
         "name": "Policy_Sales_Channel_163.0",
         "rawType": "bool",
         "type": "boolean"
        }
       ],
       "conversionMethod": "pd.DataFrame",
       "ref": "dfa62a0b-fdcf-4a7d-a603-b898f11cf201",
       "rows": [
        [
         "0",
         "-1.1594206867041619",
         "True",
         "False",
         "0.6987915732469862",
         "True",
         "2.1019687635585367",
         "0.28860488637834164",
         "0",
         "True",
         "False",
         "False",
         "False",
         "False",
         "False",
         "False",
         "False",
         "False",
         "False",
         "False",
         "False",
         "False",
         "False",
         "False",
         "False",
         "False",
         "False",
         "False",
         "False",
         "False",
         "False",
         "False",
         "False",
         "False",
         "False",
         "False",
         "False",
         "False",
         "False",
         "False",
         "False",
         "False",
         "False",
         "False",
         "True",
         "False",
         "False",
         "False",
         "False",
         "False",
         "False",
         "False",
         "False",
         "False",
         "False",
         "False",
         "False",
         "False",
         "False",
         "False",
         "False",
         "False",
         "False",
         "False",
         "False",
         "False",
         "False",
         "False",
         "False",
         "False",
         "False",
         "False",
         "False",
         "False",
         "False",
         "False",
         "False",
         "False",
         "False",
         "False",
         "False",
         "False",
         "False",
         "False",
         "False",
         "False",
         "False",
         "False",
         "False",
         "False",
         "False",
         "False",
         "False",
         "False",
         "False",
         "False",
         "False",
         "False",
         "False",
         "False",
         "False",
         "False",
         "False",
         "False",
         "False",
         "False",
         "False",
         "False",
         "False",
         "False",
         "False",
         "False",
         "False",
         "False",
         "False",
         "False",
         "False",
         "False",
         "False",
         "False",
         "False",
         "False",
         "False",
         "False",
         "False",
         "False",
         "False",
         "False",
         "False",
         "False",
         "False",
         "False",
         "False",
         "False",
         "False",
         "False",
         "False",
         "False",
         "False",
         "False",
         "False",
         "False",
         "False",
         "False",
         "False",
         "False",
         "False",
         "False",
         "False",
         "False",
         "False",
         "False",
         "False",
         "False",
         "False",
         "False",
         "False",
         "False",
         "False",
         "False",
         "False",
         "False",
         "False",
         "False",
         "False",
         "False",
         "False",
         "False",
         "False",
         "False",
         "False",
         "False",
         "False",
         "False",
         "False",
         "False",
         "False",
         "True",
         "False",
         "False",
         "False",
         "False",
         "False",
         "False",
         "False",
         "False",
         "False",
         "False",
         "False",
         "False",
         "False",
         "False",
         "False",
         "False",
         "False",
         "False",
         "False",
         "False",
         "False",
         "False",
         "False",
         "False",
         "False",
         "False",
         "False",
         "False",
         "False",
         "False",
         "False",
         "False"
        ],
        [
         "1",
         "0.3075627452672431",
         "True",
         "False",
         "2.459898990620329",
         "True",
         "1.726275216882029",
         "1.5515062593881654",
         "1",
         "True",
         "False",
         "False",
         "False",
         "False",
         "False",
         "False",
         "False",
         "False",
         "False",
         "False",
         "False",
         "False",
         "False",
         "False",
         "False",
         "False",
         "False",
         "False",
         "False",
         "False",
         "False",
         "False",
         "False",
         "False",
         "False",
         "False",
         "False",
         "True",
         "False",
         "False",
         "False",
         "False",
         "False",
         "False",
         "False",
         "False",
         "False",
         "False",
         "False",
         "False",
         "False",
         "False",
         "False",
         "False",
         "False",
         "False",
         "False",
         "False",
         "False",
         "False",
         "False",
         "False",
         "False",
         "False",
         "False",
         "False",
         "False",
         "False",
         "False",
         "False",
         "False",
         "False",
         "False",
         "False",
         "False",
         "False",
         "False",
         "False",
         "False",
         "False",
         "False",
         "False",
         "False",
         "False",
         "False",
         "True",
         "False",
         "False",
         "False",
         "False",
         "False",
         "False",
         "False",
         "False",
         "False",
         "False",
         "False",
         "False",
         "False",
         "False",
         "False",
         "False",
         "False",
         "False",
         "False",
         "False",
         "False",
         "False",
         "False",
         "False",
         "False",
         "False",
         "False",
         "False",
         "False",
         "False",
         "False",
         "False",
         "False",
         "False",
         "False",
         "False",
         "False",
         "False",
         "False",
         "False",
         "False",
         "False",
         "False",
         "False",
         "False",
         "False",
         "False",
         "False",
         "False",
         "False",
         "False",
         "False",
         "False",
         "False",
         "False",
         "False",
         "False",
         "False",
         "False",
         "False",
         "False",
         "False",
         "False",
         "False",
         "False",
         "False",
         "False",
         "False",
         "False",
         "False",
         "False",
         "False",
         "False",
         "False",
         "False",
         "False",
         "False",
         "False",
         "False",
         "False",
         "False",
         "False",
         "False",
         "False",
         "False",
         "False",
         "False",
         "False",
         "False",
         "False",
         "False",
         "False",
         "False",
         "False",
         "False",
         "False",
         "False",
         "False",
         "False",
         "False",
         "False",
         "False",
         "False",
         "False",
         "False",
         "False",
         "False",
         "False",
         "False",
         "False",
         "False",
         "False",
         "False",
         "False",
         "False",
         "False",
         "False",
         "False",
         "False",
         "False",
         "False",
         "False",
         "False",
         "False"
        ],
        [
         "2",
         "-0.8926964263457245",
         "True",
         "True",
         "-1.0623158441263567",
         "False",
         "0.45972062365983823",
         "1.126371143721492",
         "0",
         "False",
         "False",
         "False",
         "False",
         "False",
         "False",
         "False",
         "False",
         "False",
         "False",
         "False",
         "False",
         "False",
         "False",
         "True",
         "False",
         "False",
         "False",
         "False",
         "False",
         "False",
         "False",
         "False",
         "False",
         "False",
         "False",
         "False",
         "False",
         "False",
         "False",
         "False",
         "False",
         "False",
         "False",
         "False",
         "False",
         "False",
         "False",
         "False",
         "False",
         "False",
         "False",
         "False",
         "False",
         "False",
         "False",
         "False",
         "False",
         "False",
         "False",
         "False",
         "False",
         "False",
         "False",
         "False",
         "False",
         "False",
         "False",
         "False",
         "False",
         "False",
         "False",
         "False",
         "False",
         "False",
         "False",
         "False",
         "False",
         "False",
         "False",
         "False",
         "False",
         "False",
         "False",
         "False",
         "False",
         "False",
         "False",
         "False",
         "False",
         "False",
         "False",
         "False",
         "False",
         "False",
         "False",
         "False",
         "False",
         "False",
         "False",
         "False",
         "False",
         "False",
         "False",
         "False",
         "False",
         "False",
         "False",
         "False",
         "False",
         "False",
         "False",
         "False",
         "False",
         "False",
         "False",
         "False",
         "False",
         "False",
         "False",
         "False",
         "False",
         "False",
         "False",
         "False",
         "False",
         "False",
         "False",
         "False",
         "False",
         "False",
         "False",
         "False",
         "False",
         "False",
         "False",
         "False",
         "False",
         "False",
         "False",
         "False",
         "False",
         "False",
         "False",
         "False",
         "False",
         "False",
         "False",
         "False",
         "False",
         "False",
         "False",
         "False",
         "False",
         "False",
         "False",
         "False",
         "False",
         "False",
         "False",
         "False",
         "False",
         "False",
         "False",
         "False",
         "False",
         "False",
         "False",
         "False",
         "False",
         "False",
         "False",
         "False",
         "False",
         "False",
         "False",
         "False",
         "False",
         "False",
         "False",
         "False",
         "False",
         "False",
         "False",
         "False",
         "False",
         "False",
         "False",
         "False",
         "False",
         "False",
         "False",
         "False",
         "False",
         "False",
         "False",
         "False",
         "False",
         "False",
         "False",
         "False",
         "True",
         "False",
         "False",
         "False",
         "False",
         "False",
         "False",
         "False",
         "False",
         "False"
        ],
        [
         "3",
         "-0.2258857754496314",
         "True",
         "False",
         "0.6987915732469862",
         "True",
         "-1.6896227638127246",
         "-1.0993362265334448",
         "0",
         "False",
         "True",
         "False",
         "False",
         "False",
         "False",
         "False",
         "False",
         "False",
         "False",
         "False",
         "False",
         "False",
         "False",
         "False",
         "False",
         "False",
         "False",
         "False",
         "False",
         "False",
         "False",
         "False",
         "False",
         "False",
         "False",
         "False",
         "False",
         "False",
         "False",
         "False",
         "False",
         "False",
         "False",
         "False",
         "False",
         "False",
         "False",
         "False",
         "False",
         "False",
         "False",
         "False",
         "False",
         "False",
         "False",
         "False",
         "False",
         "False",
         "False",
         "False",
         "False",
         "False",
         "False",
         "False",
         "False",
         "False",
         "False",
         "False",
         "False",
         "False",
         "False",
         "False",
         "False",
         "False",
         "False",
         "False",
         "False",
         "False",
         "False",
         "False",
         "False",
         "False",
         "False",
         "False",
         "False",
         "False",
         "False",
         "False",
         "False",
         "False",
         "False",
         "False",
         "False",
         "False",
         "False",
         "False",
         "False",
         "False",
         "False",
         "False",
         "False",
         "False",
         "False",
         "False",
         "False",
         "False",
         "False",
         "False",
         "False",
         "False",
         "False",
         "False",
         "False",
         "False",
         "False",
         "False",
         "False",
         "False",
         "False",
         "False",
         "False",
         "False",
         "False",
         "False",
         "False",
         "False",
         "False",
         "False",
         "False",
         "False",
         "False",
         "False",
         "False",
         "False",
         "False",
         "False",
         "False",
         "False",
         "False",
         "False",
         "False",
         "False",
         "False",
         "False",
         "False",
         "False",
         "False",
         "False",
         "False",
         "False",
         "False",
         "False",
         "False",
         "False",
         "False",
         "False",
         "False",
         "False",
         "False",
         "False",
         "False",
         "False",
         "False",
         "False",
         "False",
         "False",
         "False",
         "False",
         "False",
         "False",
         "False",
         "False",
         "False",
         "False",
         "False",
         "False",
         "False",
         "False",
         "False",
         "False",
         "False",
         "False",
         "False",
         "False",
         "False",
         "False",
         "False",
         "False",
         "False",
         "False",
         "False",
         "False",
         "False",
         "False",
         "False",
         "False",
         "False",
         "False",
         "False",
         "False",
         "False",
         "False",
         "False",
         "False",
         "True",
         "False",
         "False",
         "False",
         "False",
         "False"
        ],
        [
         "4",
         "-0.1592047103600221",
         "True",
         "True",
         "0.6987915732469862",
         "False",
         "0.08997505235882296",
         "1.6265301033293431",
         "0",
         "False",
         "False",
         "False",
         "False",
         "False",
         "False",
         "False",
         "False",
         "False",
         "False",
         "False",
         "False",
         "False",
         "False",
         "False",
         "True",
         "False",
         "False",
         "False",
         "False",
         "False",
         "False",
         "False",
         "False",
         "False",
         "False",
         "False",
         "False",
         "False",
         "False",
         "False",
         "False",
         "False",
         "False",
         "False",
         "False",
         "False",
         "False",
         "False",
         "False",
         "False",
         "False",
         "False",
         "False",
         "False",
         "False",
         "False",
         "False",
         "False",
         "False",
         "False",
         "False",
         "False",
         "False",
         "False",
         "False",
         "False",
         "False",
         "False",
         "False",
         "False",
         "False",
         "False",
         "False",
         "False",
         "False",
         "False",
         "False",
         "False",
         "False",
         "False",
         "False",
         "False",
         "False",
         "False",
         "False",
         "False",
         "False",
         "False",
         "False",
         "False",
         "False",
         "False",
         "False",
         "False",
         "False",
         "False",
         "False",
         "False",
         "False",
         "False",
         "False",
         "False",
         "False",
         "False",
         "False",
         "False",
         "False",
         "False",
         "False",
         "False",
         "False",
         "False",
         "False",
         "False",
         "False",
         "False",
         "False",
         "False",
         "False",
         "False",
         "False",
         "False",
         "False",
         "False",
         "False",
         "False",
         "False",
         "False",
         "False",
         "False",
         "False",
         "False",
         "False",
         "False",
         "False",
         "False",
         "False",
         "False",
         "False",
         "False",
         "False",
         "False",
         "False",
         "False",
         "False",
         "False",
         "False",
         "False",
         "False",
         "False",
         "False",
         "False",
         "False",
         "False",
         "False",
         "False",
         "False",
         "False",
         "False",
         "False",
         "False",
         "False",
         "False",
         "False",
         "False",
         "False",
         "False",
         "False",
         "False",
         "False",
         "False",
         "False",
         "False",
         "False",
         "False",
         "False",
         "False",
         "False",
         "False",
         "False",
         "False",
         "False",
         "False",
         "False",
         "False",
         "False",
         "False",
         "False",
         "False",
         "False",
         "False",
         "False",
         "False",
         "False",
         "False",
         "False",
         "False",
         "False",
         "False",
         "False",
         "True",
         "False",
         "False",
         "False",
         "False",
         "False",
         "False",
         "False",
         "False",
         "False"
        ]
       ],
       "shape": {
        "columns": 209,
        "rows": 5
       }
      },
      "text/html": [
       "<div>\n",
       "<style scoped>\n",
       "    .dataframe tbody tr th:only-of-type {\n",
       "        vertical-align: middle;\n",
       "    }\n",
       "\n",
       "    .dataframe tbody tr th {\n",
       "        vertical-align: top;\n",
       "    }\n",
       "\n",
       "    .dataframe thead th {\n",
       "        text-align: right;\n",
       "    }\n",
       "</style>\n",
       "<table border=\"1\" class=\"dataframe\">\n",
       "  <thead>\n",
       "    <tr style=\"text-align: right;\">\n",
       "      <th></th>\n",
       "      <th>Age</th>\n",
       "      <th>Driving_License</th>\n",
       "      <th>Previously_Insured</th>\n",
       "      <th>Vehicle_Age</th>\n",
       "      <th>Vehicle_Damage</th>\n",
       "      <th>Annual_Premium</th>\n",
       "      <th>Vintage</th>\n",
       "      <th>Response</th>\n",
       "      <th>Gender_Male</th>\n",
       "      <th>Region_Code_1.0</th>\n",
       "      <th>...</th>\n",
       "      <th>Policy_Sales_Channel_152.0</th>\n",
       "      <th>Policy_Sales_Channel_153.0</th>\n",
       "      <th>Policy_Sales_Channel_154.0</th>\n",
       "      <th>Policy_Sales_Channel_155.0</th>\n",
       "      <th>Policy_Sales_Channel_156.0</th>\n",
       "      <th>Policy_Sales_Channel_157.0</th>\n",
       "      <th>Policy_Sales_Channel_158.0</th>\n",
       "      <th>Policy_Sales_Channel_159.0</th>\n",
       "      <th>Policy_Sales_Channel_160.0</th>\n",
       "      <th>Policy_Sales_Channel_163.0</th>\n",
       "    </tr>\n",
       "  </thead>\n",
       "  <tbody>\n",
       "    <tr>\n",
       "      <th>0</th>\n",
       "      <td>-1.159421</td>\n",
       "      <td>True</td>\n",
       "      <td>False</td>\n",
       "      <td>0.698792</td>\n",
       "      <td>True</td>\n",
       "      <td>2.101969</td>\n",
       "      <td>0.288605</td>\n",
       "      <td>0</td>\n",
       "      <td>True</td>\n",
       "      <td>False</td>\n",
       "      <td>...</td>\n",
       "      <td>False</td>\n",
       "      <td>False</td>\n",
       "      <td>False</td>\n",
       "      <td>False</td>\n",
       "      <td>False</td>\n",
       "      <td>False</td>\n",
       "      <td>False</td>\n",
       "      <td>False</td>\n",
       "      <td>False</td>\n",
       "      <td>False</td>\n",
       "    </tr>\n",
       "    <tr>\n",
       "      <th>1</th>\n",
       "      <td>0.307563</td>\n",
       "      <td>True</td>\n",
       "      <td>False</td>\n",
       "      <td>2.459899</td>\n",
       "      <td>True</td>\n",
       "      <td>1.726275</td>\n",
       "      <td>1.551506</td>\n",
       "      <td>1</td>\n",
       "      <td>True</td>\n",
       "      <td>False</td>\n",
       "      <td>...</td>\n",
       "      <td>False</td>\n",
       "      <td>False</td>\n",
       "      <td>False</td>\n",
       "      <td>False</td>\n",
       "      <td>False</td>\n",
       "      <td>False</td>\n",
       "      <td>False</td>\n",
       "      <td>False</td>\n",
       "      <td>False</td>\n",
       "      <td>False</td>\n",
       "    </tr>\n",
       "    <tr>\n",
       "      <th>2</th>\n",
       "      <td>-0.892696</td>\n",
       "      <td>True</td>\n",
       "      <td>True</td>\n",
       "      <td>-1.062316</td>\n",
       "      <td>False</td>\n",
       "      <td>0.459721</td>\n",
       "      <td>1.126371</td>\n",
       "      <td>0</td>\n",
       "      <td>False</td>\n",
       "      <td>False</td>\n",
       "      <td>...</td>\n",
       "      <td>True</td>\n",
       "      <td>False</td>\n",
       "      <td>False</td>\n",
       "      <td>False</td>\n",
       "      <td>False</td>\n",
       "      <td>False</td>\n",
       "      <td>False</td>\n",
       "      <td>False</td>\n",
       "      <td>False</td>\n",
       "      <td>False</td>\n",
       "    </tr>\n",
       "    <tr>\n",
       "      <th>3</th>\n",
       "      <td>-0.225886</td>\n",
       "      <td>True</td>\n",
       "      <td>False</td>\n",
       "      <td>0.698792</td>\n",
       "      <td>True</td>\n",
       "      <td>-1.689623</td>\n",
       "      <td>-1.099336</td>\n",
       "      <td>0</td>\n",
       "      <td>False</td>\n",
       "      <td>True</td>\n",
       "      <td>...</td>\n",
       "      <td>False</td>\n",
       "      <td>False</td>\n",
       "      <td>False</td>\n",
       "      <td>False</td>\n",
       "      <td>True</td>\n",
       "      <td>False</td>\n",
       "      <td>False</td>\n",
       "      <td>False</td>\n",
       "      <td>False</td>\n",
       "      <td>False</td>\n",
       "    </tr>\n",
       "    <tr>\n",
       "      <th>4</th>\n",
       "      <td>-0.159205</td>\n",
       "      <td>True</td>\n",
       "      <td>True</td>\n",
       "      <td>0.698792</td>\n",
       "      <td>False</td>\n",
       "      <td>0.089975</td>\n",
       "      <td>1.626530</td>\n",
       "      <td>0</td>\n",
       "      <td>False</td>\n",
       "      <td>False</td>\n",
       "      <td>...</td>\n",
       "      <td>True</td>\n",
       "      <td>False</td>\n",
       "      <td>False</td>\n",
       "      <td>False</td>\n",
       "      <td>False</td>\n",
       "      <td>False</td>\n",
       "      <td>False</td>\n",
       "      <td>False</td>\n",
       "      <td>False</td>\n",
       "      <td>False</td>\n",
       "    </tr>\n",
       "  </tbody>\n",
       "</table>\n",
       "<p>5 rows × 209 columns</p>\n",
       "</div>"
      ],
      "text/plain": [
       "        Age  Driving_License  Previously_Insured  Vehicle_Age  Vehicle_Damage  \\\n",
       "0 -1.159421             True               False     0.698792            True   \n",
       "1  0.307563             True               False     2.459899            True   \n",
       "2 -0.892696             True                True    -1.062316           False   \n",
       "3 -0.225886             True               False     0.698792            True   \n",
       "4 -0.159205             True                True     0.698792           False   \n",
       "\n",
       "   Annual_Premium   Vintage  Response  Gender_Male  Region_Code_1.0  ...  \\\n",
       "0        2.101969  0.288605         0         True            False  ...   \n",
       "1        1.726275  1.551506         1         True            False  ...   \n",
       "2        0.459721  1.126371         0        False            False  ...   \n",
       "3       -1.689623 -1.099336         0        False             True  ...   \n",
       "4        0.089975  1.626530         0        False            False  ...   \n",
       "\n",
       "   Policy_Sales_Channel_152.0  Policy_Sales_Channel_153.0  \\\n",
       "0                       False                       False   \n",
       "1                       False                       False   \n",
       "2                        True                       False   \n",
       "3                       False                       False   \n",
       "4                        True                       False   \n",
       "\n",
       "   Policy_Sales_Channel_154.0  Policy_Sales_Channel_155.0  \\\n",
       "0                       False                       False   \n",
       "1                       False                       False   \n",
       "2                       False                       False   \n",
       "3                       False                       False   \n",
       "4                       False                       False   \n",
       "\n",
       "   Policy_Sales_Channel_156.0  Policy_Sales_Channel_157.0  \\\n",
       "0                       False                       False   \n",
       "1                       False                       False   \n",
       "2                       False                       False   \n",
       "3                        True                       False   \n",
       "4                       False                       False   \n",
       "\n",
       "   Policy_Sales_Channel_158.0  Policy_Sales_Channel_159.0  \\\n",
       "0                       False                       False   \n",
       "1                       False                       False   \n",
       "2                       False                       False   \n",
       "3                       False                       False   \n",
       "4                       False                       False   \n",
       "\n",
       "   Policy_Sales_Channel_160.0  Policy_Sales_Channel_163.0  \n",
       "0                       False                       False  \n",
       "1                       False                       False  \n",
       "2                       False                       False  \n",
       "3                       False                       False  \n",
       "4                       False                       False  \n",
       "\n",
       "[5 rows x 209 columns]"
      ]
     },
     "execution_count": 14,
     "metadata": {},
     "output_type": "execute_result"
    }
   ],
   "source": [
    "df_onehot = pd.get_dummies(df, drop_first=True)\n",
    "df_test_onehot = pd.get_dummies(df_test, drop_first=True)\n",
    "\n",
    "df_onehot.head()"
   ]
  },
  {
   "cell_type": "code",
   "execution_count": 18,
   "metadata": {},
   "outputs": [
    {
     "data": {
      "text/plain": [
       "<Axes: >"
      ]
     },
     "execution_count": 18,
     "metadata": {},
     "output_type": "execute_result"
    },
    {
     "data": {
      "image/png": "[encoded data removed]",
      "text/plain": [
       "<Figure size 640x480 with 2 Axes>"
      ]
     },
     "metadata": {},
     "output_type": "display_data"
    }
   ],
   "source": [
    "sns.heatmap(df[numerical_features].corr(), annot=True)"
   ]
  },
  {
   "cell_type": "markdown",
   "metadata": {},
   "source": [
    "# Модели"
   ]
  },
  {
   "cell_type": "code",
   "execution_count": 19,
   "metadata": {},
   "outputs": [],
   "source": [
    "X_train = df_onehot.drop('Response', axis=1)\n",
    "y_train = df_onehot['Response']\n",
    "\n",
    "X_test = df_test_onehot.drop('Response', axis=1)\n",
    "y_test = df_test_onehot['Response']\n",
    "\n"
   ]
  },
  {
   "cell_type": "markdown",
   "metadata": {},
   "source": [
    "### В тренировочной и тестовой выборках немного разнится набор столбцов. Выявим и удалим отличающиеся"
   ]
  },
  {
   "cell_type": "code",
   "execution_count": 20,
   "metadata": {},
   "outputs": [
    {
     "name": "stdout",
     "output_type": "stream",
     "text": [
      "['Policy_Sales_Channel_6.0']\n",
      "['Policy_Sales_Channel_102.0', 'Policy_Sales_Channel_5.0', 'Policy_Sales_Channel_112.0', 'Region_Code_39.2']\n"
     ]
    }
   ],
   "source": [
    "train_to_delete = list(set(X_train) - set(X_test))\n",
    "print(train_to_delete)\n",
    "test_to_delete = list(set(X_test) - set(X_train))\n",
    "print(test_to_delete)"
   ]
  },
  {
   "cell_type": "code",
   "execution_count": 21,
   "metadata": {},
   "outputs": [
    {
     "data": {
      "application/vnd.microsoft.datawrangler.viewer.v0+json": {
       "columns": [
        {
         "name": "index",
         "rawType": "int64",
         "type": "integer"
        },
        {
         "name": "Age",
         "rawType": "float64",
         "type": "float"
        },
        {
         "name": "Driving_License",
         "rawType": "bool",
         "type": "boolean"
        },
        {
         "name": "Previously_Insured",
         "rawType": "bool",
         "type": "boolean"
        },
        {
         "name": "Vehicle_Age",
         "rawType": "float64",
         "type": "float"
        },
        {
         "name": "Vehicle_Damage",
         "rawType": "bool",
         "type": "boolean"
        },
        {
         "name": "Annual_Premium",
         "rawType": "float64",
         "type": "float"
        },
        {
         "name": "Vintage",
         "rawType": "float64",
         "type": "float"
        },
        {
         "name": "Gender_Male",
         "rawType": "bool",
         "type": "boolean"
        },
        {
         "name": "Region_Code_1.0",
         "rawType": "bool",
         "type": "boolean"
        },
        {
         "name": "Region_Code_2.0",
         "rawType": "bool",
         "type": "boolean"
        },
        {
         "name": "Region_Code_3.0",
         "rawType": "bool",
         "type": "boolean"
        },
        {
         "name": "Region_Code_4.0",
         "rawType": "bool",
         "type": "boolean"
        },
        {
         "name": "Region_Code_5.0",
         "rawType": "bool",
         "type": "boolean"
        },
        {
         "name": "Region_Code_6.0",
         "rawType": "bool",
         "type": "boolean"
        },
        {
         "name": "Region_Code_7.0",
         "rawType": "bool",
         "type": "boolean"
        },
        {
         "name": "Region_Code_8.0",
         "rawType": "bool",
         "type": "boolean"
        },
        {
         "name": "Region_Code_9.0",
         "rawType": "bool",
         "type": "boolean"
        },
        {
         "name": "Region_Code_10.0",
         "rawType": "bool",
         "type": "boolean"
        },
        {
         "name": "Region_Code_11.0",
         "rawType": "bool",
         "type": "boolean"
        },
        {
         "name": "Region_Code_12.0",
         "rawType": "bool",
         "type": "boolean"
        },
        {
         "name": "Region_Code_13.0",
         "rawType": "bool",
         "type": "boolean"
        },
        {
         "name": "Region_Code_14.0",
         "rawType": "bool",
         "type": "boolean"
        },
        {
         "name": "Region_Code_15.0",
         "rawType": "bool",
         "type": "boolean"
        },
        {
         "name": "Region_Code_16.0",
         "rawType": "bool",
         "type": "boolean"
        },
        {
         "name": "Region_Code_17.0",
         "rawType": "bool",
         "type": "boolean"
        },
        {
         "name": "Region_Code_18.0",
         "rawType": "bool",
         "type": "boolean"
        },
        {
         "name": "Region_Code_19.0",
         "rawType": "bool",
         "type": "boolean"
        },
        {
         "name": "Region_Code_20.0",
         "rawType": "bool",
         "type": "boolean"
        },
        {
         "name": "Region_Code_21.0",
         "rawType": "bool",
         "type": "boolean"
        },
        {
         "name": "Region_Code_22.0",
         "rawType": "bool",
         "type": "boolean"
        },
        {
         "name": "Region_Code_23.0",
         "rawType": "bool",
         "type": "boolean"
        },
        {
         "name": "Region_Code_24.0",
         "rawType": "bool",
         "type": "boolean"
        },
        {
         "name": "Region_Code_25.0",
         "rawType": "bool",
         "type": "boolean"
        },
        {
         "name": "Region_Code_26.0",
         "rawType": "bool",
         "type": "boolean"
        },
        {
         "name": "Region_Code_27.0",
         "rawType": "bool",
         "type": "boolean"
        },
        {
         "name": "Region_Code_28.0",
         "rawType": "bool",
         "type": "boolean"
        },
        {
         "name": "Region_Code_29.0",
         "rawType": "bool",
         "type": "boolean"
        },
        {
         "name": "Region_Code_30.0",
         "rawType": "bool",
         "type": "boolean"
        },
        {
         "name": "Region_Code_31.0",
         "rawType": "bool",
         "type": "boolean"
        },
        {
         "name": "Region_Code_32.0",
         "rawType": "bool",
         "type": "boolean"
        },
        {
         "name": "Region_Code_33.0",
         "rawType": "bool",
         "type": "boolean"
        },
        {
         "name": "Region_Code_34.0",
         "rawType": "bool",
         "type": "boolean"
        },
        {
         "name": "Region_Code_35.0",
         "rawType": "bool",
         "type": "boolean"
        },
        {
         "name": "Region_Code_36.0",
         "rawType": "bool",
         "type": "boolean"
        },
        {
         "name": "Region_Code_37.0",
         "rawType": "bool",
         "type": "boolean"
        },
        {
         "name": "Region_Code_38.0",
         "rawType": "bool",
         "type": "boolean"
        },
        {
         "name": "Region_Code_39.0",
         "rawType": "bool",
         "type": "boolean"
        },
        {
         "name": "Region_Code_40.0",
         "rawType": "bool",
         "type": "boolean"
        },
        {
         "name": "Region_Code_41.0",
         "rawType": "bool",
         "type": "boolean"
        },
        {
         "name": "Region_Code_42.0",
         "rawType": "bool",
         "type": "boolean"
        },
        {
         "name": "Region_Code_43.0",
         "rawType": "bool",
         "type": "boolean"
        },
        {
         "name": "Region_Code_44.0",
         "rawType": "bool",
         "type": "boolean"
        },
        {
         "name": "Region_Code_45.0",
         "rawType": "bool",
         "type": "boolean"
        },
        {
         "name": "Region_Code_46.0",
         "rawType": "bool",
         "type": "boolean"
        },
        {
         "name": "Region_Code_47.0",
         "rawType": "bool",
         "type": "boolean"
        },
        {
         "name": "Region_Code_48.0",
         "rawType": "bool",
         "type": "boolean"
        },
        {
         "name": "Region_Code_49.0",
         "rawType": "bool",
         "type": "boolean"
        },
        {
         "name": "Region_Code_50.0",
         "rawType": "bool",
         "type": "boolean"
        },
        {
         "name": "Region_Code_51.0",
         "rawType": "bool",
         "type": "boolean"
        },
        {
         "name": "Region_Code_52.0",
         "rawType": "bool",
         "type": "boolean"
        },
        {
         "name": "Policy_Sales_Channel_2.0",
         "rawType": "bool",
         "type": "boolean"
        },
        {
         "name": "Policy_Sales_Channel_3.0",
         "rawType": "bool",
         "type": "boolean"
        },
        {
         "name": "Policy_Sales_Channel_4.0",
         "rawType": "bool",
         "type": "boolean"
        },
        {
         "name": "Policy_Sales_Channel_7.0",
         "rawType": "bool",
         "type": "boolean"
        },
        {
         "name": "Policy_Sales_Channel_8.0",
         "rawType": "bool",
         "type": "boolean"
        },
        {
         "name": "Policy_Sales_Channel_9.0",
         "rawType": "bool",
         "type": "boolean"
        },
        {
         "name": "Policy_Sales_Channel_10.0",
         "rawType": "bool",
         "type": "boolean"
        },
        {
         "name": "Policy_Sales_Channel_11.0",
         "rawType": "bool",
         "type": "boolean"
        },
        {
         "name": "Policy_Sales_Channel_12.0",
         "rawType": "bool",
         "type": "boolean"
        },
        {
         "name": "Policy_Sales_Channel_13.0",
         "rawType": "bool",
         "type": "boolean"
        },
        {
         "name": "Policy_Sales_Channel_14.0",
         "rawType": "bool",
         "type": "boolean"
        },
        {
         "name": "Policy_Sales_Channel_15.0",
         "rawType": "bool",
         "type": "boolean"
        },
        {
         "name": "Policy_Sales_Channel_16.0",
         "rawType": "bool",
         "type": "boolean"
        },
        {
         "name": "Policy_Sales_Channel_17.0",
         "rawType": "bool",
         "type": "boolean"
        },
        {
         "name": "Policy_Sales_Channel_18.0",
         "rawType": "bool",
         "type": "boolean"
        },
        {
         "name": "Policy_Sales_Channel_19.0",
         "rawType": "bool",
         "type": "boolean"
        },
        {
         "name": "Policy_Sales_Channel_20.0",
         "rawType": "bool",
         "type": "boolean"
        },
        {
         "name": "Policy_Sales_Channel_21.0",
         "rawType": "bool",
         "type": "boolean"
        },
        {
         "name": "Policy_Sales_Channel_22.0",
         "rawType": "bool",
         "type": "boolean"
        },
        {
         "name": "Policy_Sales_Channel_23.0",
         "rawType": "bool",
         "type": "boolean"
        },
        {
         "name": "Policy_Sales_Channel_24.0",
         "rawType": "bool",
         "type": "boolean"
        },
        {
         "name": "Policy_Sales_Channel_25.0",
         "rawType": "bool",
         "type": "boolean"
        },
        {
         "name": "Policy_Sales_Channel_26.0",
         "rawType": "bool",
         "type": "boolean"
        },
        {
         "name": "Policy_Sales_Channel_27.0",
         "rawType": "bool",
         "type": "boolean"
        },
        {
         "name": "Policy_Sales_Channel_28.0",
         "rawType": "bool",
         "type": "boolean"
        },
        {
         "name": "Policy_Sales_Channel_29.0",
         "rawType": "bool",
         "type": "boolean"
        },
        {
         "name": "Policy_Sales_Channel_30.0",
         "rawType": "bool",
         "type": "boolean"
        },
        {
         "name": "Policy_Sales_Channel_31.0",
         "rawType": "bool",
         "type": "boolean"
        },
        {
         "name": "Policy_Sales_Channel_32.0",
         "rawType": "bool",
         "type": "boolean"
        },
        {
         "name": "Policy_Sales_Channel_33.0",
         "rawType": "bool",
         "type": "boolean"
        },
        {
         "name": "Policy_Sales_Channel_34.0",
         "rawType": "bool",
         "type": "boolean"
        },
        {
         "name": "Policy_Sales_Channel_35.0",
         "rawType": "bool",
         "type": "boolean"
        },
        {
         "name": "Policy_Sales_Channel_36.0",
         "rawType": "bool",
         "type": "boolean"
        },
        {
         "name": "Policy_Sales_Channel_37.0",
         "rawType": "bool",
         "type": "boolean"
        },
        {
         "name": "Policy_Sales_Channel_38.0",
         "rawType": "bool",
         "type": "boolean"
        },
        {
         "name": "Policy_Sales_Channel_39.0",
         "rawType": "bool",
         "type": "boolean"
        },
        {
         "name": "Policy_Sales_Channel_40.0",
         "rawType": "bool",
         "type": "boolean"
        },
        {
         "name": "Policy_Sales_Channel_41.0",
         "rawType": "bool",
         "type": "boolean"
        },
        {
         "name": "Policy_Sales_Channel_42.0",
         "rawType": "bool",
         "type": "boolean"
        },
        {
         "name": "Policy_Sales_Channel_43.0",
         "rawType": "bool",
         "type": "boolean"
        },
        {
         "name": "Policy_Sales_Channel_44.0",
         "rawType": "bool",
         "type": "boolean"
        },
        {
         "name": "Policy_Sales_Channel_45.0",
         "rawType": "bool",
         "type": "boolean"
        },
        {
         "name": "Policy_Sales_Channel_46.0",
         "rawType": "bool",
         "type": "boolean"
        },
        {
         "name": "Policy_Sales_Channel_47.0",
         "rawType": "bool",
         "type": "boolean"
        },
        {
         "name": "Policy_Sales_Channel_48.0",
         "rawType": "bool",
         "type": "boolean"
        },
        {
         "name": "Policy_Sales_Channel_49.0",
         "rawType": "bool",
         "type": "boolean"
        },
        {
         "name": "Policy_Sales_Channel_50.0",
         "rawType": "bool",
         "type": "boolean"
        },
        {
         "name": "Policy_Sales_Channel_51.0",
         "rawType": "bool",
         "type": "boolean"
        },
        {
         "name": "Policy_Sales_Channel_52.0",
         "rawType": "bool",
         "type": "boolean"
        },
        {
         "name": "Policy_Sales_Channel_53.0",
         "rawType": "bool",
         "type": "boolean"
        },
        {
         "name": "Policy_Sales_Channel_54.0",
         "rawType": "bool",
         "type": "boolean"
        },
        {
         "name": "Policy_Sales_Channel_55.0",
         "rawType": "bool",
         "type": "boolean"
        },
        {
         "name": "Policy_Sales_Channel_56.0",
         "rawType": "bool",
         "type": "boolean"
        },
        {
         "name": "Policy_Sales_Channel_57.0",
         "rawType": "bool",
         "type": "boolean"
        },
        {
         "name": "Policy_Sales_Channel_58.0",
         "rawType": "bool",
         "type": "boolean"
        },
        {
         "name": "Policy_Sales_Channel_59.0",
         "rawType": "bool",
         "type": "boolean"
        },
        {
         "name": "Policy_Sales_Channel_60.0",
         "rawType": "bool",
         "type": "boolean"
        },
        {
         "name": "Policy_Sales_Channel_61.0",
         "rawType": "bool",
         "type": "boolean"
        },
        {
         "name": "Policy_Sales_Channel_62.0",
         "rawType": "bool",
         "type": "boolean"
        },
        {
         "name": "Policy_Sales_Channel_63.0",
         "rawType": "bool",
         "type": "boolean"
        },
        {
         "name": "Policy_Sales_Channel_64.0",
         "rawType": "bool",
         "type": "boolean"
        },
        {
         "name": "Policy_Sales_Channel_65.0",
         "rawType": "bool",
         "type": "boolean"
        },
        {
         "name": "Policy_Sales_Channel_66.0",
         "rawType": "bool",
         "type": "boolean"
        },
        {
         "name": "Policy_Sales_Channel_67.0",
         "rawType": "bool",
         "type": "boolean"
        },
        {
         "name": "Policy_Sales_Channel_68.0",
         "rawType": "bool",
         "type": "boolean"
        },
        {
         "name": "Policy_Sales_Channel_69.0",
         "rawType": "bool",
         "type": "boolean"
        },
        {
         "name": "Policy_Sales_Channel_70.0",
         "rawType": "bool",
         "type": "boolean"
        },
        {
         "name": "Policy_Sales_Channel_71.0",
         "rawType": "bool",
         "type": "boolean"
        },
        {
         "name": "Policy_Sales_Channel_73.0",
         "rawType": "bool",
         "type": "boolean"
        },
        {
         "name": "Policy_Sales_Channel_74.0",
         "rawType": "bool",
         "type": "boolean"
        },
        {
         "name": "Policy_Sales_Channel_75.0",
         "rawType": "bool",
         "type": "boolean"
        },
        {
         "name": "Policy_Sales_Channel_76.0",
         "rawType": "bool",
         "type": "boolean"
        },
        {
         "name": "Policy_Sales_Channel_78.0",
         "rawType": "bool",
         "type": "boolean"
        },
        {
         "name": "Policy_Sales_Channel_79.0",
         "rawType": "bool",
         "type": "boolean"
        },
        {
         "name": "Policy_Sales_Channel_80.0",
         "rawType": "bool",
         "type": "boolean"
        },
        {
         "name": "Policy_Sales_Channel_81.0",
         "rawType": "bool",
         "type": "boolean"
        },
        {
         "name": "Policy_Sales_Channel_82.0",
         "rawType": "bool",
         "type": "boolean"
        },
        {
         "name": "Policy_Sales_Channel_83.0",
         "rawType": "bool",
         "type": "boolean"
        },
        {
         "name": "Policy_Sales_Channel_86.0",
         "rawType": "bool",
         "type": "boolean"
        },
        {
         "name": "Policy_Sales_Channel_87.0",
         "rawType": "bool",
         "type": "boolean"
        },
        {
         "name": "Policy_Sales_Channel_88.0",
         "rawType": "bool",
         "type": "boolean"
        },
        {
         "name": "Policy_Sales_Channel_89.0",
         "rawType": "bool",
         "type": "boolean"
        },
        {
         "name": "Policy_Sales_Channel_90.0",
         "rawType": "bool",
         "type": "boolean"
        },
        {
         "name": "Policy_Sales_Channel_91.0",
         "rawType": "bool",
         "type": "boolean"
        },
        {
         "name": "Policy_Sales_Channel_92.0",
         "rawType": "bool",
         "type": "boolean"
        },
        {
         "name": "Policy_Sales_Channel_93.0",
         "rawType": "bool",
         "type": "boolean"
        },
        {
         "name": "Policy_Sales_Channel_94.0",
         "rawType": "bool",
         "type": "boolean"
        },
        {
         "name": "Policy_Sales_Channel_95.0",
         "rawType": "bool",
         "type": "boolean"
        },
        {
         "name": "Policy_Sales_Channel_96.0",
         "rawType": "bool",
         "type": "boolean"
        },
        {
         "name": "Policy_Sales_Channel_97.0",
         "rawType": "bool",
         "type": "boolean"
        },
        {
         "name": "Policy_Sales_Channel_98.0",
         "rawType": "bool",
         "type": "boolean"
        },
        {
         "name": "Policy_Sales_Channel_99.0",
         "rawType": "bool",
         "type": "boolean"
        },
        {
         "name": "Policy_Sales_Channel_100.0",
         "rawType": "bool",
         "type": "boolean"
        },
        {
         "name": "Policy_Sales_Channel_101.0",
         "rawType": "bool",
         "type": "boolean"
        },
        {
         "name": "Policy_Sales_Channel_103.0",
         "rawType": "bool",
         "type": "boolean"
        },
        {
         "name": "Policy_Sales_Channel_104.0",
         "rawType": "bool",
         "type": "boolean"
        },
        {
         "name": "Policy_Sales_Channel_105.0",
         "rawType": "bool",
         "type": "boolean"
        },
        {
         "name": "Policy_Sales_Channel_106.0",
         "rawType": "bool",
         "type": "boolean"
        },
        {
         "name": "Policy_Sales_Channel_107.0",
         "rawType": "bool",
         "type": "boolean"
        },
        {
         "name": "Policy_Sales_Channel_108.0",
         "rawType": "bool",
         "type": "boolean"
        },
        {
         "name": "Policy_Sales_Channel_109.0",
         "rawType": "bool",
         "type": "boolean"
        },
        {
         "name": "Policy_Sales_Channel_110.0",
         "rawType": "bool",
         "type": "boolean"
        },
        {
         "name": "Policy_Sales_Channel_111.0",
         "rawType": "bool",
         "type": "boolean"
        },
        {
         "name": "Policy_Sales_Channel_113.0",
         "rawType": "bool",
         "type": "boolean"
        },
        {
         "name": "Policy_Sales_Channel_114.0",
         "rawType": "bool",
         "type": "boolean"
        },
        {
         "name": "Policy_Sales_Channel_115.0",
         "rawType": "bool",
         "type": "boolean"
        },
        {
         "name": "Policy_Sales_Channel_116.0",
         "rawType": "bool",
         "type": "boolean"
        },
        {
         "name": "Policy_Sales_Channel_117.0",
         "rawType": "bool",
         "type": "boolean"
        },
        {
         "name": "Policy_Sales_Channel_118.0",
         "rawType": "bool",
         "type": "boolean"
        },
        {
         "name": "Policy_Sales_Channel_119.0",
         "rawType": "bool",
         "type": "boolean"
        },
        {
         "name": "Policy_Sales_Channel_120.0",
         "rawType": "bool",
         "type": "boolean"
        },
        {
         "name": "Policy_Sales_Channel_121.0",
         "rawType": "bool",
         "type": "boolean"
        },
        {
         "name": "Policy_Sales_Channel_122.0",
         "rawType": "bool",
         "type": "boolean"
        },
        {
         "name": "Policy_Sales_Channel_123.0",
         "rawType": "bool",
         "type": "boolean"
        },
        {
         "name": "Policy_Sales_Channel_124.0",
         "rawType": "bool",
         "type": "boolean"
        },
        {
         "name": "Policy_Sales_Channel_125.0",
         "rawType": "bool",
         "type": "boolean"
        },
        {
         "name": "Policy_Sales_Channel_126.0",
         "rawType": "bool",
         "type": "boolean"
        },
        {
         "name": "Policy_Sales_Channel_127.0",
         "rawType": "bool",
         "type": "boolean"
        },
        {
         "name": "Policy_Sales_Channel_128.0",
         "rawType": "bool",
         "type": "boolean"
        },
        {
         "name": "Policy_Sales_Channel_129.0",
         "rawType": "bool",
         "type": "boolean"
        },
        {
         "name": "Policy_Sales_Channel_130.0",
         "rawType": "bool",
         "type": "boolean"
        },
        {
         "name": "Policy_Sales_Channel_131.0",
         "rawType": "bool",
         "type": "boolean"
        },
        {
         "name": "Policy_Sales_Channel_132.0",
         "rawType": "bool",
         "type": "boolean"
        },
        {
         "name": "Policy_Sales_Channel_133.0",
         "rawType": "bool",
         "type": "boolean"
        },
        {
         "name": "Policy_Sales_Channel_134.0",
         "rawType": "bool",
         "type": "boolean"
        },
        {
         "name": "Policy_Sales_Channel_135.0",
         "rawType": "bool",
         "type": "boolean"
        },
        {
         "name": "Policy_Sales_Channel_136.0",
         "rawType": "bool",
         "type": "boolean"
        },
        {
         "name": "Policy_Sales_Channel_137.0",
         "rawType": "bool",
         "type": "boolean"
        },
        {
         "name": "Policy_Sales_Channel_138.0",
         "rawType": "bool",
         "type": "boolean"
        },
        {
         "name": "Policy_Sales_Channel_139.0",
         "rawType": "bool",
         "type": "boolean"
        },
        {
         "name": "Policy_Sales_Channel_140.0",
         "rawType": "bool",
         "type": "boolean"
        },
        {
         "name": "Policy_Sales_Channel_145.0",
         "rawType": "bool",
         "type": "boolean"
        },
        {
         "name": "Policy_Sales_Channel_146.0",
         "rawType": "bool",
         "type": "boolean"
        },
        {
         "name": "Policy_Sales_Channel_147.0",
         "rawType": "bool",
         "type": "boolean"
        },
        {
         "name": "Policy_Sales_Channel_148.0",
         "rawType": "bool",
         "type": "boolean"
        },
        {
         "name": "Policy_Sales_Channel_150.0",
         "rawType": "bool",
         "type": "boolean"
        },
        {
         "name": "Policy_Sales_Channel_151.0",
         "rawType": "bool",
         "type": "boolean"
        },
        {
         "name": "Policy_Sales_Channel_152.0",
         "rawType": "bool",
         "type": "boolean"
        },
        {
         "name": "Policy_Sales_Channel_153.0",
         "rawType": "bool",
         "type": "boolean"
        },
        {
         "name": "Policy_Sales_Channel_154.0",
         "rawType": "bool",
         "type": "boolean"
        },
        {
         "name": "Policy_Sales_Channel_155.0",
         "rawType": "bool",
         "type": "boolean"
        },
        {
         "name": "Policy_Sales_Channel_156.0",
         "rawType": "bool",
         "type": "boolean"
        },
        {
         "name": "Policy_Sales_Channel_157.0",
         "rawType": "bool",
         "type": "boolean"
        },
        {
         "name": "Policy_Sales_Channel_158.0",
         "rawType": "bool",
         "type": "boolean"
        },
        {
         "name": "Policy_Sales_Channel_159.0",
         "rawType": "bool",
         "type": "boolean"
        },
        {
         "name": "Policy_Sales_Channel_160.0",
         "rawType": "bool",
         "type": "boolean"
        },
        {
         "name": "Policy_Sales_Channel_163.0",
         "rawType": "bool",
         "type": "boolean"
        }
       ],
       "conversionMethod": "pd.DataFrame",
       "ref": "dc6a4985-ee52-4245-a4bc-e35ca8ca337b",
       "rows": [
        [
         "0",
         "-1.1594206867041619",
         "True",
         "False",
         "0.6987915732469862",
         "True",
         "2.1019687635585367",
         "0.28860488637834164",
         "True",
         "False",
         "False",
         "False",
         "False",
         "False",
         "False",
         "False",
         "False",
         "False",
         "False",
         "False",
         "False",
         "False",
         "False",
         "False",
         "False",
         "False",
         "False",
         "False",
         "False",
         "False",
         "False",
         "False",
         "False",
         "False",
         "False",
         "False",
         "False",
         "False",
         "False",
         "False",
         "False",
         "False",
         "False",
         "True",
         "False",
         "False",
         "False",
         "False",
         "False",
         "False",
         "False",
         "False",
         "False",
         "False",
         "False",
         "False",
         "False",
         "False",
         "False",
         "False",
         "False",
         "False",
         "False",
         "False",
         "False",
         "False",
         "False",
         "False",
         "False",
         "False",
         "False",
         "False",
         "False",
         "False",
         "False",
         "False",
         "False",
         "False",
         "False",
         "False",
         "False",
         "False",
         "False",
         "False",
         "False",
         "False",
         "False",
         "False",
         "False",
         "False",
         "False",
         "False",
         "False",
         "False",
         "False",
         "False",
         "False",
         "False",
         "False",
         "False",
         "False",
         "False",
         "False",
         "False",
         "False",
         "False",
         "False",
         "False",
         "False",
         "False",
         "False",
         "False",
         "False",
         "False",
         "False",
         "False",
         "False",
         "False",
         "False",
         "False",
         "False",
         "False",
         "False",
         "False",
         "False",
         "False",
         "False",
         "False",
         "False",
         "False",
         "False",
         "False",
         "False",
         "False",
         "False",
         "False",
         "False",
         "False",
         "False",
         "False",
         "False",
         "False",
         "False",
         "False",
         "False",
         "False",
         "False",
         "False",
         "False",
         "False",
         "False",
         "False",
         "False",
         "False",
         "False",
         "False",
         "False",
         "False",
         "False",
         "False",
         "False",
         "False",
         "False",
         "False",
         "False",
         "False",
         "False",
         "False",
         "False",
         "False",
         "False",
         "False",
         "False",
         "False",
         "False",
         "True",
         "False",
         "False",
         "False",
         "False",
         "False",
         "False",
         "False",
         "False",
         "False",
         "False",
         "False",
         "False",
         "False",
         "False",
         "False",
         "False",
         "False",
         "False",
         "False",
         "False",
         "False",
         "False",
         "False",
         "False",
         "False",
         "False",
         "False",
         "False",
         "False",
         "False",
         "False",
         "False"
        ],
        [
         "1",
         "0.3075627452672431",
         "True",
         "False",
         "2.459898990620329",
         "True",
         "1.726275216882029",
         "1.5515062593881654",
         "True",
         "False",
         "False",
         "False",
         "False",
         "False",
         "False",
         "False",
         "False",
         "False",
         "False",
         "False",
         "False",
         "False",
         "False",
         "False",
         "False",
         "False",
         "False",
         "False",
         "False",
         "False",
         "False",
         "False",
         "False",
         "False",
         "False",
         "False",
         "True",
         "False",
         "False",
         "False",
         "False",
         "False",
         "False",
         "False",
         "False",
         "False",
         "False",
         "False",
         "False",
         "False",
         "False",
         "False",
         "False",
         "False",
         "False",
         "False",
         "False",
         "False",
         "False",
         "False",
         "False",
         "False",
         "False",
         "False",
         "False",
         "False",
         "False",
         "False",
         "False",
         "False",
         "False",
         "False",
         "False",
         "False",
         "False",
         "False",
         "False",
         "False",
         "False",
         "False",
         "False",
         "False",
         "False",
         "True",
         "False",
         "False",
         "False",
         "False",
         "False",
         "False",
         "False",
         "False",
         "False",
         "False",
         "False",
         "False",
         "False",
         "False",
         "False",
         "False",
         "False",
         "False",
         "False",
         "False",
         "False",
         "False",
         "False",
         "False",
         "False",
         "False",
         "False",
         "False",
         "False",
         "False",
         "False",
         "False",
         "False",
         "False",
         "False",
         "False",
         "False",
         "False",
         "False",
         "False",
         "False",
         "False",
         "False",
         "False",
         "False",
         "False",
         "False",
         "False",
         "False",
         "False",
         "False",
         "False",
         "False",
         "False",
         "False",
         "False",
         "False",
         "False",
         "False",
         "False",
         "False",
         "False",
         "False",
         "False",
         "False",
         "False",
         "False",
         "False",
         "False",
         "False",
         "False",
         "False",
         "False",
         "False",
         "False",
         "False",
         "False",
         "False",
         "False",
         "False",
         "False",
         "False",
         "False",
         "False",
         "False",
         "False",
         "False",
         "False",
         "False",
         "False",
         "False",
         "False",
         "False",
         "False",
         "False",
         "False",
         "False",
         "False",
         "False",
         "False",
         "False",
         "False",
         "False",
         "False",
         "False",
         "False",
         "False",
         "False",
         "False",
         "False",
         "False",
         "False",
         "False",
         "False",
         "False",
         "False",
         "False",
         "False",
         "False",
         "False",
         "False",
         "False",
         "False",
         "False"
        ],
        [
         "2",
         "-0.8926964263457245",
         "True",
         "True",
         "-1.0623158441263567",
         "False",
         "0.45972062365983823",
         "1.126371143721492",
         "False",
         "False",
         "False",
         "False",
         "False",
         "False",
         "False",
         "False",
         "False",
         "False",
         "False",
         "False",
         "False",
         "False",
         "True",
         "False",
         "False",
         "False",
         "False",
         "False",
         "False",
         "False",
         "False",
         "False",
         "False",
         "False",
         "False",
         "False",
         "False",
         "False",
         "False",
         "False",
         "False",
         "False",
         "False",
         "False",
         "False",
         "False",
         "False",
         "False",
         "False",
         "False",
         "False",
         "False",
         "False",
         "False",
         "False",
         "False",
         "False",
         "False",
         "False",
         "False",
         "False",
         "False",
         "False",
         "False",
         "False",
         "False",
         "False",
         "False",
         "False",
         "False",
         "False",
         "False",
         "False",
         "False",
         "False",
         "False",
         "False",
         "False",
         "False",
         "False",
         "False",
         "False",
         "False",
         "False",
         "False",
         "False",
         "False",
         "False",
         "False",
         "False",
         "False",
         "False",
         "False",
         "False",
         "False",
         "False",
         "False",
         "False",
         "False",
         "False",
         "False",
         "False",
         "False",
         "False",
         "False",
         "False",
         "False",
         "False",
         "False",
         "False",
         "False",
         "False",
         "False",
         "False",
         "False",
         "False",
         "False",
         "False",
         "False",
         "False",
         "False",
         "False",
         "False",
         "False",
         "False",
         "False",
         "False",
         "False",
         "False",
         "False",
         "False",
         "False",
         "False",
         "False",
         "False",
         "False",
         "False",
         "False",
         "False",
         "False",
         "False",
         "False",
         "False",
         "False",
         "False",
         "False",
         "False",
         "False",
         "False",
         "False",
         "False",
         "False",
         "False",
         "False",
         "False",
         "False",
         "False",
         "False",
         "False",
         "False",
         "False",
         "False",
         "False",
         "False",
         "False",
         "False",
         "False",
         "False",
         "False",
         "False",
         "False",
         "False",
         "False",
         "False",
         "False",
         "False",
         "False",
         "False",
         "False",
         "False",
         "False",
         "False",
         "False",
         "False",
         "False",
         "False",
         "False",
         "False",
         "False",
         "False",
         "False",
         "False",
         "False",
         "False",
         "False",
         "False",
         "False",
         "False",
         "True",
         "False",
         "False",
         "False",
         "False",
         "False",
         "False",
         "False",
         "False",
         "False"
        ],
        [
         "3",
         "-0.2258857754496314",
         "True",
         "False",
         "0.6987915732469862",
         "True",
         "-1.6896227638127246",
         "-1.0993362265334448",
         "False",
         "True",
         "False",
         "False",
         "False",
         "False",
         "False",
         "False",
         "False",
         "False",
         "False",
         "False",
         "False",
         "False",
         "False",
         "False",
         "False",
         "False",
         "False",
         "False",
         "False",
         "False",
         "False",
         "False",
         "False",
         "False",
         "False",
         "False",
         "False",
         "False",
         "False",
         "False",
         "False",
         "False",
         "False",
         "False",
         "False",
         "False",
         "False",
         "False",
         "False",
         "False",
         "False",
         "False",
         "False",
         "False",
         "False",
         "False",
         "False",
         "False",
         "False",
         "False",
         "False",
         "False",
         "False",
         "False",
         "False",
         "False",
         "False",
         "False",
         "False",
         "False",
         "False",
         "False",
         "False",
         "False",
         "False",
         "False",
         "False",
         "False",
         "False",
         "False",
         "False",
         "False",
         "False",
         "False",
         "False",
         "False",
         "False",
         "False",
         "False",
         "False",
         "False",
         "False",
         "False",
         "False",
         "False",
         "False",
         "False",
         "False",
         "False",
         "False",
         "False",
         "False",
         "False",
         "False",
         "False",
         "False",
         "False",
         "False",
         "False",
         "False",
         "False",
         "False",
         "False",
         "False",
         "False",
         "False",
         "False",
         "False",
         "False",
         "False",
         "False",
         "False",
         "False",
         "False",
         "False",
         "False",
         "False",
         "False",
         "False",
         "False",
         "False",
         "False",
         "False",
         "False",
         "False",
         "False",
         "False",
         "False",
         "False",
         "False",
         "False",
         "False",
         "False",
         "False",
         "False",
         "False",
         "False",
         "False",
         "False",
         "False",
         "False",
         "False",
         "False",
         "False",
         "False",
         "False",
         "False",
         "False",
         "False",
         "False",
         "False",
         "False",
         "False",
         "False",
         "False",
         "False",
         "False",
         "False",
         "False",
         "False",
         "False",
         "False",
         "False",
         "False",
         "False",
         "False",
         "False",
         "False",
         "False",
         "False",
         "False",
         "False",
         "False",
         "False",
         "False",
         "False",
         "False",
         "False",
         "False",
         "False",
         "False",
         "False",
         "False",
         "False",
         "False",
         "False",
         "False",
         "False",
         "False",
         "False",
         "False",
         "False",
         "True",
         "False",
         "False",
         "False",
         "False",
         "False"
        ],
        [
         "4",
         "-0.1592047103600221",
         "True",
         "True",
         "0.6987915732469862",
         "False",
         "0.08997505235882296",
         "1.6265301033293431",
         "False",
         "False",
         "False",
         "False",
         "False",
         "False",
         "False",
         "False",
         "False",
         "False",
         "False",
         "False",
         "False",
         "False",
         "False",
         "True",
         "False",
         "False",
         "False",
         "False",
         "False",
         "False",
         "False",
         "False",
         "False",
         "False",
         "False",
         "False",
         "False",
         "False",
         "False",
         "False",
         "False",
         "False",
         "False",
         "False",
         "False",
         "False",
         "False",
         "False",
         "False",
         "False",
         "False",
         "False",
         "False",
         "False",
         "False",
         "False",
         "False",
         "False",
         "False",
         "False",
         "False",
         "False",
         "False",
         "False",
         "False",
         "False",
         "False",
         "False",
         "False",
         "False",
         "False",
         "False",
         "False",
         "False",
         "False",
         "False",
         "False",
         "False",
         "False",
         "False",
         "False",
         "False",
         "False",
         "False",
         "False",
         "False",
         "False",
         "False",
         "False",
         "False",
         "False",
         "False",
         "False",
         "False",
         "False",
         "False",
         "False",
         "False",
         "False",
         "False",
         "False",
         "False",
         "False",
         "False",
         "False",
         "False",
         "False",
         "False",
         "False",
         "False",
         "False",
         "False",
         "False",
         "False",
         "False",
         "False",
         "False",
         "False",
         "False",
         "False",
         "False",
         "False",
         "False",
         "False",
         "False",
         "False",
         "False",
         "False",
         "False",
         "False",
         "False",
         "False",
         "False",
         "False",
         "False",
         "False",
         "False",
         "False",
         "False",
         "False",
         "False",
         "False",
         "False",
         "False",
         "False",
         "False",
         "False",
         "False",
         "False",
         "False",
         "False",
         "False",
         "False",
         "False",
         "False",
         "False",
         "False",
         "False",
         "False",
         "False",
         "False",
         "False",
         "False",
         "False",
         "False",
         "False",
         "False",
         "False",
         "False",
         "False",
         "False",
         "False",
         "False",
         "False",
         "False",
         "False",
         "False",
         "False",
         "False",
         "False",
         "False",
         "False",
         "False",
         "False",
         "False",
         "False",
         "False",
         "False",
         "False",
         "False",
         "False",
         "False",
         "False",
         "False",
         "False",
         "False",
         "False",
         "False",
         "True",
         "False",
         "False",
         "False",
         "False",
         "False",
         "False",
         "False",
         "False",
         "False"
        ]
       ],
       "shape": {
        "columns": 207,
        "rows": 5
       }
      },
      "text/html": [
       "<div>\n",
       "<style scoped>\n",
       "    .dataframe tbody tr th:only-of-type {\n",
       "        vertical-align: middle;\n",
       "    }\n",
       "\n",
       "    .dataframe tbody tr th {\n",
       "        vertical-align: top;\n",
       "    }\n",
       "\n",
       "    .dataframe thead th {\n",
       "        text-align: right;\n",
       "    }\n",
       "</style>\n",
       "<table border=\"1\" class=\"dataframe\">\n",
       "  <thead>\n",
       "    <tr style=\"text-align: right;\">\n",
       "      <th></th>\n",
       "      <th>Age</th>\n",
       "      <th>Driving_License</th>\n",
       "      <th>Previously_Insured</th>\n",
       "      <th>Vehicle_Age</th>\n",
       "      <th>Vehicle_Damage</th>\n",
       "      <th>Annual_Premium</th>\n",
       "      <th>Vintage</th>\n",
       "      <th>Gender_Male</th>\n",
       "      <th>Region_Code_1.0</th>\n",
       "      <th>Region_Code_2.0</th>\n",
       "      <th>...</th>\n",
       "      <th>Policy_Sales_Channel_152.0</th>\n",
       "      <th>Policy_Sales_Channel_153.0</th>\n",
       "      <th>Policy_Sales_Channel_154.0</th>\n",
       "      <th>Policy_Sales_Channel_155.0</th>\n",
       "      <th>Policy_Sales_Channel_156.0</th>\n",
       "      <th>Policy_Sales_Channel_157.0</th>\n",
       "      <th>Policy_Sales_Channel_158.0</th>\n",
       "      <th>Policy_Sales_Channel_159.0</th>\n",
       "      <th>Policy_Sales_Channel_160.0</th>\n",
       "      <th>Policy_Sales_Channel_163.0</th>\n",
       "    </tr>\n",
       "  </thead>\n",
       "  <tbody>\n",
       "    <tr>\n",
       "      <th>0</th>\n",
       "      <td>-1.159421</td>\n",
       "      <td>True</td>\n",
       "      <td>False</td>\n",
       "      <td>0.698792</td>\n",
       "      <td>True</td>\n",
       "      <td>2.101969</td>\n",
       "      <td>0.288605</td>\n",
       "      <td>True</td>\n",
       "      <td>False</td>\n",
       "      <td>False</td>\n",
       "      <td>...</td>\n",
       "      <td>False</td>\n",
       "      <td>False</td>\n",
       "      <td>False</td>\n",
       "      <td>False</td>\n",
       "      <td>False</td>\n",
       "      <td>False</td>\n",
       "      <td>False</td>\n",
       "      <td>False</td>\n",
       "      <td>False</td>\n",
       "      <td>False</td>\n",
       "    </tr>\n",
       "    <tr>\n",
       "      <th>1</th>\n",
       "      <td>0.307563</td>\n",
       "      <td>True</td>\n",
       "      <td>False</td>\n",
       "      <td>2.459899</td>\n",
       "      <td>True</td>\n",
       "      <td>1.726275</td>\n",
       "      <td>1.551506</td>\n",
       "      <td>True</td>\n",
       "      <td>False</td>\n",
       "      <td>False</td>\n",
       "      <td>...</td>\n",
       "      <td>False</td>\n",
       "      <td>False</td>\n",
       "      <td>False</td>\n",
       "      <td>False</td>\n",
       "      <td>False</td>\n",
       "      <td>False</td>\n",
       "      <td>False</td>\n",
       "      <td>False</td>\n",
       "      <td>False</td>\n",
       "      <td>False</td>\n",
       "    </tr>\n",
       "    <tr>\n",
       "      <th>2</th>\n",
       "      <td>-0.892696</td>\n",
       "      <td>True</td>\n",
       "      <td>True</td>\n",
       "      <td>-1.062316</td>\n",
       "      <td>False</td>\n",
       "      <td>0.459721</td>\n",
       "      <td>1.126371</td>\n",
       "      <td>False</td>\n",
       "      <td>False</td>\n",
       "      <td>False</td>\n",
       "      <td>...</td>\n",
       "      <td>True</td>\n",
       "      <td>False</td>\n",
       "      <td>False</td>\n",
       "      <td>False</td>\n",
       "      <td>False</td>\n",
       "      <td>False</td>\n",
       "      <td>False</td>\n",
       "      <td>False</td>\n",
       "      <td>False</td>\n",
       "      <td>False</td>\n",
       "    </tr>\n",
       "    <tr>\n",
       "      <th>3</th>\n",
       "      <td>-0.225886</td>\n",
       "      <td>True</td>\n",
       "      <td>False</td>\n",
       "      <td>0.698792</td>\n",
       "      <td>True</td>\n",
       "      <td>-1.689623</td>\n",
       "      <td>-1.099336</td>\n",
       "      <td>False</td>\n",
       "      <td>True</td>\n",
       "      <td>False</td>\n",
       "      <td>...</td>\n",
       "      <td>False</td>\n",
       "      <td>False</td>\n",
       "      <td>False</td>\n",
       "      <td>False</td>\n",
       "      <td>True</td>\n",
       "      <td>False</td>\n",
       "      <td>False</td>\n",
       "      <td>False</td>\n",
       "      <td>False</td>\n",
       "      <td>False</td>\n",
       "    </tr>\n",
       "    <tr>\n",
       "      <th>4</th>\n",
       "      <td>-0.159205</td>\n",
       "      <td>True</td>\n",
       "      <td>True</td>\n",
       "      <td>0.698792</td>\n",
       "      <td>False</td>\n",
       "      <td>0.089975</td>\n",
       "      <td>1.626530</td>\n",
       "      <td>False</td>\n",
       "      <td>False</td>\n",
       "      <td>False</td>\n",
       "      <td>...</td>\n",
       "      <td>True</td>\n",
       "      <td>False</td>\n",
       "      <td>False</td>\n",
       "      <td>False</td>\n",
       "      <td>False</td>\n",
       "      <td>False</td>\n",
       "      <td>False</td>\n",
       "      <td>False</td>\n",
       "      <td>False</td>\n",
       "      <td>False</td>\n",
       "    </tr>\n",
       "  </tbody>\n",
       "</table>\n",
       "<p>5 rows × 207 columns</p>\n",
       "</div>"
      ],
      "text/plain": [
       "        Age  Driving_License  Previously_Insured  Vehicle_Age  Vehicle_Damage  \\\n",
       "0 -1.159421             True               False     0.698792            True   \n",
       "1  0.307563             True               False     2.459899            True   \n",
       "2 -0.892696             True                True    -1.062316           False   \n",
       "3 -0.225886             True               False     0.698792            True   \n",
       "4 -0.159205             True                True     0.698792           False   \n",
       "\n",
       "   Annual_Premium   Vintage  Gender_Male  Region_Code_1.0  Region_Code_2.0  \\\n",
       "0        2.101969  0.288605         True            False            False   \n",
       "1        1.726275  1.551506         True            False            False   \n",
       "2        0.459721  1.126371        False            False            False   \n",
       "3       -1.689623 -1.099336        False             True            False   \n",
       "4        0.089975  1.626530        False            False            False   \n",
       "\n",
       "   ...  Policy_Sales_Channel_152.0  Policy_Sales_Channel_153.0  \\\n",
       "0  ...                       False                       False   \n",
       "1  ...                       False                       False   \n",
       "2  ...                        True                       False   \n",
       "3  ...                       False                       False   \n",
       "4  ...                        True                       False   \n",
       "\n",
       "   Policy_Sales_Channel_154.0  Policy_Sales_Channel_155.0  \\\n",
       "0                       False                       False   \n",
       "1                       False                       False   \n",
       "2                       False                       False   \n",
       "3                       False                       False   \n",
       "4                       False                       False   \n",
       "\n",
       "   Policy_Sales_Channel_156.0  Policy_Sales_Channel_157.0  \\\n",
       "0                       False                       False   \n",
       "1                       False                       False   \n",
       "2                       False                       False   \n",
       "3                        True                       False   \n",
       "4                       False                       False   \n",
       "\n",
       "   Policy_Sales_Channel_158.0  Policy_Sales_Channel_159.0  \\\n",
       "0                       False                       False   \n",
       "1                       False                       False   \n",
       "2                       False                       False   \n",
       "3                       False                       False   \n",
       "4                       False                       False   \n",
       "\n",
       "   Policy_Sales_Channel_160.0  Policy_Sales_Channel_163.0  \n",
       "0                       False                       False  \n",
       "1                       False                       False  \n",
       "2                       False                       False  \n",
       "3                       False                       False  \n",
       "4                       False                       False  \n",
       "\n",
       "[5 rows x 207 columns]"
      ]
     },
     "execution_count": 21,
     "metadata": {},
     "output_type": "execute_result"
    }
   ],
   "source": [
    "X_train = X_train.drop(train_to_delete, axis=1)\n",
    "X_test = X_test.drop(test_to_delete, axis=1)\n",
    "X_train.head()"
   ]
  },
  {
   "cell_type": "code",
   "execution_count": 22,
   "metadata": {},
   "outputs": [
    {
     "data": {
      "text/plain": [
       "0          0\n",
       "1          1\n",
       "2          0\n",
       "3          0\n",
       "4          0\n",
       "          ..\n",
       "6504793    0\n",
       "6504794    1\n",
       "6504795    0\n",
       "6504796    1\n",
       "6504797    0\n",
       "Name: Response, Length: 6504798, dtype: int64"
      ]
     },
     "execution_count": 22,
     "metadata": {},
     "output_type": "execute_result"
    }
   ],
   "source": [
    "y_test"
   ]
  },
  {
   "cell_type": "code",
   "execution_count": 30,
   "metadata": {},
   "outputs": [],
   "source": [
    "# Функция для оценки модели\n",
    "def evaluate_model(model, name):\n",
    "    print(f\"\\n--- {name} ---\")\n",
    "    y_pred = model.predict(X_test)\n",
    "    \n",
    "    # Матрица ошибок\n",
    "    cm = confusion_matrix(y_test, y_pred)\n",
    "    plt.figure(figsize=(6, 4))\n",
    "    sns.heatmap(cm, annot=True, fmt='d', cmap='Blues', xticklabels=['Not Insured', 'Insured'], yticklabels=['Not Insured', 'Insured'])\n",
    "    plt.title(f'Confusion Matrix for {name}')\n",
    "    plt.xlabel('Predicted')\n",
    "    plt.ylabel('Actual')\n",
    "    plt.show()\n",
    "    \n",
    "    # Отчет классификации\n",
    "    print(classification_report(y_test, y_pred))\n",
    "    \n",
    "    # Важность признаков (только для деревьев)\n",
    "    if hasattr(model, \"best_estimator_\") and hasattr(model.best_estimator_, \"feature_importances_\"):\n",
    "        feature_importances = model.best_estimator_.feature_importances_\n",
    "        feature_names = X_train.columns\n",
    "        importance_df = pd.DataFrame({'Feature': feature_names, 'Importance': feature_importances})\n",
    "        importance_df = importance_df.sort_values(by='Importance', ascending=False)\n",
    "        print(\"\\nFeature Importances:\")\n",
    "        print(importance_df)\n",
    "\n"
   ]
  },
  {
   "cell_type": "markdown",
   "metadata": {},
   "source": [
    "## Дерево"
   ]
  },
  {
   "cell_type": "code",
   "execution_count": 22,
   "metadata": {},
   "outputs": [
    {
     "data": {
      "text/plain": [
       "np.float64(0.31816450473666746)"
      ]
     },
     "execution_count": 22,
     "metadata": {},
     "output_type": "execute_result"
    }
   ],
   "source": [
    "tree_model = DecisionTreeClassifier(random_state=37, max_depth=90, min_samples_split=10)\n",
    "tree_model.fit(X_train, y_train)\n",
    "tree_pred = tree_model.predict(X_test)\n",
    "f1_score(y_test, tree_pred)"
   ]
  },
  {
   "cell_type": "code",
   "execution_count": null,
   "metadata": {},
   "outputs": [
    {
     "ename": "KeyboardInterrupt",
     "evalue": "",
     "output_type": "error",
     "traceback": [
      "\u001b[1;31m---------------------------------------------------------------------------\u001b[0m",
      "\u001b[1;31mKeyboardInterrupt\u001b[0m                         Traceback (most recent call last)",
      "Cell \u001b[1;32mIn[85], line 4\u001b[0m\n\u001b[0;32m      2\u001b[0m tree_param_grid \u001b[38;5;241m=\u001b[39m {\u001b[38;5;124m'\u001b[39m\u001b[38;5;124mmax_depth\u001b[39m\u001b[38;5;124m'\u001b[39m: [\u001b[38;5;241m75\u001b[39m, \u001b[38;5;241m80\u001b[39m, \u001b[38;5;241m90\u001b[39m], \u001b[38;5;124m'\u001b[39m\u001b[38;5;124mmin_samples_split\u001b[39m\u001b[38;5;124m'\u001b[39m: [\u001b[38;5;241m5\u001b[39m, \u001b[38;5;241m10\u001b[39m, \u001b[38;5;241m15\u001b[39m]}\n\u001b[0;32m      3\u001b[0m tree_model \u001b[38;5;241m=\u001b[39m GridSearchCV(DecisionTreeClassifier(random_state\u001b[38;5;241m=\u001b[39m\u001b[38;5;241m37\u001b[39m), tree_param_grid, cv\u001b[38;5;241m=\u001b[39m\u001b[38;5;241m3\u001b[39m, scoring\u001b[38;5;241m=\u001b[39m\u001b[38;5;124m'\u001b[39m\u001b[38;5;124mf1\u001b[39m\u001b[38;5;124m'\u001b[39m)\n\u001b[1;32m----> 4\u001b[0m \u001b[43mtree_model\u001b[49m\u001b[38;5;241;43m.\u001b[39;49m\u001b[43mfit\u001b[49m\u001b[43m(\u001b[49m\u001b[43mX_train\u001b[49m\u001b[43m,\u001b[49m\u001b[43m \u001b[49m\u001b[43my_train\u001b[49m\u001b[43m)\u001b[49m\n\u001b[0;32m      5\u001b[0m \u001b[38;5;28mprint\u001b[39m(\u001b[38;5;124m\"\u001b[39m\u001b[38;5;124mDecision Tree Best Params:\u001b[39m\u001b[38;5;124m\"\u001b[39m, tree_model\u001b[38;5;241m.\u001b[39mbest_params_)\n\u001b[0;32m      6\u001b[0m \u001b[38;5;28mprint\u001b[39m(\u001b[38;5;124mf\u001b[39m\u001b[38;5;124m'\u001b[39m\u001b[38;5;124mBest Cross-Validation Score: \u001b[39m\u001b[38;5;132;01m{\u001b[39;00mtree_model\u001b[38;5;241m.\u001b[39mbest_score_\u001b[38;5;132;01m}\u001b[39;00m\u001b[38;5;124m'\u001b[39m)\n",
      "File \u001b[1;32mc:\\Users\\nikit\\AppData\\Local\\Programs\\Python\\Python312\\Lib\\site-packages\\sklearn\\base.py:1473\u001b[0m, in \u001b[0;36m_fit_context.<locals>.decorator.<locals>.wrapper\u001b[1;34m(estimator, *args, **kwargs)\u001b[0m\n\u001b[0;32m   1466\u001b[0m     estimator\u001b[38;5;241m.\u001b[39m_validate_params()\n\u001b[0;32m   1468\u001b[0m \u001b[38;5;28;01mwith\u001b[39;00m config_context(\n\u001b[0;32m   1469\u001b[0m     skip_parameter_validation\u001b[38;5;241m=\u001b[39m(\n\u001b[0;32m   1470\u001b[0m         prefer_skip_nested_validation \u001b[38;5;129;01mor\u001b[39;00m global_skip_validation\n\u001b[0;32m   1471\u001b[0m     )\n\u001b[0;32m   1472\u001b[0m ):\n\u001b[1;32m-> 1473\u001b[0m     \u001b[38;5;28;01mreturn\u001b[39;00m \u001b[43mfit_method\u001b[49m\u001b[43m(\u001b[49m\u001b[43mestimator\u001b[49m\u001b[43m,\u001b[49m\u001b[43m \u001b[49m\u001b[38;5;241;43m*\u001b[39;49m\u001b[43margs\u001b[49m\u001b[43m,\u001b[49m\u001b[43m \u001b[49m\u001b[38;5;241;43m*\u001b[39;49m\u001b[38;5;241;43m*\u001b[39;49m\u001b[43mkwargs\u001b[49m\u001b[43m)\u001b[49m\n",
      "File \u001b[1;32mc:\\Users\\nikit\\AppData\\Local\\Programs\\Python\\Python312\\Lib\\site-packages\\sklearn\\model_selection\\_search.py:1019\u001b[0m, in \u001b[0;36mBaseSearchCV.fit\u001b[1;34m(self, X, y, **params)\u001b[0m\n\u001b[0;32m   1013\u001b[0m     results \u001b[38;5;241m=\u001b[39m \u001b[38;5;28mself\u001b[39m\u001b[38;5;241m.\u001b[39m_format_results(\n\u001b[0;32m   1014\u001b[0m         all_candidate_params, n_splits, all_out, all_more_results\n\u001b[0;32m   1015\u001b[0m     )\n\u001b[0;32m   1017\u001b[0m     \u001b[38;5;28;01mreturn\u001b[39;00m results\n\u001b[1;32m-> 1019\u001b[0m \u001b[38;5;28;43mself\u001b[39;49m\u001b[38;5;241;43m.\u001b[39;49m\u001b[43m_run_search\u001b[49m\u001b[43m(\u001b[49m\u001b[43mevaluate_candidates\u001b[49m\u001b[43m)\u001b[49m\n\u001b[0;32m   1021\u001b[0m \u001b[38;5;66;03m# multimetric is determined here because in the case of a callable\u001b[39;00m\n\u001b[0;32m   1022\u001b[0m \u001b[38;5;66;03m# self.scoring the return type is only known after calling\u001b[39;00m\n\u001b[0;32m   1023\u001b[0m first_test_score \u001b[38;5;241m=\u001b[39m all_out[\u001b[38;5;241m0\u001b[39m][\u001b[38;5;124m\"\u001b[39m\u001b[38;5;124mtest_scores\u001b[39m\u001b[38;5;124m\"\u001b[39m]\n",
      "File \u001b[1;32mc:\\Users\\nikit\\AppData\\Local\\Programs\\Python\\Python312\\Lib\\site-packages\\sklearn\\model_selection\\_search.py:1573\u001b[0m, in \u001b[0;36mGridSearchCV._run_search\u001b[1;34m(self, evaluate_candidates)\u001b[0m\n\u001b[0;32m   1571\u001b[0m \u001b[38;5;28;01mdef\u001b[39;00m \u001b[38;5;21m_run_search\u001b[39m(\u001b[38;5;28mself\u001b[39m, evaluate_candidates):\n\u001b[0;32m   1572\u001b[0m \u001b[38;5;250m    \u001b[39m\u001b[38;5;124;03m\"\"\"Search all candidates in param_grid\"\"\"\u001b[39;00m\n\u001b[1;32m-> 1573\u001b[0m     \u001b[43mevaluate_candidates\u001b[49m\u001b[43m(\u001b[49m\u001b[43mParameterGrid\u001b[49m\u001b[43m(\u001b[49m\u001b[38;5;28;43mself\u001b[39;49m\u001b[38;5;241;43m.\u001b[39;49m\u001b[43mparam_grid\u001b[49m\u001b[43m)\u001b[49m\u001b[43m)\u001b[49m\n",
      "File \u001b[1;32mc:\\Users\\nikit\\AppData\\Local\\Programs\\Python\\Python312\\Lib\\site-packages\\sklearn\\model_selection\\_search.py:965\u001b[0m, in \u001b[0;36mBaseSearchCV.fit.<locals>.evaluate_candidates\u001b[1;34m(candidate_params, cv, more_results)\u001b[0m\n\u001b[0;32m    957\u001b[0m \u001b[38;5;28;01mif\u001b[39;00m \u001b[38;5;28mself\u001b[39m\u001b[38;5;241m.\u001b[39mverbose \u001b[38;5;241m>\u001b[39m \u001b[38;5;241m0\u001b[39m:\n\u001b[0;32m    958\u001b[0m     \u001b[38;5;28mprint\u001b[39m(\n\u001b[0;32m    959\u001b[0m         \u001b[38;5;124m\"\u001b[39m\u001b[38;5;124mFitting \u001b[39m\u001b[38;5;132;01m{0}\u001b[39;00m\u001b[38;5;124m folds for each of \u001b[39m\u001b[38;5;132;01m{1}\u001b[39;00m\u001b[38;5;124m candidates,\u001b[39m\u001b[38;5;124m\"\u001b[39m\n\u001b[0;32m    960\u001b[0m         \u001b[38;5;124m\"\u001b[39m\u001b[38;5;124m totalling \u001b[39m\u001b[38;5;132;01m{2}\u001b[39;00m\u001b[38;5;124m fits\u001b[39m\u001b[38;5;124m\"\u001b[39m\u001b[38;5;241m.\u001b[39mformat(\n\u001b[0;32m    961\u001b[0m             n_splits, n_candidates, n_candidates \u001b[38;5;241m*\u001b[39m n_splits\n\u001b[0;32m    962\u001b[0m         )\n\u001b[0;32m    963\u001b[0m     )\n\u001b[1;32m--> 965\u001b[0m out \u001b[38;5;241m=\u001b[39m \u001b[43mparallel\u001b[49m\u001b[43m(\u001b[49m\n\u001b[0;32m    966\u001b[0m \u001b[43m    \u001b[49m\u001b[43mdelayed\u001b[49m\u001b[43m(\u001b[49m\u001b[43m_fit_and_score\u001b[49m\u001b[43m)\u001b[49m\u001b[43m(\u001b[49m\n\u001b[0;32m    967\u001b[0m \u001b[43m        \u001b[49m\u001b[43mclone\u001b[49m\u001b[43m(\u001b[49m\u001b[43mbase_estimator\u001b[49m\u001b[43m)\u001b[49m\u001b[43m,\u001b[49m\n\u001b[0;32m    968\u001b[0m \u001b[43m        \u001b[49m\u001b[43mX\u001b[49m\u001b[43m,\u001b[49m\n\u001b[0;32m    969\u001b[0m \u001b[43m        \u001b[49m\u001b[43my\u001b[49m\u001b[43m,\u001b[49m\n\u001b[0;32m    970\u001b[0m \u001b[43m        \u001b[49m\u001b[43mtrain\u001b[49m\u001b[38;5;241;43m=\u001b[39;49m\u001b[43mtrain\u001b[49m\u001b[43m,\u001b[49m\n\u001b[0;32m    971\u001b[0m \u001b[43m        \u001b[49m\u001b[43mtest\u001b[49m\u001b[38;5;241;43m=\u001b[39;49m\u001b[43mtest\u001b[49m\u001b[43m,\u001b[49m\n\u001b[0;32m    972\u001b[0m \u001b[43m        \u001b[49m\u001b[43mparameters\u001b[49m\u001b[38;5;241;43m=\u001b[39;49m\u001b[43mparameters\u001b[49m\u001b[43m,\u001b[49m\n\u001b[0;32m    973\u001b[0m \u001b[43m        \u001b[49m\u001b[43msplit_progress\u001b[49m\u001b[38;5;241;43m=\u001b[39;49m\u001b[43m(\u001b[49m\u001b[43msplit_idx\u001b[49m\u001b[43m,\u001b[49m\u001b[43m \u001b[49m\u001b[43mn_splits\u001b[49m\u001b[43m)\u001b[49m\u001b[43m,\u001b[49m\n\u001b[0;32m    974\u001b[0m \u001b[43m        \u001b[49m\u001b[43mcandidate_progress\u001b[49m\u001b[38;5;241;43m=\u001b[39;49m\u001b[43m(\u001b[49m\u001b[43mcand_idx\u001b[49m\u001b[43m,\u001b[49m\u001b[43m \u001b[49m\u001b[43mn_candidates\u001b[49m\u001b[43m)\u001b[49m\u001b[43m,\u001b[49m\n\u001b[0;32m    975\u001b[0m \u001b[43m        \u001b[49m\u001b[38;5;241;43m*\u001b[39;49m\u001b[38;5;241;43m*\u001b[39;49m\u001b[43mfit_and_score_kwargs\u001b[49m\u001b[43m,\u001b[49m\n\u001b[0;32m    976\u001b[0m \u001b[43m    \u001b[49m\u001b[43m)\u001b[49m\n\u001b[0;32m    977\u001b[0m \u001b[43m    \u001b[49m\u001b[38;5;28;43;01mfor\u001b[39;49;00m\u001b[43m \u001b[49m\u001b[43m(\u001b[49m\u001b[43mcand_idx\u001b[49m\u001b[43m,\u001b[49m\u001b[43m \u001b[49m\u001b[43mparameters\u001b[49m\u001b[43m)\u001b[49m\u001b[43m,\u001b[49m\u001b[43m \u001b[49m\u001b[43m(\u001b[49m\u001b[43msplit_idx\u001b[49m\u001b[43m,\u001b[49m\u001b[43m \u001b[49m\u001b[43m(\u001b[49m\u001b[43mtrain\u001b[49m\u001b[43m,\u001b[49m\u001b[43m \u001b[49m\u001b[43mtest\u001b[49m\u001b[43m)\u001b[49m\u001b[43m)\u001b[49m\u001b[43m \u001b[49m\u001b[38;5;129;43;01min\u001b[39;49;00m\u001b[43m \u001b[49m\u001b[43mproduct\u001b[49m\u001b[43m(\u001b[49m\n\u001b[0;32m    978\u001b[0m \u001b[43m        \u001b[49m\u001b[38;5;28;43menumerate\u001b[39;49m\u001b[43m(\u001b[49m\u001b[43mcandidate_params\u001b[49m\u001b[43m)\u001b[49m\u001b[43m,\u001b[49m\n\u001b[0;32m    979\u001b[0m \u001b[43m        \u001b[49m\u001b[38;5;28;43menumerate\u001b[39;49m\u001b[43m(\u001b[49m\u001b[43mcv\u001b[49m\u001b[38;5;241;43m.\u001b[39;49m\u001b[43msplit\u001b[49m\u001b[43m(\u001b[49m\u001b[43mX\u001b[49m\u001b[43m,\u001b[49m\u001b[43m \u001b[49m\u001b[43my\u001b[49m\u001b[43m,\u001b[49m\u001b[43m \u001b[49m\u001b[38;5;241;43m*\u001b[39;49m\u001b[38;5;241;43m*\u001b[39;49m\u001b[43mrouted_params\u001b[49m\u001b[38;5;241;43m.\u001b[39;49m\u001b[43msplitter\u001b[49m\u001b[38;5;241;43m.\u001b[39;49m\u001b[43msplit\u001b[49m\u001b[43m)\u001b[49m\u001b[43m)\u001b[49m\u001b[43m,\u001b[49m\n\u001b[0;32m    980\u001b[0m \u001b[43m    \u001b[49m\u001b[43m)\u001b[49m\n\u001b[0;32m    981\u001b[0m \u001b[43m\u001b[49m\u001b[43m)\u001b[49m\n\u001b[0;32m    983\u001b[0m \u001b[38;5;28;01mif\u001b[39;00m \u001b[38;5;28mlen\u001b[39m(out) \u001b[38;5;241m<\u001b[39m \u001b[38;5;241m1\u001b[39m:\n\u001b[0;32m    984\u001b[0m     \u001b[38;5;28;01mraise\u001b[39;00m \u001b[38;5;167;01mValueError\u001b[39;00m(\n\u001b[0;32m    985\u001b[0m         \u001b[38;5;124m\"\u001b[39m\u001b[38;5;124mNo fits were performed. \u001b[39m\u001b[38;5;124m\"\u001b[39m\n\u001b[0;32m    986\u001b[0m         \u001b[38;5;124m\"\u001b[39m\u001b[38;5;124mWas the CV iterator empty? \u001b[39m\u001b[38;5;124m\"\u001b[39m\n\u001b[0;32m    987\u001b[0m         \u001b[38;5;124m\"\u001b[39m\u001b[38;5;124mWere there no candidates?\u001b[39m\u001b[38;5;124m\"\u001b[39m\n\u001b[0;32m    988\u001b[0m     )\n",
      "File \u001b[1;32mc:\\Users\\nikit\\AppData\\Local\\Programs\\Python\\Python312\\Lib\\site-packages\\sklearn\\utils\\parallel.py:74\u001b[0m, in \u001b[0;36mParallel.__call__\u001b[1;34m(self, iterable)\u001b[0m\n\u001b[0;32m     69\u001b[0m config \u001b[38;5;241m=\u001b[39m get_config()\n\u001b[0;32m     70\u001b[0m iterable_with_config \u001b[38;5;241m=\u001b[39m (\n\u001b[0;32m     71\u001b[0m     (_with_config(delayed_func, config), args, kwargs)\n\u001b[0;32m     72\u001b[0m     \u001b[38;5;28;01mfor\u001b[39;00m delayed_func, args, kwargs \u001b[38;5;129;01min\u001b[39;00m iterable\n\u001b[0;32m     73\u001b[0m )\n\u001b[1;32m---> 74\u001b[0m \u001b[38;5;28;01mreturn\u001b[39;00m \u001b[38;5;28;43msuper\u001b[39;49m\u001b[43m(\u001b[49m\u001b[43m)\u001b[49m\u001b[38;5;241;43m.\u001b[39;49m\u001b[38;5;21;43m__call__\u001b[39;49m\u001b[43m(\u001b[49m\u001b[43miterable_with_config\u001b[49m\u001b[43m)\u001b[49m\n",
      "File \u001b[1;32mc:\\Users\\nikit\\AppData\\Local\\Programs\\Python\\Python312\\Lib\\site-packages\\joblib\\parallel.py:1918\u001b[0m, in \u001b[0;36mParallel.__call__\u001b[1;34m(self, iterable)\u001b[0m\n\u001b[0;32m   1916\u001b[0m     output \u001b[38;5;241m=\u001b[39m \u001b[38;5;28mself\u001b[39m\u001b[38;5;241m.\u001b[39m_get_sequential_output(iterable)\n\u001b[0;32m   1917\u001b[0m     \u001b[38;5;28mnext\u001b[39m(output)\n\u001b[1;32m-> 1918\u001b[0m     \u001b[38;5;28;01mreturn\u001b[39;00m output \u001b[38;5;28;01mif\u001b[39;00m \u001b[38;5;28mself\u001b[39m\u001b[38;5;241m.\u001b[39mreturn_generator \u001b[38;5;28;01melse\u001b[39;00m \u001b[38;5;28;43mlist\u001b[39;49m\u001b[43m(\u001b[49m\u001b[43moutput\u001b[49m\u001b[43m)\u001b[49m\n\u001b[0;32m   1920\u001b[0m \u001b[38;5;66;03m# Let's create an ID that uniquely identifies the current call. If the\u001b[39;00m\n\u001b[0;32m   1921\u001b[0m \u001b[38;5;66;03m# call is interrupted early and that the same instance is immediately\u001b[39;00m\n\u001b[0;32m   1922\u001b[0m \u001b[38;5;66;03m# re-used, this id will be used to prevent workers that were\u001b[39;00m\n\u001b[0;32m   1923\u001b[0m \u001b[38;5;66;03m# concurrently finalizing a task from the previous call to run the\u001b[39;00m\n\u001b[0;32m   1924\u001b[0m \u001b[38;5;66;03m# callback.\u001b[39;00m\n\u001b[0;32m   1925\u001b[0m \u001b[38;5;28;01mwith\u001b[39;00m \u001b[38;5;28mself\u001b[39m\u001b[38;5;241m.\u001b[39m_lock:\n",
      "File \u001b[1;32mc:\\Users\\nikit\\AppData\\Local\\Programs\\Python\\Python312\\Lib\\site-packages\\joblib\\parallel.py:1847\u001b[0m, in \u001b[0;36mParallel._get_sequential_output\u001b[1;34m(self, iterable)\u001b[0m\n\u001b[0;32m   1845\u001b[0m \u001b[38;5;28mself\u001b[39m\u001b[38;5;241m.\u001b[39mn_dispatched_batches \u001b[38;5;241m+\u001b[39m\u001b[38;5;241m=\u001b[39m \u001b[38;5;241m1\u001b[39m\n\u001b[0;32m   1846\u001b[0m \u001b[38;5;28mself\u001b[39m\u001b[38;5;241m.\u001b[39mn_dispatched_tasks \u001b[38;5;241m+\u001b[39m\u001b[38;5;241m=\u001b[39m \u001b[38;5;241m1\u001b[39m\n\u001b[1;32m-> 1847\u001b[0m res \u001b[38;5;241m=\u001b[39m \u001b[43mfunc\u001b[49m\u001b[43m(\u001b[49m\u001b[38;5;241;43m*\u001b[39;49m\u001b[43margs\u001b[49m\u001b[43m,\u001b[49m\u001b[43m \u001b[49m\u001b[38;5;241;43m*\u001b[39;49m\u001b[38;5;241;43m*\u001b[39;49m\u001b[43mkwargs\u001b[49m\u001b[43m)\u001b[49m\n\u001b[0;32m   1848\u001b[0m \u001b[38;5;28mself\u001b[39m\u001b[38;5;241m.\u001b[39mn_completed_tasks \u001b[38;5;241m+\u001b[39m\u001b[38;5;241m=\u001b[39m \u001b[38;5;241m1\u001b[39m\n\u001b[0;32m   1849\u001b[0m \u001b[38;5;28mself\u001b[39m\u001b[38;5;241m.\u001b[39mprint_progress()\n",
      "File \u001b[1;32mc:\\Users\\nikit\\AppData\\Local\\Programs\\Python\\Python312\\Lib\\site-packages\\sklearn\\utils\\parallel.py:136\u001b[0m, in \u001b[0;36m_FuncWrapper.__call__\u001b[1;34m(self, *args, **kwargs)\u001b[0m\n\u001b[0;32m    134\u001b[0m     config \u001b[38;5;241m=\u001b[39m {}\n\u001b[0;32m    135\u001b[0m \u001b[38;5;28;01mwith\u001b[39;00m config_context(\u001b[38;5;241m*\u001b[39m\u001b[38;5;241m*\u001b[39mconfig):\n\u001b[1;32m--> 136\u001b[0m     \u001b[38;5;28;01mreturn\u001b[39;00m \u001b[38;5;28;43mself\u001b[39;49m\u001b[38;5;241;43m.\u001b[39;49m\u001b[43mfunction\u001b[49m\u001b[43m(\u001b[49m\u001b[38;5;241;43m*\u001b[39;49m\u001b[43margs\u001b[49m\u001b[43m,\u001b[49m\u001b[43m \u001b[49m\u001b[38;5;241;43m*\u001b[39;49m\u001b[38;5;241;43m*\u001b[39;49m\u001b[43mkwargs\u001b[49m\u001b[43m)\u001b[49m\n",
      "File \u001b[1;32mc:\\Users\\nikit\\AppData\\Local\\Programs\\Python\\Python312\\Lib\\site-packages\\sklearn\\model_selection\\_validation.py:888\u001b[0m, in \u001b[0;36m_fit_and_score\u001b[1;34m(estimator, X, y, scorer, train, test, verbose, parameters, fit_params, score_params, return_train_score, return_parameters, return_n_test_samples, return_times, return_estimator, split_progress, candidate_progress, error_score)\u001b[0m\n\u001b[0;32m    886\u001b[0m         estimator\u001b[38;5;241m.\u001b[39mfit(X_train, \u001b[38;5;241m*\u001b[39m\u001b[38;5;241m*\u001b[39mfit_params)\n\u001b[0;32m    887\u001b[0m     \u001b[38;5;28;01melse\u001b[39;00m:\n\u001b[1;32m--> 888\u001b[0m         \u001b[43mestimator\u001b[49m\u001b[38;5;241;43m.\u001b[39;49m\u001b[43mfit\u001b[49m\u001b[43m(\u001b[49m\u001b[43mX_train\u001b[49m\u001b[43m,\u001b[49m\u001b[43m \u001b[49m\u001b[43my_train\u001b[49m\u001b[43m,\u001b[49m\u001b[43m \u001b[49m\u001b[38;5;241;43m*\u001b[39;49m\u001b[38;5;241;43m*\u001b[39;49m\u001b[43mfit_params\u001b[49m\u001b[43m)\u001b[49m\n\u001b[0;32m    890\u001b[0m \u001b[38;5;28;01mexcept\u001b[39;00m \u001b[38;5;167;01mException\u001b[39;00m:\n\u001b[0;32m    891\u001b[0m     \u001b[38;5;66;03m# Note fit time as time until error\u001b[39;00m\n\u001b[0;32m    892\u001b[0m     fit_time \u001b[38;5;241m=\u001b[39m time\u001b[38;5;241m.\u001b[39mtime() \u001b[38;5;241m-\u001b[39m start_time\n",
      "File \u001b[1;32mc:\\Users\\nikit\\AppData\\Local\\Programs\\Python\\Python312\\Lib\\site-packages\\sklearn\\base.py:1473\u001b[0m, in \u001b[0;36m_fit_context.<locals>.decorator.<locals>.wrapper\u001b[1;34m(estimator, *args, **kwargs)\u001b[0m\n\u001b[0;32m   1466\u001b[0m     estimator\u001b[38;5;241m.\u001b[39m_validate_params()\n\u001b[0;32m   1468\u001b[0m \u001b[38;5;28;01mwith\u001b[39;00m config_context(\n\u001b[0;32m   1469\u001b[0m     skip_parameter_validation\u001b[38;5;241m=\u001b[39m(\n\u001b[0;32m   1470\u001b[0m         prefer_skip_nested_validation \u001b[38;5;129;01mor\u001b[39;00m global_skip_validation\n\u001b[0;32m   1471\u001b[0m     )\n\u001b[0;32m   1472\u001b[0m ):\n\u001b[1;32m-> 1473\u001b[0m     \u001b[38;5;28;01mreturn\u001b[39;00m \u001b[43mfit_method\u001b[49m\u001b[43m(\u001b[49m\u001b[43mestimator\u001b[49m\u001b[43m,\u001b[49m\u001b[43m \u001b[49m\u001b[38;5;241;43m*\u001b[39;49m\u001b[43margs\u001b[49m\u001b[43m,\u001b[49m\u001b[43m \u001b[49m\u001b[38;5;241;43m*\u001b[39;49m\u001b[38;5;241;43m*\u001b[39;49m\u001b[43mkwargs\u001b[49m\u001b[43m)\u001b[49m\n",
      "File \u001b[1;32mc:\\Users\\nikit\\AppData\\Local\\Programs\\Python\\Python312\\Lib\\site-packages\\sklearn\\tree\\_classes.py:1009\u001b[0m, in \u001b[0;36mDecisionTreeClassifier.fit\u001b[1;34m(self, X, y, sample_weight, check_input)\u001b[0m\n\u001b[0;32m    978\u001b[0m \u001b[38;5;129m@_fit_context\u001b[39m(prefer_skip_nested_validation\u001b[38;5;241m=\u001b[39m\u001b[38;5;28;01mTrue\u001b[39;00m)\n\u001b[0;32m    979\u001b[0m \u001b[38;5;28;01mdef\u001b[39;00m \u001b[38;5;21mfit\u001b[39m(\u001b[38;5;28mself\u001b[39m, X, y, sample_weight\u001b[38;5;241m=\u001b[39m\u001b[38;5;28;01mNone\u001b[39;00m, check_input\u001b[38;5;241m=\u001b[39m\u001b[38;5;28;01mTrue\u001b[39;00m):\n\u001b[0;32m    980\u001b[0m \u001b[38;5;250m    \u001b[39m\u001b[38;5;124;03m\"\"\"Build a decision tree classifier from the training set (X, y).\u001b[39;00m\n\u001b[0;32m    981\u001b[0m \n\u001b[0;32m    982\u001b[0m \u001b[38;5;124;03m    Parameters\u001b[39;00m\n\u001b[1;32m   (...)\u001b[0m\n\u001b[0;32m   1006\u001b[0m \u001b[38;5;124;03m        Fitted estimator.\u001b[39;00m\n\u001b[0;32m   1007\u001b[0m \u001b[38;5;124;03m    \"\"\"\u001b[39;00m\n\u001b[1;32m-> 1009\u001b[0m     \u001b[38;5;28;43msuper\u001b[39;49m\u001b[43m(\u001b[49m\u001b[43m)\u001b[49m\u001b[38;5;241;43m.\u001b[39;49m\u001b[43m_fit\u001b[49m\u001b[43m(\u001b[49m\n\u001b[0;32m   1010\u001b[0m \u001b[43m        \u001b[49m\u001b[43mX\u001b[49m\u001b[43m,\u001b[49m\n\u001b[0;32m   1011\u001b[0m \u001b[43m        \u001b[49m\u001b[43my\u001b[49m\u001b[43m,\u001b[49m\n\u001b[0;32m   1012\u001b[0m \u001b[43m        \u001b[49m\u001b[43msample_weight\u001b[49m\u001b[38;5;241;43m=\u001b[39;49m\u001b[43msample_weight\u001b[49m\u001b[43m,\u001b[49m\n\u001b[0;32m   1013\u001b[0m \u001b[43m        \u001b[49m\u001b[43mcheck_input\u001b[49m\u001b[38;5;241;43m=\u001b[39;49m\u001b[43mcheck_input\u001b[49m\u001b[43m,\u001b[49m\n\u001b[0;32m   1014\u001b[0m \u001b[43m    \u001b[49m\u001b[43m)\u001b[49m\n\u001b[0;32m   1015\u001b[0m     \u001b[38;5;28;01mreturn\u001b[39;00m \u001b[38;5;28mself\u001b[39m\n",
      "File \u001b[1;32mc:\\Users\\nikit\\AppData\\Local\\Programs\\Python\\Python312\\Lib\\site-packages\\sklearn\\tree\\_classes.py:472\u001b[0m, in \u001b[0;36mBaseDecisionTree._fit\u001b[1;34m(self, X, y, sample_weight, check_input, missing_values_in_feature_mask)\u001b[0m\n\u001b[0;32m    461\u001b[0m \u001b[38;5;28;01melse\u001b[39;00m:\n\u001b[0;32m    462\u001b[0m     builder \u001b[38;5;241m=\u001b[39m BestFirstTreeBuilder(\n\u001b[0;32m    463\u001b[0m         splitter,\n\u001b[0;32m    464\u001b[0m         min_samples_split,\n\u001b[1;32m   (...)\u001b[0m\n\u001b[0;32m    469\u001b[0m         \u001b[38;5;28mself\u001b[39m\u001b[38;5;241m.\u001b[39mmin_impurity_decrease,\n\u001b[0;32m    470\u001b[0m     )\n\u001b[1;32m--> 472\u001b[0m \u001b[43mbuilder\u001b[49m\u001b[38;5;241;43m.\u001b[39;49m\u001b[43mbuild\u001b[49m\u001b[43m(\u001b[49m\u001b[38;5;28;43mself\u001b[39;49m\u001b[38;5;241;43m.\u001b[39;49m\u001b[43mtree_\u001b[49m\u001b[43m,\u001b[49m\u001b[43m \u001b[49m\u001b[43mX\u001b[49m\u001b[43m,\u001b[49m\u001b[43m \u001b[49m\u001b[43my\u001b[49m\u001b[43m,\u001b[49m\u001b[43m \u001b[49m\u001b[43msample_weight\u001b[49m\u001b[43m,\u001b[49m\u001b[43m \u001b[49m\u001b[43mmissing_values_in_feature_mask\u001b[49m\u001b[43m)\u001b[49m\n\u001b[0;32m    474\u001b[0m \u001b[38;5;28;01mif\u001b[39;00m \u001b[38;5;28mself\u001b[39m\u001b[38;5;241m.\u001b[39mn_outputs_ \u001b[38;5;241m==\u001b[39m \u001b[38;5;241m1\u001b[39m \u001b[38;5;129;01mand\u001b[39;00m is_classifier(\u001b[38;5;28mself\u001b[39m):\n\u001b[0;32m    475\u001b[0m     \u001b[38;5;28mself\u001b[39m\u001b[38;5;241m.\u001b[39mn_classes_ \u001b[38;5;241m=\u001b[39m \u001b[38;5;28mself\u001b[39m\u001b[38;5;241m.\u001b[39mn_classes_[\u001b[38;5;241m0\u001b[39m]\n",
      "\u001b[1;31mKeyboardInterrupt\u001b[0m: "
     ]
    }
   ],
   "source": [
    "# 1. Decision Tree\n",
    "tree_param_grid = {'max_depth': [75, 80, 90], 'min_samples_split': [5, 10, 15]}\n",
    "tree_model_grid = GridSearchCV(DecisionTreeClassifier(random_state=37), tree_param_grid, cv=3, scoring='f1')\n",
    "tree_model_grid.fit(X_train, y_train)\n",
    "print(\"Decision Tree Best Params:\", tree_model_grid.best_params_)\n",
    "print(f'Best Cross-Validation Score: {tree_model_grid.best_score_}')"
   ]
  },
  {
   "cell_type": "code",
   "execution_count": 23,
   "metadata": {},
   "outputs": [
    {
     "name": "stdout",
     "output_type": "stream",
     "text": [
      "\n",
      "--- Decision Tree ---\n"
     ]
    },
    {
     "data": {
      "image/png": "[encoded data removed]",
      "text/plain": [
       "<Figure size 600x400 with 2 Axes>"
      ]
     },
     "metadata": {},
     "output_type": "display_data"
    },
    {
     "name": "stdout",
     "output_type": "stream",
     "text": [
      "              precision    recall  f1-score   support\n",
      "\n",
      "           0       0.90      0.92      0.91   5705020\n",
      "           1       0.35      0.29      0.32    799778\n",
      "\n",
      "    accuracy                           0.85   6504798\n",
      "   macro avg       0.63      0.61      0.62   6504798\n",
      "weighted avg       0.83      0.85      0.84   6504798\n",
      "\n"
     ]
    }
   ],
   "source": [
    "evaluate_model(tree_model, \"Decision Tree\")"
   ]
  },
  {
   "cell_type": "markdown",
   "metadata": {},
   "source": [
    "## Рандомный лес"
   ]
  },
  {
   "cell_type": "code",
   "execution_count": 28,
   "metadata": {},
   "outputs": [
    {
     "data": {
      "text/plain": [
       "np.float64(0.2678848572968911)"
      ]
     },
     "execution_count": 28,
     "metadata": {},
     "output_type": "execute_result"
    }
   ],
   "source": [
    "rf_model = RandomForestClassifier(random_state=37, n_estimators=40, max_depth=150, min_samples_split=2)\n",
    "rf_model.fit(X_train, y_train)\n",
    "rf_pred = rf_model.predict(X_test)\n",
    "f1_score(y_test, rf_pred)"
   ]
  },
  {
   "cell_type": "code",
   "execution_count": null,
   "metadata": {},
   "outputs": [
    {
     "ename": "KeyboardInterrupt",
     "evalue": "",
     "output_type": "error",
     "traceback": [
      "\u001b[1;31m---------------------------------------------------------------------------\u001b[0m",
      "\u001b[1;31mKeyboardInterrupt\u001b[0m                         Traceback (most recent call last)",
      "Cell \u001b[1;32mIn[29], line 3\u001b[0m\n\u001b[0;32m      1\u001b[0m rf_param_grid \u001b[38;5;241m=\u001b[39m {\u001b[38;5;124m'\u001b[39m\u001b[38;5;124mn_estimators\u001b[39m\u001b[38;5;124m'\u001b[39m: [\u001b[38;5;241m10\u001b[39m, \u001b[38;5;241m50\u001b[39m, \u001b[38;5;241m100\u001b[39m, \u001b[38;5;241m200\u001b[39m], \u001b[38;5;124m'\u001b[39m\u001b[38;5;124mmax_depth\u001b[39m\u001b[38;5;124m'\u001b[39m: [\u001b[38;5;241m30\u001b[39m, \u001b[38;5;241m50\u001b[39m, \u001b[38;5;241m100\u001b[39m], \u001b[38;5;124m'\u001b[39m\u001b[38;5;124mmin_samples_split\u001b[39m\u001b[38;5;124m'\u001b[39m: [\u001b[38;5;241m20\u001b[39m, \u001b[38;5;241m60\u001b[39m, \u001b[38;5;241m100\u001b[39m]}\n\u001b[0;32m      2\u001b[0m rf_model \u001b[38;5;241m=\u001b[39m GridSearchCV(RandomForestClassifier(random_state\u001b[38;5;241m=\u001b[39m\u001b[38;5;241m42\u001b[39m), rf_param_grid, cv\u001b[38;5;241m=\u001b[39m\u001b[38;5;241m3\u001b[39m, scoring\u001b[38;5;241m=\u001b[39m\u001b[38;5;124m'\u001b[39m\u001b[38;5;124mf1\u001b[39m\u001b[38;5;124m'\u001b[39m)\n\u001b[1;32m----> 3\u001b[0m \u001b[43mrf_model\u001b[49m\u001b[38;5;241;43m.\u001b[39;49m\u001b[43mfit\u001b[49m\u001b[43m(\u001b[49m\u001b[43mX\u001b[49m\u001b[43m,\u001b[49m\u001b[43m \u001b[49m\u001b[43my\u001b[49m\u001b[43m)\u001b[49m\n\u001b[0;32m      4\u001b[0m \u001b[38;5;28mprint\u001b[39m(\u001b[38;5;124m\"\u001b[39m\u001b[38;5;124mRandom Forest Best Params:\u001b[39m\u001b[38;5;124m\"\u001b[39m, rf_model\u001b[38;5;241m.\u001b[39mbest_params_)\n\u001b[0;32m      5\u001b[0m \u001b[38;5;28mprint\u001b[39m(\u001b[38;5;124mf\u001b[39m\u001b[38;5;124m'\u001b[39m\u001b[38;5;124mBest Cross-Validation Score: \u001b[39m\u001b[38;5;132;01m{\u001b[39;00mrf_model\u001b[38;5;241m.\u001b[39mbest_score_\u001b[38;5;132;01m}\u001b[39;00m\u001b[38;5;124m'\u001b[39m)\n",
      "File \u001b[1;32mc:\\Users\\nikit\\AppData\\Local\\Programs\\Python\\Python312\\Lib\\site-packages\\sklearn\\base.py:1473\u001b[0m, in \u001b[0;36m_fit_context.<locals>.decorator.<locals>.wrapper\u001b[1;34m(estimator, *args, **kwargs)\u001b[0m\n\u001b[0;32m   1466\u001b[0m     estimator\u001b[38;5;241m.\u001b[39m_validate_params()\n\u001b[0;32m   1468\u001b[0m \u001b[38;5;28;01mwith\u001b[39;00m config_context(\n\u001b[0;32m   1469\u001b[0m     skip_parameter_validation\u001b[38;5;241m=\u001b[39m(\n\u001b[0;32m   1470\u001b[0m         prefer_skip_nested_validation \u001b[38;5;129;01mor\u001b[39;00m global_skip_validation\n\u001b[0;32m   1471\u001b[0m     )\n\u001b[0;32m   1472\u001b[0m ):\n\u001b[1;32m-> 1473\u001b[0m     \u001b[38;5;28;01mreturn\u001b[39;00m \u001b[43mfit_method\u001b[49m\u001b[43m(\u001b[49m\u001b[43mestimator\u001b[49m\u001b[43m,\u001b[49m\u001b[43m \u001b[49m\u001b[38;5;241;43m*\u001b[39;49m\u001b[43margs\u001b[49m\u001b[43m,\u001b[49m\u001b[43m \u001b[49m\u001b[38;5;241;43m*\u001b[39;49m\u001b[38;5;241;43m*\u001b[39;49m\u001b[43mkwargs\u001b[49m\u001b[43m)\u001b[49m\n",
      "File \u001b[1;32mc:\\Users\\nikit\\AppData\\Local\\Programs\\Python\\Python312\\Lib\\site-packages\\sklearn\\model_selection\\_search.py:1019\u001b[0m, in \u001b[0;36mBaseSearchCV.fit\u001b[1;34m(self, X, y, **params)\u001b[0m\n\u001b[0;32m   1013\u001b[0m     results \u001b[38;5;241m=\u001b[39m \u001b[38;5;28mself\u001b[39m\u001b[38;5;241m.\u001b[39m_format_results(\n\u001b[0;32m   1014\u001b[0m         all_candidate_params, n_splits, all_out, all_more_results\n\u001b[0;32m   1015\u001b[0m     )\n\u001b[0;32m   1017\u001b[0m     \u001b[38;5;28;01mreturn\u001b[39;00m results\n\u001b[1;32m-> 1019\u001b[0m \u001b[38;5;28;43mself\u001b[39;49m\u001b[38;5;241;43m.\u001b[39;49m\u001b[43m_run_search\u001b[49m\u001b[43m(\u001b[49m\u001b[43mevaluate_candidates\u001b[49m\u001b[43m)\u001b[49m\n\u001b[0;32m   1021\u001b[0m \u001b[38;5;66;03m# multimetric is determined here because in the case of a callable\u001b[39;00m\n\u001b[0;32m   1022\u001b[0m \u001b[38;5;66;03m# self.scoring the return type is only known after calling\u001b[39;00m\n\u001b[0;32m   1023\u001b[0m first_test_score \u001b[38;5;241m=\u001b[39m all_out[\u001b[38;5;241m0\u001b[39m][\u001b[38;5;124m\"\u001b[39m\u001b[38;5;124mtest_scores\u001b[39m\u001b[38;5;124m\"\u001b[39m]\n",
      "File \u001b[1;32mc:\\Users\\nikit\\AppData\\Local\\Programs\\Python\\Python312\\Lib\\site-packages\\sklearn\\model_selection\\_search.py:1573\u001b[0m, in \u001b[0;36mGridSearchCV._run_search\u001b[1;34m(self, evaluate_candidates)\u001b[0m\n\u001b[0;32m   1571\u001b[0m \u001b[38;5;28;01mdef\u001b[39;00m \u001b[38;5;21m_run_search\u001b[39m(\u001b[38;5;28mself\u001b[39m, evaluate_candidates):\n\u001b[0;32m   1572\u001b[0m \u001b[38;5;250m    \u001b[39m\u001b[38;5;124;03m\"\"\"Search all candidates in param_grid\"\"\"\u001b[39;00m\n\u001b[1;32m-> 1573\u001b[0m     \u001b[43mevaluate_candidates\u001b[49m\u001b[43m(\u001b[49m\u001b[43mParameterGrid\u001b[49m\u001b[43m(\u001b[49m\u001b[38;5;28;43mself\u001b[39;49m\u001b[38;5;241;43m.\u001b[39;49m\u001b[43mparam_grid\u001b[49m\u001b[43m)\u001b[49m\u001b[43m)\u001b[49m\n",
      "File \u001b[1;32mc:\\Users\\nikit\\AppData\\Local\\Programs\\Python\\Python312\\Lib\\site-packages\\sklearn\\model_selection\\_search.py:965\u001b[0m, in \u001b[0;36mBaseSearchCV.fit.<locals>.evaluate_candidates\u001b[1;34m(candidate_params, cv, more_results)\u001b[0m\n\u001b[0;32m    957\u001b[0m \u001b[38;5;28;01mif\u001b[39;00m \u001b[38;5;28mself\u001b[39m\u001b[38;5;241m.\u001b[39mverbose \u001b[38;5;241m>\u001b[39m \u001b[38;5;241m0\u001b[39m:\n\u001b[0;32m    958\u001b[0m     \u001b[38;5;28mprint\u001b[39m(\n\u001b[0;32m    959\u001b[0m         \u001b[38;5;124m\"\u001b[39m\u001b[38;5;124mFitting \u001b[39m\u001b[38;5;132;01m{0}\u001b[39;00m\u001b[38;5;124m folds for each of \u001b[39m\u001b[38;5;132;01m{1}\u001b[39;00m\u001b[38;5;124m candidates,\u001b[39m\u001b[38;5;124m\"\u001b[39m\n\u001b[0;32m    960\u001b[0m         \u001b[38;5;124m\"\u001b[39m\u001b[38;5;124m totalling \u001b[39m\u001b[38;5;132;01m{2}\u001b[39;00m\u001b[38;5;124m fits\u001b[39m\u001b[38;5;124m\"\u001b[39m\u001b[38;5;241m.\u001b[39mformat(\n\u001b[0;32m    961\u001b[0m             n_splits, n_candidates, n_candidates \u001b[38;5;241m*\u001b[39m n_splits\n\u001b[0;32m    962\u001b[0m         )\n\u001b[0;32m    963\u001b[0m     )\n\u001b[1;32m--> 965\u001b[0m out \u001b[38;5;241m=\u001b[39m \u001b[43mparallel\u001b[49m\u001b[43m(\u001b[49m\n\u001b[0;32m    966\u001b[0m \u001b[43m    \u001b[49m\u001b[43mdelayed\u001b[49m\u001b[43m(\u001b[49m\u001b[43m_fit_and_score\u001b[49m\u001b[43m)\u001b[49m\u001b[43m(\u001b[49m\n\u001b[0;32m    967\u001b[0m \u001b[43m        \u001b[49m\u001b[43mclone\u001b[49m\u001b[43m(\u001b[49m\u001b[43mbase_estimator\u001b[49m\u001b[43m)\u001b[49m\u001b[43m,\u001b[49m\n\u001b[0;32m    968\u001b[0m \u001b[43m        \u001b[49m\u001b[43mX\u001b[49m\u001b[43m,\u001b[49m\n\u001b[0;32m    969\u001b[0m \u001b[43m        \u001b[49m\u001b[43my\u001b[49m\u001b[43m,\u001b[49m\n\u001b[0;32m    970\u001b[0m \u001b[43m        \u001b[49m\u001b[43mtrain\u001b[49m\u001b[38;5;241;43m=\u001b[39;49m\u001b[43mtrain\u001b[49m\u001b[43m,\u001b[49m\n\u001b[0;32m    971\u001b[0m \u001b[43m        \u001b[49m\u001b[43mtest\u001b[49m\u001b[38;5;241;43m=\u001b[39;49m\u001b[43mtest\u001b[49m\u001b[43m,\u001b[49m\n\u001b[0;32m    972\u001b[0m \u001b[43m        \u001b[49m\u001b[43mparameters\u001b[49m\u001b[38;5;241;43m=\u001b[39;49m\u001b[43mparameters\u001b[49m\u001b[43m,\u001b[49m\n\u001b[0;32m    973\u001b[0m \u001b[43m        \u001b[49m\u001b[43msplit_progress\u001b[49m\u001b[38;5;241;43m=\u001b[39;49m\u001b[43m(\u001b[49m\u001b[43msplit_idx\u001b[49m\u001b[43m,\u001b[49m\u001b[43m \u001b[49m\u001b[43mn_splits\u001b[49m\u001b[43m)\u001b[49m\u001b[43m,\u001b[49m\n\u001b[0;32m    974\u001b[0m \u001b[43m        \u001b[49m\u001b[43mcandidate_progress\u001b[49m\u001b[38;5;241;43m=\u001b[39;49m\u001b[43m(\u001b[49m\u001b[43mcand_idx\u001b[49m\u001b[43m,\u001b[49m\u001b[43m \u001b[49m\u001b[43mn_candidates\u001b[49m\u001b[43m)\u001b[49m\u001b[43m,\u001b[49m\n\u001b[0;32m    975\u001b[0m \u001b[43m        \u001b[49m\u001b[38;5;241;43m*\u001b[39;49m\u001b[38;5;241;43m*\u001b[39;49m\u001b[43mfit_and_score_kwargs\u001b[49m\u001b[43m,\u001b[49m\n\u001b[0;32m    976\u001b[0m \u001b[43m    \u001b[49m\u001b[43m)\u001b[49m\n\u001b[0;32m    977\u001b[0m \u001b[43m    \u001b[49m\u001b[38;5;28;43;01mfor\u001b[39;49;00m\u001b[43m \u001b[49m\u001b[43m(\u001b[49m\u001b[43mcand_idx\u001b[49m\u001b[43m,\u001b[49m\u001b[43m \u001b[49m\u001b[43mparameters\u001b[49m\u001b[43m)\u001b[49m\u001b[43m,\u001b[49m\u001b[43m \u001b[49m\u001b[43m(\u001b[49m\u001b[43msplit_idx\u001b[49m\u001b[43m,\u001b[49m\u001b[43m \u001b[49m\u001b[43m(\u001b[49m\u001b[43mtrain\u001b[49m\u001b[43m,\u001b[49m\u001b[43m \u001b[49m\u001b[43mtest\u001b[49m\u001b[43m)\u001b[49m\u001b[43m)\u001b[49m\u001b[43m \u001b[49m\u001b[38;5;129;43;01min\u001b[39;49;00m\u001b[43m \u001b[49m\u001b[43mproduct\u001b[49m\u001b[43m(\u001b[49m\n\u001b[0;32m    978\u001b[0m \u001b[43m        \u001b[49m\u001b[38;5;28;43menumerate\u001b[39;49m\u001b[43m(\u001b[49m\u001b[43mcandidate_params\u001b[49m\u001b[43m)\u001b[49m\u001b[43m,\u001b[49m\n\u001b[0;32m    979\u001b[0m \u001b[43m        \u001b[49m\u001b[38;5;28;43menumerate\u001b[39;49m\u001b[43m(\u001b[49m\u001b[43mcv\u001b[49m\u001b[38;5;241;43m.\u001b[39;49m\u001b[43msplit\u001b[49m\u001b[43m(\u001b[49m\u001b[43mX\u001b[49m\u001b[43m,\u001b[49m\u001b[43m \u001b[49m\u001b[43my\u001b[49m\u001b[43m,\u001b[49m\u001b[43m \u001b[49m\u001b[38;5;241;43m*\u001b[39;49m\u001b[38;5;241;43m*\u001b[39;49m\u001b[43mrouted_params\u001b[49m\u001b[38;5;241;43m.\u001b[39;49m\u001b[43msplitter\u001b[49m\u001b[38;5;241;43m.\u001b[39;49m\u001b[43msplit\u001b[49m\u001b[43m)\u001b[49m\u001b[43m)\u001b[49m\u001b[43m,\u001b[49m\n\u001b[0;32m    980\u001b[0m \u001b[43m    \u001b[49m\u001b[43m)\u001b[49m\n\u001b[0;32m    981\u001b[0m \u001b[43m\u001b[49m\u001b[43m)\u001b[49m\n\u001b[0;32m    983\u001b[0m \u001b[38;5;28;01mif\u001b[39;00m \u001b[38;5;28mlen\u001b[39m(out) \u001b[38;5;241m<\u001b[39m \u001b[38;5;241m1\u001b[39m:\n\u001b[0;32m    984\u001b[0m     \u001b[38;5;28;01mraise\u001b[39;00m \u001b[38;5;167;01mValueError\u001b[39;00m(\n\u001b[0;32m    985\u001b[0m         \u001b[38;5;124m\"\u001b[39m\u001b[38;5;124mNo fits were performed. \u001b[39m\u001b[38;5;124m\"\u001b[39m\n\u001b[0;32m    986\u001b[0m         \u001b[38;5;124m\"\u001b[39m\u001b[38;5;124mWas the CV iterator empty? \u001b[39m\u001b[38;5;124m\"\u001b[39m\n\u001b[0;32m    987\u001b[0m         \u001b[38;5;124m\"\u001b[39m\u001b[38;5;124mWere there no candidates?\u001b[39m\u001b[38;5;124m\"\u001b[39m\n\u001b[0;32m    988\u001b[0m     )\n",
      "File \u001b[1;32mc:\\Users\\nikit\\AppData\\Local\\Programs\\Python\\Python312\\Lib\\site-packages\\sklearn\\utils\\parallel.py:74\u001b[0m, in \u001b[0;36mParallel.__call__\u001b[1;34m(self, iterable)\u001b[0m\n\u001b[0;32m     69\u001b[0m config \u001b[38;5;241m=\u001b[39m get_config()\n\u001b[0;32m     70\u001b[0m iterable_with_config \u001b[38;5;241m=\u001b[39m (\n\u001b[0;32m     71\u001b[0m     (_with_config(delayed_func, config), args, kwargs)\n\u001b[0;32m     72\u001b[0m     \u001b[38;5;28;01mfor\u001b[39;00m delayed_func, args, kwargs \u001b[38;5;129;01min\u001b[39;00m iterable\n\u001b[0;32m     73\u001b[0m )\n\u001b[1;32m---> 74\u001b[0m \u001b[38;5;28;01mreturn\u001b[39;00m \u001b[38;5;28;43msuper\u001b[39;49m\u001b[43m(\u001b[49m\u001b[43m)\u001b[49m\u001b[38;5;241;43m.\u001b[39;49m\u001b[38;5;21;43m__call__\u001b[39;49m\u001b[43m(\u001b[49m\u001b[43miterable_with_config\u001b[49m\u001b[43m)\u001b[49m\n",
      "File \u001b[1;32mc:\\Users\\nikit\\AppData\\Local\\Programs\\Python\\Python312\\Lib\\site-packages\\joblib\\parallel.py:1918\u001b[0m, in \u001b[0;36mParallel.__call__\u001b[1;34m(self, iterable)\u001b[0m\n\u001b[0;32m   1916\u001b[0m     output \u001b[38;5;241m=\u001b[39m \u001b[38;5;28mself\u001b[39m\u001b[38;5;241m.\u001b[39m_get_sequential_output(iterable)\n\u001b[0;32m   1917\u001b[0m     \u001b[38;5;28mnext\u001b[39m(output)\n\u001b[1;32m-> 1918\u001b[0m     \u001b[38;5;28;01mreturn\u001b[39;00m output \u001b[38;5;28;01mif\u001b[39;00m \u001b[38;5;28mself\u001b[39m\u001b[38;5;241m.\u001b[39mreturn_generator \u001b[38;5;28;01melse\u001b[39;00m \u001b[38;5;28;43mlist\u001b[39;49m\u001b[43m(\u001b[49m\u001b[43moutput\u001b[49m\u001b[43m)\u001b[49m\n\u001b[0;32m   1920\u001b[0m \u001b[38;5;66;03m# Let's create an ID that uniquely identifies the current call. If the\u001b[39;00m\n\u001b[0;32m   1921\u001b[0m \u001b[38;5;66;03m# call is interrupted early and that the same instance is immediately\u001b[39;00m\n\u001b[0;32m   1922\u001b[0m \u001b[38;5;66;03m# re-used, this id will be used to prevent workers that were\u001b[39;00m\n\u001b[0;32m   1923\u001b[0m \u001b[38;5;66;03m# concurrently finalizing a task from the previous call to run the\u001b[39;00m\n\u001b[0;32m   1924\u001b[0m \u001b[38;5;66;03m# callback.\u001b[39;00m\n\u001b[0;32m   1925\u001b[0m \u001b[38;5;28;01mwith\u001b[39;00m \u001b[38;5;28mself\u001b[39m\u001b[38;5;241m.\u001b[39m_lock:\n",
      "File \u001b[1;32mc:\\Users\\nikit\\AppData\\Local\\Programs\\Python\\Python312\\Lib\\site-packages\\joblib\\parallel.py:1847\u001b[0m, in \u001b[0;36mParallel._get_sequential_output\u001b[1;34m(self, iterable)\u001b[0m\n\u001b[0;32m   1845\u001b[0m \u001b[38;5;28mself\u001b[39m\u001b[38;5;241m.\u001b[39mn_dispatched_batches \u001b[38;5;241m+\u001b[39m\u001b[38;5;241m=\u001b[39m \u001b[38;5;241m1\u001b[39m\n\u001b[0;32m   1846\u001b[0m \u001b[38;5;28mself\u001b[39m\u001b[38;5;241m.\u001b[39mn_dispatched_tasks \u001b[38;5;241m+\u001b[39m\u001b[38;5;241m=\u001b[39m \u001b[38;5;241m1\u001b[39m\n\u001b[1;32m-> 1847\u001b[0m res \u001b[38;5;241m=\u001b[39m \u001b[43mfunc\u001b[49m\u001b[43m(\u001b[49m\u001b[38;5;241;43m*\u001b[39;49m\u001b[43margs\u001b[49m\u001b[43m,\u001b[49m\u001b[43m \u001b[49m\u001b[38;5;241;43m*\u001b[39;49m\u001b[38;5;241;43m*\u001b[39;49m\u001b[43mkwargs\u001b[49m\u001b[43m)\u001b[49m\n\u001b[0;32m   1848\u001b[0m \u001b[38;5;28mself\u001b[39m\u001b[38;5;241m.\u001b[39mn_completed_tasks \u001b[38;5;241m+\u001b[39m\u001b[38;5;241m=\u001b[39m \u001b[38;5;241m1\u001b[39m\n\u001b[0;32m   1849\u001b[0m \u001b[38;5;28mself\u001b[39m\u001b[38;5;241m.\u001b[39mprint_progress()\n",
      "File \u001b[1;32mc:\\Users\\nikit\\AppData\\Local\\Programs\\Python\\Python312\\Lib\\site-packages\\sklearn\\utils\\parallel.py:136\u001b[0m, in \u001b[0;36m_FuncWrapper.__call__\u001b[1;34m(self, *args, **kwargs)\u001b[0m\n\u001b[0;32m    134\u001b[0m     config \u001b[38;5;241m=\u001b[39m {}\n\u001b[0;32m    135\u001b[0m \u001b[38;5;28;01mwith\u001b[39;00m config_context(\u001b[38;5;241m*\u001b[39m\u001b[38;5;241m*\u001b[39mconfig):\n\u001b[1;32m--> 136\u001b[0m     \u001b[38;5;28;01mreturn\u001b[39;00m \u001b[38;5;28;43mself\u001b[39;49m\u001b[38;5;241;43m.\u001b[39;49m\u001b[43mfunction\u001b[49m\u001b[43m(\u001b[49m\u001b[38;5;241;43m*\u001b[39;49m\u001b[43margs\u001b[49m\u001b[43m,\u001b[49m\u001b[43m \u001b[49m\u001b[38;5;241;43m*\u001b[39;49m\u001b[38;5;241;43m*\u001b[39;49m\u001b[43mkwargs\u001b[49m\u001b[43m)\u001b[49m\n",
      "File \u001b[1;32mc:\\Users\\nikit\\AppData\\Local\\Programs\\Python\\Python312\\Lib\\site-packages\\sklearn\\model_selection\\_validation.py:888\u001b[0m, in \u001b[0;36m_fit_and_score\u001b[1;34m(estimator, X, y, scorer, train, test, verbose, parameters, fit_params, score_params, return_train_score, return_parameters, return_n_test_samples, return_times, return_estimator, split_progress, candidate_progress, error_score)\u001b[0m\n\u001b[0;32m    886\u001b[0m         estimator\u001b[38;5;241m.\u001b[39mfit(X_train, \u001b[38;5;241m*\u001b[39m\u001b[38;5;241m*\u001b[39mfit_params)\n\u001b[0;32m    887\u001b[0m     \u001b[38;5;28;01melse\u001b[39;00m:\n\u001b[1;32m--> 888\u001b[0m         \u001b[43mestimator\u001b[49m\u001b[38;5;241;43m.\u001b[39;49m\u001b[43mfit\u001b[49m\u001b[43m(\u001b[49m\u001b[43mX_train\u001b[49m\u001b[43m,\u001b[49m\u001b[43m \u001b[49m\u001b[43my_train\u001b[49m\u001b[43m,\u001b[49m\u001b[43m \u001b[49m\u001b[38;5;241;43m*\u001b[39;49m\u001b[38;5;241;43m*\u001b[39;49m\u001b[43mfit_params\u001b[49m\u001b[43m)\u001b[49m\n\u001b[0;32m    890\u001b[0m \u001b[38;5;28;01mexcept\u001b[39;00m \u001b[38;5;167;01mException\u001b[39;00m:\n\u001b[0;32m    891\u001b[0m     \u001b[38;5;66;03m# Note fit time as time until error\u001b[39;00m\n\u001b[0;32m    892\u001b[0m     fit_time \u001b[38;5;241m=\u001b[39m time\u001b[38;5;241m.\u001b[39mtime() \u001b[38;5;241m-\u001b[39m start_time\n",
      "File \u001b[1;32mc:\\Users\\nikit\\AppData\\Local\\Programs\\Python\\Python312\\Lib\\site-packages\\sklearn\\base.py:1473\u001b[0m, in \u001b[0;36m_fit_context.<locals>.decorator.<locals>.wrapper\u001b[1;34m(estimator, *args, **kwargs)\u001b[0m\n\u001b[0;32m   1466\u001b[0m     estimator\u001b[38;5;241m.\u001b[39m_validate_params()\n\u001b[0;32m   1468\u001b[0m \u001b[38;5;28;01mwith\u001b[39;00m config_context(\n\u001b[0;32m   1469\u001b[0m     skip_parameter_validation\u001b[38;5;241m=\u001b[39m(\n\u001b[0;32m   1470\u001b[0m         prefer_skip_nested_validation \u001b[38;5;129;01mor\u001b[39;00m global_skip_validation\n\u001b[0;32m   1471\u001b[0m     )\n\u001b[0;32m   1472\u001b[0m ):\n\u001b[1;32m-> 1473\u001b[0m     \u001b[38;5;28;01mreturn\u001b[39;00m \u001b[43mfit_method\u001b[49m\u001b[43m(\u001b[49m\u001b[43mestimator\u001b[49m\u001b[43m,\u001b[49m\u001b[43m \u001b[49m\u001b[38;5;241;43m*\u001b[39;49m\u001b[43margs\u001b[49m\u001b[43m,\u001b[49m\u001b[43m \u001b[49m\u001b[38;5;241;43m*\u001b[39;49m\u001b[38;5;241;43m*\u001b[39;49m\u001b[43mkwargs\u001b[49m\u001b[43m)\u001b[49m\n",
      "File \u001b[1;32mc:\\Users\\nikit\\AppData\\Local\\Programs\\Python\\Python312\\Lib\\site-packages\\sklearn\\ensemble\\_forest.py:489\u001b[0m, in \u001b[0;36mBaseForest.fit\u001b[1;34m(self, X, y, sample_weight)\u001b[0m\n\u001b[0;32m    478\u001b[0m trees \u001b[38;5;241m=\u001b[39m [\n\u001b[0;32m    479\u001b[0m     \u001b[38;5;28mself\u001b[39m\u001b[38;5;241m.\u001b[39m_make_estimator(append\u001b[38;5;241m=\u001b[39m\u001b[38;5;28;01mFalse\u001b[39;00m, random_state\u001b[38;5;241m=\u001b[39mrandom_state)\n\u001b[0;32m    480\u001b[0m     \u001b[38;5;28;01mfor\u001b[39;00m i \u001b[38;5;129;01min\u001b[39;00m \u001b[38;5;28mrange\u001b[39m(n_more_estimators)\n\u001b[0;32m    481\u001b[0m ]\n\u001b[0;32m    483\u001b[0m \u001b[38;5;66;03m# Parallel loop: we prefer the threading backend as the Cython code\u001b[39;00m\n\u001b[0;32m    484\u001b[0m \u001b[38;5;66;03m# for fitting the trees is internally releasing the Python GIL\u001b[39;00m\n\u001b[0;32m    485\u001b[0m \u001b[38;5;66;03m# making threading more efficient than multiprocessing in\u001b[39;00m\n\u001b[0;32m    486\u001b[0m \u001b[38;5;66;03m# that case. However, for joblib 0.12+ we respect any\u001b[39;00m\n\u001b[0;32m    487\u001b[0m \u001b[38;5;66;03m# parallel_backend contexts set at a higher level,\u001b[39;00m\n\u001b[0;32m    488\u001b[0m \u001b[38;5;66;03m# since correctness does not rely on using threads.\u001b[39;00m\n\u001b[1;32m--> 489\u001b[0m trees \u001b[38;5;241m=\u001b[39m \u001b[43mParallel\u001b[49m\u001b[43m(\u001b[49m\n\u001b[0;32m    490\u001b[0m \u001b[43m    \u001b[49m\u001b[43mn_jobs\u001b[49m\u001b[38;5;241;43m=\u001b[39;49m\u001b[38;5;28;43mself\u001b[39;49m\u001b[38;5;241;43m.\u001b[39;49m\u001b[43mn_jobs\u001b[49m\u001b[43m,\u001b[49m\n\u001b[0;32m    491\u001b[0m \u001b[43m    \u001b[49m\u001b[43mverbose\u001b[49m\u001b[38;5;241;43m=\u001b[39;49m\u001b[38;5;28;43mself\u001b[39;49m\u001b[38;5;241;43m.\u001b[39;49m\u001b[43mverbose\u001b[49m\u001b[43m,\u001b[49m\n\u001b[0;32m    492\u001b[0m \u001b[43m    \u001b[49m\u001b[43mprefer\u001b[49m\u001b[38;5;241;43m=\u001b[39;49m\u001b[38;5;124;43m\"\u001b[39;49m\u001b[38;5;124;43mthreads\u001b[39;49m\u001b[38;5;124;43m\"\u001b[39;49m\u001b[43m,\u001b[49m\n\u001b[0;32m    493\u001b[0m \u001b[43m\u001b[49m\u001b[43m)\u001b[49m\u001b[43m(\u001b[49m\n\u001b[0;32m    494\u001b[0m \u001b[43m    \u001b[49m\u001b[43mdelayed\u001b[49m\u001b[43m(\u001b[49m\u001b[43m_parallel_build_trees\u001b[49m\u001b[43m)\u001b[49m\u001b[43m(\u001b[49m\n\u001b[0;32m    495\u001b[0m \u001b[43m        \u001b[49m\u001b[43mt\u001b[49m\u001b[43m,\u001b[49m\n\u001b[0;32m    496\u001b[0m \u001b[43m        \u001b[49m\u001b[38;5;28;43mself\u001b[39;49m\u001b[38;5;241;43m.\u001b[39;49m\u001b[43mbootstrap\u001b[49m\u001b[43m,\u001b[49m\n\u001b[0;32m    497\u001b[0m \u001b[43m        \u001b[49m\u001b[43mX\u001b[49m\u001b[43m,\u001b[49m\n\u001b[0;32m    498\u001b[0m \u001b[43m        \u001b[49m\u001b[43my\u001b[49m\u001b[43m,\u001b[49m\n\u001b[0;32m    499\u001b[0m \u001b[43m        \u001b[49m\u001b[43msample_weight\u001b[49m\u001b[43m,\u001b[49m\n\u001b[0;32m    500\u001b[0m \u001b[43m        \u001b[49m\u001b[43mi\u001b[49m\u001b[43m,\u001b[49m\n\u001b[0;32m    501\u001b[0m \u001b[43m        \u001b[49m\u001b[38;5;28;43mlen\u001b[39;49m\u001b[43m(\u001b[49m\u001b[43mtrees\u001b[49m\u001b[43m)\u001b[49m\u001b[43m,\u001b[49m\n\u001b[0;32m    502\u001b[0m \u001b[43m        \u001b[49m\u001b[43mverbose\u001b[49m\u001b[38;5;241;43m=\u001b[39;49m\u001b[38;5;28;43mself\u001b[39;49m\u001b[38;5;241;43m.\u001b[39;49m\u001b[43mverbose\u001b[49m\u001b[43m,\u001b[49m\n\u001b[0;32m    503\u001b[0m \u001b[43m        \u001b[49m\u001b[43mclass_weight\u001b[49m\u001b[38;5;241;43m=\u001b[39;49m\u001b[38;5;28;43mself\u001b[39;49m\u001b[38;5;241;43m.\u001b[39;49m\u001b[43mclass_weight\u001b[49m\u001b[43m,\u001b[49m\n\u001b[0;32m    504\u001b[0m \u001b[43m        \u001b[49m\u001b[43mn_samples_bootstrap\u001b[49m\u001b[38;5;241;43m=\u001b[39;49m\u001b[43mn_samples_bootstrap\u001b[49m\u001b[43m,\u001b[49m\n\u001b[0;32m    505\u001b[0m \u001b[43m        \u001b[49m\u001b[43mmissing_values_in_feature_mask\u001b[49m\u001b[38;5;241;43m=\u001b[39;49m\u001b[43mmissing_values_in_feature_mask\u001b[49m\u001b[43m,\u001b[49m\n\u001b[0;32m    506\u001b[0m \u001b[43m    \u001b[49m\u001b[43m)\u001b[49m\n\u001b[0;32m    507\u001b[0m \u001b[43m    \u001b[49m\u001b[38;5;28;43;01mfor\u001b[39;49;00m\u001b[43m \u001b[49m\u001b[43mi\u001b[49m\u001b[43m,\u001b[49m\u001b[43m \u001b[49m\u001b[43mt\u001b[49m\u001b[43m \u001b[49m\u001b[38;5;129;43;01min\u001b[39;49;00m\u001b[43m \u001b[49m\u001b[38;5;28;43menumerate\u001b[39;49m\u001b[43m(\u001b[49m\u001b[43mtrees\u001b[49m\u001b[43m)\u001b[49m\n\u001b[0;32m    508\u001b[0m \u001b[43m\u001b[49m\u001b[43m)\u001b[49m\n\u001b[0;32m    510\u001b[0m \u001b[38;5;66;03m# Collect newly grown trees\u001b[39;00m\n\u001b[0;32m    511\u001b[0m \u001b[38;5;28mself\u001b[39m\u001b[38;5;241m.\u001b[39mestimators_\u001b[38;5;241m.\u001b[39mextend(trees)\n",
      "File \u001b[1;32mc:\\Users\\nikit\\AppData\\Local\\Programs\\Python\\Python312\\Lib\\site-packages\\sklearn\\utils\\parallel.py:74\u001b[0m, in \u001b[0;36mParallel.__call__\u001b[1;34m(self, iterable)\u001b[0m\n\u001b[0;32m     69\u001b[0m config \u001b[38;5;241m=\u001b[39m get_config()\n\u001b[0;32m     70\u001b[0m iterable_with_config \u001b[38;5;241m=\u001b[39m (\n\u001b[0;32m     71\u001b[0m     (_with_config(delayed_func, config), args, kwargs)\n\u001b[0;32m     72\u001b[0m     \u001b[38;5;28;01mfor\u001b[39;00m delayed_func, args, kwargs \u001b[38;5;129;01min\u001b[39;00m iterable\n\u001b[0;32m     73\u001b[0m )\n\u001b[1;32m---> 74\u001b[0m \u001b[38;5;28;01mreturn\u001b[39;00m \u001b[38;5;28;43msuper\u001b[39;49m\u001b[43m(\u001b[49m\u001b[43m)\u001b[49m\u001b[38;5;241;43m.\u001b[39;49m\u001b[38;5;21;43m__call__\u001b[39;49m\u001b[43m(\u001b[49m\u001b[43miterable_with_config\u001b[49m\u001b[43m)\u001b[49m\n",
      "File \u001b[1;32mc:\\Users\\nikit\\AppData\\Local\\Programs\\Python\\Python312\\Lib\\site-packages\\joblib\\parallel.py:1918\u001b[0m, in \u001b[0;36mParallel.__call__\u001b[1;34m(self, iterable)\u001b[0m\n\u001b[0;32m   1916\u001b[0m     output \u001b[38;5;241m=\u001b[39m \u001b[38;5;28mself\u001b[39m\u001b[38;5;241m.\u001b[39m_get_sequential_output(iterable)\n\u001b[0;32m   1917\u001b[0m     \u001b[38;5;28mnext\u001b[39m(output)\n\u001b[1;32m-> 1918\u001b[0m     \u001b[38;5;28;01mreturn\u001b[39;00m output \u001b[38;5;28;01mif\u001b[39;00m \u001b[38;5;28mself\u001b[39m\u001b[38;5;241m.\u001b[39mreturn_generator \u001b[38;5;28;01melse\u001b[39;00m \u001b[38;5;28;43mlist\u001b[39;49m\u001b[43m(\u001b[49m\u001b[43moutput\u001b[49m\u001b[43m)\u001b[49m\n\u001b[0;32m   1920\u001b[0m \u001b[38;5;66;03m# Let's create an ID that uniquely identifies the current call. If the\u001b[39;00m\n\u001b[0;32m   1921\u001b[0m \u001b[38;5;66;03m# call is interrupted early and that the same instance is immediately\u001b[39;00m\n\u001b[0;32m   1922\u001b[0m \u001b[38;5;66;03m# re-used, this id will be used to prevent workers that were\u001b[39;00m\n\u001b[0;32m   1923\u001b[0m \u001b[38;5;66;03m# concurrently finalizing a task from the previous call to run the\u001b[39;00m\n\u001b[0;32m   1924\u001b[0m \u001b[38;5;66;03m# callback.\u001b[39;00m\n\u001b[0;32m   1925\u001b[0m \u001b[38;5;28;01mwith\u001b[39;00m \u001b[38;5;28mself\u001b[39m\u001b[38;5;241m.\u001b[39m_lock:\n",
      "File \u001b[1;32mc:\\Users\\nikit\\AppData\\Local\\Programs\\Python\\Python312\\Lib\\site-packages\\joblib\\parallel.py:1847\u001b[0m, in \u001b[0;36mParallel._get_sequential_output\u001b[1;34m(self, iterable)\u001b[0m\n\u001b[0;32m   1845\u001b[0m \u001b[38;5;28mself\u001b[39m\u001b[38;5;241m.\u001b[39mn_dispatched_batches \u001b[38;5;241m+\u001b[39m\u001b[38;5;241m=\u001b[39m \u001b[38;5;241m1\u001b[39m\n\u001b[0;32m   1846\u001b[0m \u001b[38;5;28mself\u001b[39m\u001b[38;5;241m.\u001b[39mn_dispatched_tasks \u001b[38;5;241m+\u001b[39m\u001b[38;5;241m=\u001b[39m \u001b[38;5;241m1\u001b[39m\n\u001b[1;32m-> 1847\u001b[0m res \u001b[38;5;241m=\u001b[39m \u001b[43mfunc\u001b[49m\u001b[43m(\u001b[49m\u001b[38;5;241;43m*\u001b[39;49m\u001b[43margs\u001b[49m\u001b[43m,\u001b[49m\u001b[43m \u001b[49m\u001b[38;5;241;43m*\u001b[39;49m\u001b[38;5;241;43m*\u001b[39;49m\u001b[43mkwargs\u001b[49m\u001b[43m)\u001b[49m\n\u001b[0;32m   1848\u001b[0m \u001b[38;5;28mself\u001b[39m\u001b[38;5;241m.\u001b[39mn_completed_tasks \u001b[38;5;241m+\u001b[39m\u001b[38;5;241m=\u001b[39m \u001b[38;5;241m1\u001b[39m\n\u001b[0;32m   1849\u001b[0m \u001b[38;5;28mself\u001b[39m\u001b[38;5;241m.\u001b[39mprint_progress()\n",
      "File \u001b[1;32mc:\\Users\\nikit\\AppData\\Local\\Programs\\Python\\Python312\\Lib\\site-packages\\sklearn\\utils\\parallel.py:136\u001b[0m, in \u001b[0;36m_FuncWrapper.__call__\u001b[1;34m(self, *args, **kwargs)\u001b[0m\n\u001b[0;32m    134\u001b[0m     config \u001b[38;5;241m=\u001b[39m {}\n\u001b[0;32m    135\u001b[0m \u001b[38;5;28;01mwith\u001b[39;00m config_context(\u001b[38;5;241m*\u001b[39m\u001b[38;5;241m*\u001b[39mconfig):\n\u001b[1;32m--> 136\u001b[0m     \u001b[38;5;28;01mreturn\u001b[39;00m \u001b[38;5;28;43mself\u001b[39;49m\u001b[38;5;241;43m.\u001b[39;49m\u001b[43mfunction\u001b[49m\u001b[43m(\u001b[49m\u001b[38;5;241;43m*\u001b[39;49m\u001b[43margs\u001b[49m\u001b[43m,\u001b[49m\u001b[43m \u001b[49m\u001b[38;5;241;43m*\u001b[39;49m\u001b[38;5;241;43m*\u001b[39;49m\u001b[43mkwargs\u001b[49m\u001b[43m)\u001b[49m\n",
      "File \u001b[1;32mc:\\Users\\nikit\\AppData\\Local\\Programs\\Python\\Python312\\Lib\\site-packages\\sklearn\\ensemble\\_forest.py:192\u001b[0m, in \u001b[0;36m_parallel_build_trees\u001b[1;34m(tree, bootstrap, X, y, sample_weight, tree_idx, n_trees, verbose, class_weight, n_samples_bootstrap, missing_values_in_feature_mask)\u001b[0m\n\u001b[0;32m    189\u001b[0m     \u001b[38;5;28;01melif\u001b[39;00m class_weight \u001b[38;5;241m==\u001b[39m \u001b[38;5;124m\"\u001b[39m\u001b[38;5;124mbalanced_subsample\u001b[39m\u001b[38;5;124m\"\u001b[39m:\n\u001b[0;32m    190\u001b[0m         curr_sample_weight \u001b[38;5;241m*\u001b[39m\u001b[38;5;241m=\u001b[39m compute_sample_weight(\u001b[38;5;124m\"\u001b[39m\u001b[38;5;124mbalanced\u001b[39m\u001b[38;5;124m\"\u001b[39m, y, indices\u001b[38;5;241m=\u001b[39mindices)\n\u001b[1;32m--> 192\u001b[0m     \u001b[43mtree\u001b[49m\u001b[38;5;241;43m.\u001b[39;49m\u001b[43m_fit\u001b[49m\u001b[43m(\u001b[49m\n\u001b[0;32m    193\u001b[0m \u001b[43m        \u001b[49m\u001b[43mX\u001b[49m\u001b[43m,\u001b[49m\n\u001b[0;32m    194\u001b[0m \u001b[43m        \u001b[49m\u001b[43my\u001b[49m\u001b[43m,\u001b[49m\n\u001b[0;32m    195\u001b[0m \u001b[43m        \u001b[49m\u001b[43msample_weight\u001b[49m\u001b[38;5;241;43m=\u001b[39;49m\u001b[43mcurr_sample_weight\u001b[49m\u001b[43m,\u001b[49m\n\u001b[0;32m    196\u001b[0m \u001b[43m        \u001b[49m\u001b[43mcheck_input\u001b[49m\u001b[38;5;241;43m=\u001b[39;49m\u001b[38;5;28;43;01mFalse\u001b[39;49;00m\u001b[43m,\u001b[49m\n\u001b[0;32m    197\u001b[0m \u001b[43m        \u001b[49m\u001b[43mmissing_values_in_feature_mask\u001b[49m\u001b[38;5;241;43m=\u001b[39;49m\u001b[43mmissing_values_in_feature_mask\u001b[49m\u001b[43m,\u001b[49m\n\u001b[0;32m    198\u001b[0m \u001b[43m    \u001b[49m\u001b[43m)\u001b[49m\n\u001b[0;32m    199\u001b[0m \u001b[38;5;28;01melse\u001b[39;00m:\n\u001b[0;32m    200\u001b[0m     tree\u001b[38;5;241m.\u001b[39m_fit(\n\u001b[0;32m    201\u001b[0m         X,\n\u001b[0;32m    202\u001b[0m         y,\n\u001b[1;32m   (...)\u001b[0m\n\u001b[0;32m    205\u001b[0m         missing_values_in_feature_mask\u001b[38;5;241m=\u001b[39mmissing_values_in_feature_mask,\n\u001b[0;32m    206\u001b[0m     )\n",
      "File \u001b[1;32mc:\\Users\\nikit\\AppData\\Local\\Programs\\Python\\Python312\\Lib\\site-packages\\sklearn\\tree\\_classes.py:472\u001b[0m, in \u001b[0;36mBaseDecisionTree._fit\u001b[1;34m(self, X, y, sample_weight, check_input, missing_values_in_feature_mask)\u001b[0m\n\u001b[0;32m    461\u001b[0m \u001b[38;5;28;01melse\u001b[39;00m:\n\u001b[0;32m    462\u001b[0m     builder \u001b[38;5;241m=\u001b[39m BestFirstTreeBuilder(\n\u001b[0;32m    463\u001b[0m         splitter,\n\u001b[0;32m    464\u001b[0m         min_samples_split,\n\u001b[1;32m   (...)\u001b[0m\n\u001b[0;32m    469\u001b[0m         \u001b[38;5;28mself\u001b[39m\u001b[38;5;241m.\u001b[39mmin_impurity_decrease,\n\u001b[0;32m    470\u001b[0m     )\n\u001b[1;32m--> 472\u001b[0m \u001b[43mbuilder\u001b[49m\u001b[38;5;241;43m.\u001b[39;49m\u001b[43mbuild\u001b[49m\u001b[43m(\u001b[49m\u001b[38;5;28;43mself\u001b[39;49m\u001b[38;5;241;43m.\u001b[39;49m\u001b[43mtree_\u001b[49m\u001b[43m,\u001b[49m\u001b[43m \u001b[49m\u001b[43mX\u001b[49m\u001b[43m,\u001b[49m\u001b[43m \u001b[49m\u001b[43my\u001b[49m\u001b[43m,\u001b[49m\u001b[43m \u001b[49m\u001b[43msample_weight\u001b[49m\u001b[43m,\u001b[49m\u001b[43m \u001b[49m\u001b[43mmissing_values_in_feature_mask\u001b[49m\u001b[43m)\u001b[49m\n\u001b[0;32m    474\u001b[0m \u001b[38;5;28;01mif\u001b[39;00m \u001b[38;5;28mself\u001b[39m\u001b[38;5;241m.\u001b[39mn_outputs_ \u001b[38;5;241m==\u001b[39m \u001b[38;5;241m1\u001b[39m \u001b[38;5;129;01mand\u001b[39;00m is_classifier(\u001b[38;5;28mself\u001b[39m):\n\u001b[0;32m    475\u001b[0m     \u001b[38;5;28mself\u001b[39m\u001b[38;5;241m.\u001b[39mn_classes_ \u001b[38;5;241m=\u001b[39m \u001b[38;5;28mself\u001b[39m\u001b[38;5;241m.\u001b[39mn_classes_[\u001b[38;5;241m0\u001b[39m]\n",
      "\u001b[1;31mKeyboardInterrupt\u001b[0m: "
     ]
    }
   ],
   "source": [
    "rf_param_grid = {'n_estimators': [10, 50, 100, 200], 'max_depth': [30, 50, 100], 'min_samples_split': [20, 60, 100]}\n",
    "rf_model_grid = GridSearchCV(RandomForestClassifier(random_state=42), rf_param_grid, cv=3, scoring='f1')\n",
    "rf_model_grid.fit(X_train, y_train)\n",
    "print(\"Random Forest Best Params:\", rf_model_grid.best_params_)\n",
    "print(f'Best Cross-Validation Score: {rf_model_grid.best_score_}')"
   ]
  },
  {
   "cell_type": "code",
   "execution_count": null,
   "metadata": {},
   "outputs": [],
   "source": [
    "# # 1. Decision Tree\n",
    "# tree_param_grid = {'max_depth': [3, 5, 10], 'min_samples_split': [5, 10, 15]}\n",
    "# tree_model = GridSearchCV(DecisionTreeClassifier(random_state=42), tree_param_grid, cv=5)\n",
    "# tree_model.fit(X_train, y_train)\n",
    "# print(\"Decision Tree Best Params:\", tree_model.best_params_)\n",
    "\n",
    "# # 2. Random Forest\n",
    "\n",
    "\n",
    "# # 3. K-Nearest Neighbors (KNN)\n",
    "# knn_param_grid = {'n_neighbors': [3, 5, 7, 9]}\n",
    "# knn_model = GridSearchCV(KNeighborsClassifier(), knn_param_grid, cv=5)\n",
    "# knn_model.fit(X_train, y_train)\n",
    "# print(\"KNN Best Params:\", knn_model.best_params_)\n",
    "\n",
    "# # 4. Support Vector Machine (SVM)\n",
    "# svm_param_grid = {'C': [0.1, 1, 10], 'kernel': ['linear', 'rbf']}\n",
    "# svm_model = GridSearchCV(SVC(random_state=42), svm_param_grid, cv=5)\n",
    "# svm_model.fit(X_train, y_train)\n",
    "# print(\"SVM Best Params:\", svm_model.best_params_)"
   ]
  },
  {
   "cell_type": "markdown",
   "metadata": {},
   "source": [
    "### Получается не очень, попробуем избавиться от признаков Policy_Sales_Channel и Region_Code"
   ]
  },
  {
   "cell_type": "code",
   "execution_count": 20,
   "metadata": {},
   "outputs": [
    {
     "data": {
      "application/vnd.microsoft.datawrangler.viewer.v0+json": {
       "columns": [
        {
         "name": "index",
         "rawType": "int64",
         "type": "integer"
        },
        {
         "name": "Age",
         "rawType": "float64",
         "type": "float"
        },
        {
         "name": "Driving_License",
         "rawType": "bool",
         "type": "boolean"
        },
        {
         "name": "Previously_Insured",
         "rawType": "bool",
         "type": "boolean"
        },
        {
         "name": "Vehicle_Age",
         "rawType": "float64",
         "type": "float"
        },
        {
         "name": "Vehicle_Damage",
         "rawType": "bool",
         "type": "boolean"
        },
        {
         "name": "Annual_Premium",
         "rawType": "float64",
         "type": "float"
        },
        {
         "name": "Vintage",
         "rawType": "float64",
         "type": "float"
        },
        {
         "name": "Response",
         "rawType": "int64",
         "type": "integer"
        },
        {
         "name": "Gender_Male",
         "rawType": "bool",
         "type": "boolean"
        }
       ],
       "conversionMethod": "pd.DataFrame",
       "ref": "3568ff37-158a-4e16-8459-ac4ba5b44603",
       "rows": [
        [
         "0",
         "-1.1594206867041619",
         "True",
         "False",
         "0.6987915732469862",
         "True",
         "2.1019687635585367",
         "0.28860488637834164",
         "0",
         "True"
        ],
        [
         "1",
         "0.3075627452672431",
         "True",
         "False",
         "2.459898990620329",
         "True",
         "1.726275216882029",
         "1.5515062593881654",
         "1",
         "True"
        ],
        [
         "2",
         "-0.8926964263457245",
         "True",
         "True",
         "-1.0623158441263567",
         "False",
         "0.45972062365983823",
         "1.126371143721492",
         "0",
         "False"
        ],
        [
         "3",
         "-0.2258857754496314",
         "True",
         "False",
         "0.6987915732469862",
         "True",
         "-1.6896227638127246",
         "-1.0993362265334448",
         "0",
         "False"
        ],
        [
         "4",
         "-0.1592047103600221",
         "True",
         "True",
         "0.6987915732469862",
         "False",
         "0.08997505235882296",
         "1.6265301033293431",
         "0",
         "False"
        ]
       ],
       "shape": {
        "columns": 9,
        "rows": 5
       }
      },
      "text/html": [
       "<div>\n",
       "<style scoped>\n",
       "    .dataframe tbody tr th:only-of-type {\n",
       "        vertical-align: middle;\n",
       "    }\n",
       "\n",
       "    .dataframe tbody tr th {\n",
       "        vertical-align: top;\n",
       "    }\n",
       "\n",
       "    .dataframe thead th {\n",
       "        text-align: right;\n",
       "    }\n",
       "</style>\n",
       "<table border=\"1\" class=\"dataframe\">\n",
       "  <thead>\n",
       "    <tr style=\"text-align: right;\">\n",
       "      <th></th>\n",
       "      <th>Age</th>\n",
       "      <th>Driving_License</th>\n",
       "      <th>Previously_Insured</th>\n",
       "      <th>Vehicle_Age</th>\n",
       "      <th>Vehicle_Damage</th>\n",
       "      <th>Annual_Premium</th>\n",
       "      <th>Vintage</th>\n",
       "      <th>Response</th>\n",
       "      <th>Gender_Male</th>\n",
       "    </tr>\n",
       "  </thead>\n",
       "  <tbody>\n",
       "    <tr>\n",
       "      <th>0</th>\n",
       "      <td>-1.159421</td>\n",
       "      <td>True</td>\n",
       "      <td>False</td>\n",
       "      <td>0.698792</td>\n",
       "      <td>True</td>\n",
       "      <td>2.101969</td>\n",
       "      <td>0.288605</td>\n",
       "      <td>0</td>\n",
       "      <td>True</td>\n",
       "    </tr>\n",
       "    <tr>\n",
       "      <th>1</th>\n",
       "      <td>0.307563</td>\n",
       "      <td>True</td>\n",
       "      <td>False</td>\n",
       "      <td>2.459899</td>\n",
       "      <td>True</td>\n",
       "      <td>1.726275</td>\n",
       "      <td>1.551506</td>\n",
       "      <td>1</td>\n",
       "      <td>True</td>\n",
       "    </tr>\n",
       "    <tr>\n",
       "      <th>2</th>\n",
       "      <td>-0.892696</td>\n",
       "      <td>True</td>\n",
       "      <td>True</td>\n",
       "      <td>-1.062316</td>\n",
       "      <td>False</td>\n",
       "      <td>0.459721</td>\n",
       "      <td>1.126371</td>\n",
       "      <td>0</td>\n",
       "      <td>False</td>\n",
       "    </tr>\n",
       "    <tr>\n",
       "      <th>3</th>\n",
       "      <td>-0.225886</td>\n",
       "      <td>True</td>\n",
       "      <td>False</td>\n",
       "      <td>0.698792</td>\n",
       "      <td>True</td>\n",
       "      <td>-1.689623</td>\n",
       "      <td>-1.099336</td>\n",
       "      <td>0</td>\n",
       "      <td>False</td>\n",
       "    </tr>\n",
       "    <tr>\n",
       "      <th>4</th>\n",
       "      <td>-0.159205</td>\n",
       "      <td>True</td>\n",
       "      <td>True</td>\n",
       "      <td>0.698792</td>\n",
       "      <td>False</td>\n",
       "      <td>0.089975</td>\n",
       "      <td>1.626530</td>\n",
       "      <td>0</td>\n",
       "      <td>False</td>\n",
       "    </tr>\n",
       "  </tbody>\n",
       "</table>\n",
       "</div>"
      ],
      "text/plain": [
       "        Age  Driving_License  Previously_Insured  Vehicle_Age  Vehicle_Damage  \\\n",
       "0 -1.159421             True               False     0.698792            True   \n",
       "1  0.307563             True               False     2.459899            True   \n",
       "2 -0.892696             True                True    -1.062316           False   \n",
       "3 -0.225886             True               False     0.698792            True   \n",
       "4 -0.159205             True                True     0.698792           False   \n",
       "\n",
       "   Annual_Premium   Vintage  Response  Gender_Male  \n",
       "0        2.101969  0.288605         0         True  \n",
       "1        1.726275  1.551506         1         True  \n",
       "2        0.459721  1.126371         0        False  \n",
       "3       -1.689623 -1.099336         0        False  \n",
       "4        0.089975  1.626530         0        False  "
      ]
     },
     "execution_count": 20,
     "metadata": {},
     "output_type": "execute_result"
    }
   ],
   "source": [
    "df = df.drop(['Policy_Sales_Channel', 'Region_Code'], axis=1)\n",
    "df_test = df_test.drop(['Policy_Sales_Channel', 'Region_Code'], axis=1)\n",
    "\n",
    "df = pd.get_dummies(df, drop_first=True)\n",
    "df_test = pd.get_dummies(df_test, drop_first=True)\n",
    "df.head()"
   ]
  },
  {
   "cell_type": "code",
   "execution_count": 21,
   "metadata": {},
   "outputs": [],
   "source": [
    "\n",
    "X_train = df.drop('Response', axis=1)\n",
    "y_train = df['Response']\n",
    "\n",
    "X_test = df_test.drop('Response', axis=1)\n",
    "y_test = df_test['Response']\n",
    "\n"
   ]
  },
  {
   "cell_type": "markdown",
   "metadata": {},
   "source": [
    "## Дерево без категориальных признаков"
   ]
  },
  {
   "cell_type": "code",
   "execution_count": 20,
   "metadata": {},
   "outputs": [
    {
     "data": {
      "text/plain": [
       "np.float64(0.2955914240992576)"
      ]
     },
     "execution_count": 20,
     "metadata": {},
     "output_type": "execute_result"
    }
   ],
   "source": [
    "tree_model = DecisionTreeClassifier(random_state=37, max_depth=90, min_samples_split=10)\n",
    "tree_model.fit(X_train, y_train)\n",
    "tree_pred = tree_model.predict(X_test)\n",
    "f1_score(y_test, tree_pred)"
   ]
  },
  {
   "cell_type": "markdown",
   "metadata": {},
   "source": [
    "## Рандомный лес без категориальных признаков"
   ]
  },
  {
   "cell_type": "code",
   "execution_count": 22,
   "metadata": {},
   "outputs": [
    {
     "data": {
      "text/plain": [
       "np.float64(0.28074389461390387)"
      ]
     },
     "execution_count": 22,
     "metadata": {},
     "output_type": "execute_result"
    }
   ],
   "source": [
    "rf_model = RandomForestClassifier(random_state=37, n_estimators=40, max_depth=150, min_samples_split=2)\n",
    "rf_model.fit(X_train, y_train)\n",
    "rf_pred = rf_model.predict(X_test)\n",
    "f1_score(y_test, rf_pred)"
   ]
  },
  {
   "cell_type": "markdown",
   "metadata": {},
   "source": [
    "### Попробуем без достаточно сильно коррелированного признака Vehicle_age"
   ]
  },
  {
   "cell_type": "code",
   "execution_count": 40,
   "metadata": {},
   "outputs": [
    {
     "data": {
      "text/plain": [
       "np.float64(0.3056735945302452)"
      ]
     },
     "execution_count": 40,
     "metadata": {},
     "output_type": "execute_result"
    }
   ],
   "source": [
    "tree_model = DecisionTreeClassifier(random_state=42, max_depth=80, min_samples_split=2)\n",
    "tree_model.fit(X_train.drop('Vehicle_Age', axis=1), y_train)\n",
    "tree_pred = tree_model.predict(X_test.drop('Vehicle_Age', axis=1))\n",
    "f1_score(y_test, tree_pred)"
   ]
  },
  {
   "cell_type": "code",
   "execution_count": 38,
   "metadata": {},
   "outputs": [
    {
     "data": {
      "text/plain": [
       "np.float64(0.27859548690363095)"
      ]
     },
     "execution_count": 38,
     "metadata": {},
     "output_type": "execute_result"
    }
   ],
   "source": [
    "rf_model = RandomForestClassifier(random_state=37, n_estimators=60, max_depth=75, min_samples_split=2)\n",
    "rf_model.fit(X_train.drop('Vehicle_Age', axis=1), y_train)\n",
    "rf_pred = rf_model.predict(X_test.drop('Vehicle_Age', axis=1))\n",
    "f1_score(y_test, rf_pred)\n"
   ]
  },
  {
   "cell_type": "code",
   "execution_count": 41,
   "metadata": {},
   "outputs": [
    {
     "data": {
      "text/plain": [
       "np.float64(0.6018116082235415)"
      ]
     },
     "execution_count": 41,
     "metadata": {},
     "output_type": "execute_result"
    }
   ],
   "source": [
    "roc_auc_score(y_test, tree_pred)"
   ]
  },
  {
   "cell_type": "code",
   "execution_count": 33,
   "metadata": {},
   "outputs": [
    {
     "name": "stdout",
     "output_type": "stream",
     "text": [
      "\n",
      "--- Decision Tree ---\n"
     ]
    },
    {
     "ename": "ValueError",
     "evalue": "The feature names should match those that were passed during fit.\nFeature names unseen at fit time:\n- Vehicle_Age\n",
     "output_type": "error",
     "traceback": [
      "\u001b[1;31m---------------------------------------------------------------------------\u001b[0m",
      "\u001b[1;31mValueError\u001b[0m                                Traceback (most recent call last)",
      "Cell \u001b[1;32mIn[33], line 1\u001b[0m\n\u001b[1;32m----> 1\u001b[0m \u001b[43mevaluate_model\u001b[49m\u001b[43m(\u001b[49m\u001b[43mrf_model\u001b[49m\u001b[43m,\u001b[49m\u001b[43m \u001b[49m\u001b[38;5;124;43m\"\u001b[39;49m\u001b[38;5;124;43mDecision Tree\u001b[39;49m\u001b[38;5;124;43m\"\u001b[39;49m\u001b[43m)\u001b[49m\n",
      "Cell \u001b[1;32mIn[30], line 4\u001b[0m, in \u001b[0;36mevaluate_model\u001b[1;34m(model, name)\u001b[0m\n\u001b[0;32m      2\u001b[0m \u001b[38;5;28;01mdef\u001b[39;00m \u001b[38;5;21mevaluate_model\u001b[39m(model, name):\n\u001b[0;32m      3\u001b[0m     \u001b[38;5;28mprint\u001b[39m(\u001b[38;5;124mf\u001b[39m\u001b[38;5;124m\"\u001b[39m\u001b[38;5;130;01m\\n\u001b[39;00m\u001b[38;5;124m--- \u001b[39m\u001b[38;5;132;01m{\u001b[39;00mname\u001b[38;5;132;01m}\u001b[39;00m\u001b[38;5;124m ---\u001b[39m\u001b[38;5;124m\"\u001b[39m)\n\u001b[1;32m----> 4\u001b[0m     y_pred \u001b[38;5;241m=\u001b[39m \u001b[43mmodel\u001b[49m\u001b[38;5;241;43m.\u001b[39;49m\u001b[43mpredict\u001b[49m\u001b[43m(\u001b[49m\u001b[43mX_test\u001b[49m\u001b[43m)\u001b[49m\n\u001b[0;32m      6\u001b[0m     \u001b[38;5;66;03m# Матрица ошибок\u001b[39;00m\n\u001b[0;32m      7\u001b[0m     cm \u001b[38;5;241m=\u001b[39m confusion_matrix(y_test, y_pred)\n",
      "File \u001b[1;32mc:\\Users\\nikit\\AppData\\Local\\Programs\\Python\\Python312\\Lib\\site-packages\\sklearn\\ensemble\\_forest.py:904\u001b[0m, in \u001b[0;36mForestClassifier.predict\u001b[1;34m(self, X)\u001b[0m\n\u001b[0;32m    883\u001b[0m \u001b[38;5;28;01mdef\u001b[39;00m \u001b[38;5;21mpredict\u001b[39m(\u001b[38;5;28mself\u001b[39m, X):\n\u001b[0;32m    884\u001b[0m \u001b[38;5;250m    \u001b[39m\u001b[38;5;124;03m\"\"\"\u001b[39;00m\n\u001b[0;32m    885\u001b[0m \u001b[38;5;124;03m    Predict class for X.\u001b[39;00m\n\u001b[0;32m    886\u001b[0m \n\u001b[1;32m   (...)\u001b[0m\n\u001b[0;32m    902\u001b[0m \u001b[38;5;124;03m        The predicted classes.\u001b[39;00m\n\u001b[0;32m    903\u001b[0m \u001b[38;5;124;03m    \"\"\"\u001b[39;00m\n\u001b[1;32m--> 904\u001b[0m     proba \u001b[38;5;241m=\u001b[39m \u001b[38;5;28;43mself\u001b[39;49m\u001b[38;5;241;43m.\u001b[39;49m\u001b[43mpredict_proba\u001b[49m\u001b[43m(\u001b[49m\u001b[43mX\u001b[49m\u001b[43m)\u001b[49m\n\u001b[0;32m    906\u001b[0m     \u001b[38;5;28;01mif\u001b[39;00m \u001b[38;5;28mself\u001b[39m\u001b[38;5;241m.\u001b[39mn_outputs_ \u001b[38;5;241m==\u001b[39m \u001b[38;5;241m1\u001b[39m:\n\u001b[0;32m    907\u001b[0m         \u001b[38;5;28;01mreturn\u001b[39;00m \u001b[38;5;28mself\u001b[39m\u001b[38;5;241m.\u001b[39mclasses_\u001b[38;5;241m.\u001b[39mtake(np\u001b[38;5;241m.\u001b[39margmax(proba, axis\u001b[38;5;241m=\u001b[39m\u001b[38;5;241m1\u001b[39m), axis\u001b[38;5;241m=\u001b[39m\u001b[38;5;241m0\u001b[39m)\n",
      "File \u001b[1;32mc:\\Users\\nikit\\AppData\\Local\\Programs\\Python\\Python312\\Lib\\site-packages\\sklearn\\ensemble\\_forest.py:946\u001b[0m, in \u001b[0;36mForestClassifier.predict_proba\u001b[1;34m(self, X)\u001b[0m\n\u001b[0;32m    944\u001b[0m check_is_fitted(\u001b[38;5;28mself\u001b[39m)\n\u001b[0;32m    945\u001b[0m \u001b[38;5;66;03m# Check data\u001b[39;00m\n\u001b[1;32m--> 946\u001b[0m X \u001b[38;5;241m=\u001b[39m \u001b[38;5;28;43mself\u001b[39;49m\u001b[38;5;241;43m.\u001b[39;49m\u001b[43m_validate_X_predict\u001b[49m\u001b[43m(\u001b[49m\u001b[43mX\u001b[49m\u001b[43m)\u001b[49m\n\u001b[0;32m    948\u001b[0m \u001b[38;5;66;03m# Assign chunk of trees to jobs\u001b[39;00m\n\u001b[0;32m    949\u001b[0m n_jobs, _, _ \u001b[38;5;241m=\u001b[39m _partition_estimators(\u001b[38;5;28mself\u001b[39m\u001b[38;5;241m.\u001b[39mn_estimators, \u001b[38;5;28mself\u001b[39m\u001b[38;5;241m.\u001b[39mn_jobs)\n",
      "File \u001b[1;32mc:\\Users\\nikit\\AppData\\Local\\Programs\\Python\\Python312\\Lib\\site-packages\\sklearn\\ensemble\\_forest.py:641\u001b[0m, in \u001b[0;36mBaseForest._validate_X_predict\u001b[1;34m(self, X)\u001b[0m\n\u001b[0;32m    638\u001b[0m \u001b[38;5;28;01melse\u001b[39;00m:\n\u001b[0;32m    639\u001b[0m     force_all_finite \u001b[38;5;241m=\u001b[39m \u001b[38;5;28;01mTrue\u001b[39;00m\n\u001b[1;32m--> 641\u001b[0m X \u001b[38;5;241m=\u001b[39m \u001b[38;5;28;43mself\u001b[39;49m\u001b[38;5;241;43m.\u001b[39;49m\u001b[43m_validate_data\u001b[49m\u001b[43m(\u001b[49m\n\u001b[0;32m    642\u001b[0m \u001b[43m    \u001b[49m\u001b[43mX\u001b[49m\u001b[43m,\u001b[49m\n\u001b[0;32m    643\u001b[0m \u001b[43m    \u001b[49m\u001b[43mdtype\u001b[49m\u001b[38;5;241;43m=\u001b[39;49m\u001b[43mDTYPE\u001b[49m\u001b[43m,\u001b[49m\n\u001b[0;32m    644\u001b[0m \u001b[43m    \u001b[49m\u001b[43maccept_sparse\u001b[49m\u001b[38;5;241;43m=\u001b[39;49m\u001b[38;5;124;43m\"\u001b[39;49m\u001b[38;5;124;43mcsr\u001b[39;49m\u001b[38;5;124;43m\"\u001b[39;49m\u001b[43m,\u001b[49m\n\u001b[0;32m    645\u001b[0m \u001b[43m    \u001b[49m\u001b[43mreset\u001b[49m\u001b[38;5;241;43m=\u001b[39;49m\u001b[38;5;28;43;01mFalse\u001b[39;49;00m\u001b[43m,\u001b[49m\n\u001b[0;32m    646\u001b[0m \u001b[43m    \u001b[49m\u001b[43mforce_all_finite\u001b[49m\u001b[38;5;241;43m=\u001b[39;49m\u001b[43mforce_all_finite\u001b[49m\u001b[43m,\u001b[49m\n\u001b[0;32m    647\u001b[0m \u001b[43m\u001b[49m\u001b[43m)\u001b[49m\n\u001b[0;32m    648\u001b[0m \u001b[38;5;28;01mif\u001b[39;00m issparse(X) \u001b[38;5;129;01mand\u001b[39;00m (X\u001b[38;5;241m.\u001b[39mindices\u001b[38;5;241m.\u001b[39mdtype \u001b[38;5;241m!=\u001b[39m np\u001b[38;5;241m.\u001b[39mintc \u001b[38;5;129;01mor\u001b[39;00m X\u001b[38;5;241m.\u001b[39mindptr\u001b[38;5;241m.\u001b[39mdtype \u001b[38;5;241m!=\u001b[39m np\u001b[38;5;241m.\u001b[39mintc):\n\u001b[0;32m    649\u001b[0m     \u001b[38;5;28;01mraise\u001b[39;00m \u001b[38;5;167;01mValueError\u001b[39;00m(\u001b[38;5;124m\"\u001b[39m\u001b[38;5;124mNo support for np.int64 index based sparse matrices\u001b[39m\u001b[38;5;124m\"\u001b[39m)\n",
      "File \u001b[1;32mc:\\Users\\nikit\\AppData\\Local\\Programs\\Python\\Python312\\Lib\\site-packages\\sklearn\\base.py:608\u001b[0m, in \u001b[0;36mBaseEstimator._validate_data\u001b[1;34m(self, X, y, reset, validate_separately, cast_to_ndarray, **check_params)\u001b[0m\n\u001b[0;32m    537\u001b[0m \u001b[38;5;28;01mdef\u001b[39;00m \u001b[38;5;21m_validate_data\u001b[39m(\n\u001b[0;32m    538\u001b[0m     \u001b[38;5;28mself\u001b[39m,\n\u001b[0;32m    539\u001b[0m     X\u001b[38;5;241m=\u001b[39m\u001b[38;5;124m\"\u001b[39m\u001b[38;5;124mno_validation\u001b[39m\u001b[38;5;124m\"\u001b[39m,\n\u001b[1;32m   (...)\u001b[0m\n\u001b[0;32m    544\u001b[0m     \u001b[38;5;241m*\u001b[39m\u001b[38;5;241m*\u001b[39mcheck_params,\n\u001b[0;32m    545\u001b[0m ):\n\u001b[0;32m    546\u001b[0m \u001b[38;5;250m    \u001b[39m\u001b[38;5;124;03m\"\"\"Validate input data and set or check the `n_features_in_` attribute.\u001b[39;00m\n\u001b[0;32m    547\u001b[0m \n\u001b[0;32m    548\u001b[0m \u001b[38;5;124;03m    Parameters\u001b[39;00m\n\u001b[1;32m   (...)\u001b[0m\n\u001b[0;32m    606\u001b[0m \u001b[38;5;124;03m        validated.\u001b[39;00m\n\u001b[0;32m    607\u001b[0m \u001b[38;5;124;03m    \"\"\"\u001b[39;00m\n\u001b[1;32m--> 608\u001b[0m     \u001b[38;5;28;43mself\u001b[39;49m\u001b[38;5;241;43m.\u001b[39;49m\u001b[43m_check_feature_names\u001b[49m\u001b[43m(\u001b[49m\u001b[43mX\u001b[49m\u001b[43m,\u001b[49m\u001b[43m \u001b[49m\u001b[43mreset\u001b[49m\u001b[38;5;241;43m=\u001b[39;49m\u001b[43mreset\u001b[49m\u001b[43m)\u001b[49m\n\u001b[0;32m    610\u001b[0m     \u001b[38;5;28;01mif\u001b[39;00m y \u001b[38;5;129;01mis\u001b[39;00m \u001b[38;5;28;01mNone\u001b[39;00m \u001b[38;5;129;01mand\u001b[39;00m \u001b[38;5;28mself\u001b[39m\u001b[38;5;241m.\u001b[39m_get_tags()[\u001b[38;5;124m\"\u001b[39m\u001b[38;5;124mrequires_y\u001b[39m\u001b[38;5;124m\"\u001b[39m]:\n\u001b[0;32m    611\u001b[0m         \u001b[38;5;28;01mraise\u001b[39;00m \u001b[38;5;167;01mValueError\u001b[39;00m(\n\u001b[0;32m    612\u001b[0m             \u001b[38;5;124mf\u001b[39m\u001b[38;5;124m\"\u001b[39m\u001b[38;5;124mThis \u001b[39m\u001b[38;5;132;01m{\u001b[39;00m\u001b[38;5;28mself\u001b[39m\u001b[38;5;241m.\u001b[39m\u001b[38;5;18m__class__\u001b[39m\u001b[38;5;241m.\u001b[39m\u001b[38;5;18m__name__\u001b[39m\u001b[38;5;132;01m}\u001b[39;00m\u001b[38;5;124m estimator \u001b[39m\u001b[38;5;124m\"\u001b[39m\n\u001b[0;32m    613\u001b[0m             \u001b[38;5;124m\"\u001b[39m\u001b[38;5;124mrequires y to be passed, but the target y is None.\u001b[39m\u001b[38;5;124m\"\u001b[39m\n\u001b[0;32m    614\u001b[0m         )\n",
      "File \u001b[1;32mc:\\Users\\nikit\\AppData\\Local\\Programs\\Python\\Python312\\Lib\\site-packages\\sklearn\\base.py:535\u001b[0m, in \u001b[0;36mBaseEstimator._check_feature_names\u001b[1;34m(self, X, reset)\u001b[0m\n\u001b[0;32m    530\u001b[0m \u001b[38;5;28;01mif\u001b[39;00m \u001b[38;5;129;01mnot\u001b[39;00m missing_names \u001b[38;5;129;01mand\u001b[39;00m \u001b[38;5;129;01mnot\u001b[39;00m unexpected_names:\n\u001b[0;32m    531\u001b[0m     message \u001b[38;5;241m+\u001b[39m\u001b[38;5;241m=\u001b[39m (\n\u001b[0;32m    532\u001b[0m         \u001b[38;5;124m\"\u001b[39m\u001b[38;5;124mFeature names must be in the same order as they were in fit.\u001b[39m\u001b[38;5;130;01m\\n\u001b[39;00m\u001b[38;5;124m\"\u001b[39m\n\u001b[0;32m    533\u001b[0m     )\n\u001b[1;32m--> 535\u001b[0m \u001b[38;5;28;01mraise\u001b[39;00m \u001b[38;5;167;01mValueError\u001b[39;00m(message)\n",
      "\u001b[1;31mValueError\u001b[0m: The feature names should match those that were passed during fit.\nFeature names unseen at fit time:\n- Vehicle_Age\n"
     ]
    }
   ],
   "source": [
    "evaluate_model(rf_model, \"Decision Tree\")"
   ]
  },
  {
   "cell_type": "markdown",
   "metadata": {},
   "source": [
    "## SVM"
   ]
  },
  {
   "cell_type": "code",
   "execution_count": 86,
   "metadata": {},
   "outputs": [
    {
     "ename": "",
     "evalue": "",
     "output_type": "error",
     "traceback": [
      "\u001b[1;31mCannot execute code, session has been disposed. Please try restarting the Kernel."
     ]
    },
    {
     "ename": "",
     "evalue": "",
     "output_type": "error",
     "traceback": [
      "\u001b[1;31mCannot execute code, session has been disposed. Please try restarting the Kernel. \n",
      "\u001b[1;31mView Jupyter <a href='command:jupyter.viewOutput'>log</a> for further details."
     ]
    }
   ],
   "source": [
    "svm_model = SVC(random_state=37, C=1, kernel='rbf')\n",
    "svm_model.fit(X_train, y_train)\n",
    "svm_pred = rf_model.predict(X_test)\n",
    "f1_score(y_test, svm_pred)"
   ]
  },
  {
   "cell_type": "markdown",
   "metadata": {},
   "source": [
    "## Logistic Regression"
   ]
  },
  {
   "cell_type": "code",
   "execution_count": null,
   "metadata": {},
   "outputs": [],
   "source": [
    "log_reg_model = LogisticRegression(random_state=37, max_iter=1000, C=0.1, penalty='l1', solver='liblinear')\n",
    "log_reg_model.fit(X_train, y_train)\n",
    "pred = log_reg_model.predict(X_test)\n",
    "f1_score(y_test, pred)"
   ]
  }
 ],
 "metadata": {
  "kernelspec": {
   "display_name": "Python 3",
   "language": "python",
   "name": "python3"
  },
  "language_info": {
   "codemirror_mode": {
    "name": "ipython",
    "version": 3
   },
   "file_extension": ".py",
   "mimetype": "text/x-python",
   "name": "python",
   "nbconvert_exporter": "python",
   "pygments_lexer": "ipython3",
   "version": "3.12.6"
  }
 },
 "nbformat": 4,
 "nbformat_minor": 2
}
