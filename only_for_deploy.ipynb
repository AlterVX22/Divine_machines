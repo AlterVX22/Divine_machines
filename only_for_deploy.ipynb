{
 "cells": [
  {
   "cell_type": "code",
   "execution_count": null,
   "metadata": {},
   "outputs": [],
   "source": [
    "import numpy as np\n",
    "import pandas as pd\n",
    "\n",
    "from sklearn.preprocessing import StandardScaler\n",
    "from sklearn.tree import DecisionTreeClassifier\n",
    "from sklearn.metrics import f1_score"
   ]
  },
  {
   "cell_type": "markdown",
   "metadata": {},
   "source": [
    "# Описание датасета (взято с kaggle)\n",
    "\n",
    "id\t(continous)\tУникальный идентификатор Клиента.\n",
    "\n",
    "Age\t(continous)\tВозраст клиента.\n",
    "\n",
    "Gender\t(dichotomous)\tПол клиента.\n",
    "\n",
    "Driving_License\t(dichotomous)\t0 для клиента, у которого нет водительских прав, 1 для клиента, у которого есть водительские права.\n",
    "\n",
    "Region_Code\t(nominal)\tУникальный код для региона клиента.\n",
    "\n",
    "Previously_Insured\t(dichotomous)\t0 для клиента, не имеющего страховки на транспортное средство, 1 для клиента, имеющего страховку на транспортное средство.\n",
    "\n",
    "Vehicle_Age\t(nominal)\tВозраст транспортного средства.\n",
    "\n",
    "Vehicle_Damage\t(dichotomous)\t1: В прошлом у клиента был поврежден автомобиль. 0: В прошлом у клиента не было повреждений автомобиля.\n",
    "\n",
    "Annual_Premium\t(continous)\tСумма, которую клиент должен заплатить в качестве взноса в течение года.\n",
    "\n",
    "Policy_Sales_Channel\t(nominal)\tАнонимизированный код для канала связи с клиентом, т.е. Различные агенты, по почте, телефону, лично и т.д.\n",
    "\n",
    "Vintage\t(continous)\tКоличество дней, в течение которых Клиент был связан с компанией.\n",
    "\n",
    "Response (Dependent Feature)\t(dichotomous)\t1 означает, что Клиент заинтересован, 0 - что Клиент не заинтересован."
   ]
  },
  {
   "cell_type": "code",
   "execution_count": 2,
   "metadata": {},
   "outputs": [
    {
     "data": {
      "application/vnd.microsoft.datawrangler.viewer.v0+json": {
       "columns": [
        {
         "name": "index",
         "rawType": "int64",
         "type": "integer"
        },
        {
         "name": "id",
         "rawType": "int64",
         "type": "integer"
        },
        {
         "name": "Gender",
         "rawType": "object",
         "type": "string"
        },
        {
         "name": "Age",
         "rawType": "int64",
         "type": "integer"
        },
        {
         "name": "Driving_License",
         "rawType": "int64",
         "type": "integer"
        },
        {
         "name": "Region_Code",
         "rawType": "float64",
         "type": "float"
        },
        {
         "name": "Previously_Insured",
         "rawType": "int64",
         "type": "integer"
        },
        {
         "name": "Vehicle_Age",
         "rawType": "object",
         "type": "string"
        },
        {
         "name": "Vehicle_Damage",
         "rawType": "object",
         "type": "string"
        },
        {
         "name": "Annual_Premium",
         "rawType": "float64",
         "type": "float"
        },
        {
         "name": "Policy_Sales_Channel",
         "rawType": "float64",
         "type": "float"
        },
        {
         "name": "Vintage",
         "rawType": "int64",
         "type": "integer"
        },
        {
         "name": "Response",
         "rawType": "int64",
         "type": "integer"
        }
       ],
       "conversionMethod": "pd.DataFrame",
       "ref": "f8bd7a27-47e1-4a77-928d-d293e6ea0397",
       "rows": [
        [
         "0",
         "0",
         "Male",
         "21",
         "1",
         "35.0",
         "0",
         "1-2 Year",
         "Yes",
         "65101.0",
         "124.0",
         "187",
         "0"
        ],
        [
         "1",
         "1",
         "Male",
         "43",
         "1",
         "28.0",
         "0",
         "> 2 Years",
         "Yes",
         "58911.0",
         "26.0",
         "288",
         "1"
        ],
        [
         "2",
         "2",
         "Female",
         "25",
         "1",
         "14.0",
         "1",
         "< 1 Year",
         "No",
         "38043.0",
         "152.0",
         "254",
         "0"
        ],
        [
         "3",
         "3",
         "Female",
         "35",
         "1",
         "1.0",
         "0",
         "1-2 Year",
         "Yes",
         "2630.0",
         "156.0",
         "76",
         "0"
        ],
        [
         "4",
         "4",
         "Female",
         "36",
         "1",
         "15.0",
         "1",
         "1-2 Year",
         "No",
         "31951.0",
         "152.0",
         "294",
         "0"
        ]
       ],
       "shape": {
        "columns": 12,
        "rows": 5
       }
      },
      "text/html": [
       "<div>\n",
       "<style scoped>\n",
       "    .dataframe tbody tr th:only-of-type {\n",
       "        vertical-align: middle;\n",
       "    }\n",
       "\n",
       "    .dataframe tbody tr th {\n",
       "        vertical-align: top;\n",
       "    }\n",
       "\n",
       "    .dataframe thead th {\n",
       "        text-align: right;\n",
       "    }\n",
       "</style>\n",
       "<table border=\"1\" class=\"dataframe\">\n",
       "  <thead>\n",
       "    <tr style=\"text-align: right;\">\n",
       "      <th></th>\n",
       "      <th>id</th>\n",
       "      <th>Gender</th>\n",
       "      <th>Age</th>\n",
       "      <th>Driving_License</th>\n",
       "      <th>Region_Code</th>\n",
       "      <th>Previously_Insured</th>\n",
       "      <th>Vehicle_Age</th>\n",
       "      <th>Vehicle_Damage</th>\n",
       "      <th>Annual_Premium</th>\n",
       "      <th>Policy_Sales_Channel</th>\n",
       "      <th>Vintage</th>\n",
       "      <th>Response</th>\n",
       "    </tr>\n",
       "  </thead>\n",
       "  <tbody>\n",
       "    <tr>\n",
       "      <th>0</th>\n",
       "      <td>0</td>\n",
       "      <td>Male</td>\n",
       "      <td>21</td>\n",
       "      <td>1</td>\n",
       "      <td>35.0</td>\n",
       "      <td>0</td>\n",
       "      <td>1-2 Year</td>\n",
       "      <td>Yes</td>\n",
       "      <td>65101.0</td>\n",
       "      <td>124.0</td>\n",
       "      <td>187</td>\n",
       "      <td>0</td>\n",
       "    </tr>\n",
       "    <tr>\n",
       "      <th>1</th>\n",
       "      <td>1</td>\n",
       "      <td>Male</td>\n",
       "      <td>43</td>\n",
       "      <td>1</td>\n",
       "      <td>28.0</td>\n",
       "      <td>0</td>\n",
       "      <td>&gt; 2 Years</td>\n",
       "      <td>Yes</td>\n",
       "      <td>58911.0</td>\n",
       "      <td>26.0</td>\n",
       "      <td>288</td>\n",
       "      <td>1</td>\n",
       "    </tr>\n",
       "    <tr>\n",
       "      <th>2</th>\n",
       "      <td>2</td>\n",
       "      <td>Female</td>\n",
       "      <td>25</td>\n",
       "      <td>1</td>\n",
       "      <td>14.0</td>\n",
       "      <td>1</td>\n",
       "      <td>&lt; 1 Year</td>\n",
       "      <td>No</td>\n",
       "      <td>38043.0</td>\n",
       "      <td>152.0</td>\n",
       "      <td>254</td>\n",
       "      <td>0</td>\n",
       "    </tr>\n",
       "    <tr>\n",
       "      <th>3</th>\n",
       "      <td>3</td>\n",
       "      <td>Female</td>\n",
       "      <td>35</td>\n",
       "      <td>1</td>\n",
       "      <td>1.0</td>\n",
       "      <td>0</td>\n",
       "      <td>1-2 Year</td>\n",
       "      <td>Yes</td>\n",
       "      <td>2630.0</td>\n",
       "      <td>156.0</td>\n",
       "      <td>76</td>\n",
       "      <td>0</td>\n",
       "    </tr>\n",
       "    <tr>\n",
       "      <th>4</th>\n",
       "      <td>4</td>\n",
       "      <td>Female</td>\n",
       "      <td>36</td>\n",
       "      <td>1</td>\n",
       "      <td>15.0</td>\n",
       "      <td>1</td>\n",
       "      <td>1-2 Year</td>\n",
       "      <td>No</td>\n",
       "      <td>31951.0</td>\n",
       "      <td>152.0</td>\n",
       "      <td>294</td>\n",
       "      <td>0</td>\n",
       "    </tr>\n",
       "  </tbody>\n",
       "</table>\n",
       "</div>"
      ],
      "text/plain": [
       "   id  Gender  Age  Driving_License  Region_Code  Previously_Insured  \\\n",
       "0   0    Male   21                1         35.0                   0   \n",
       "1   1    Male   43                1         28.0                   0   \n",
       "2   2  Female   25                1         14.0                   1   \n",
       "3   3  Female   35                1          1.0                   0   \n",
       "4   4  Female   36                1         15.0                   1   \n",
       "\n",
       "  Vehicle_Age Vehicle_Damage  Annual_Premium  Policy_Sales_Channel  Vintage  \\\n",
       "0    1-2 Year            Yes         65101.0                 124.0      187   \n",
       "1   > 2 Years            Yes         58911.0                  26.0      288   \n",
       "2    < 1 Year             No         38043.0                 152.0      254   \n",
       "3    1-2 Year            Yes          2630.0                 156.0       76   \n",
       "4    1-2 Year             No         31951.0                 152.0      294   \n",
       "\n",
       "   Response  \n",
       "0         0  \n",
       "1         1  \n",
       "2         0  \n",
       "3         0  \n",
       "4         0  "
      ]
     },
     "execution_count": 2,
     "metadata": {},
     "output_type": "execute_result"
    }
   ],
   "source": [
    "df = pd.read_csv('train.csv')\n",
    "df.head()"
   ]
  },
  {
   "cell_type": "code",
   "execution_count": 3,
   "metadata": {},
   "outputs": [
    {
     "name": "stderr",
     "output_type": "stream",
     "text": [
      "C:\\Users\\ПК\\AppData\\Local\\Temp\\ipykernel_23644\\2553821987.py:1: FutureWarning: Series.__getitem__ treating keys as positions is deprecated. In a future version, integer keys will always be treated as labels (consistent with DataFrame behavior). To access a value by position, use `ser.iloc[pos]`\n",
      "  df_train = df.iloc[:int(df.count()[0]*0.5)]\n"
     ]
    }
   ],
   "source": [
    "df_train = df.iloc[:int(df.count()[0]*0.5)]"
   ]
  },
  {
   "cell_type": "code",
   "execution_count": 4,
   "metadata": {},
   "outputs": [
    {
     "name": "stderr",
     "output_type": "stream",
     "text": [
      "C:\\Users\\ПК\\AppData\\Local\\Temp\\ipykernel_23644\\409673720.py:1: FutureWarning: Series.__getitem__ treating keys as positions is deprecated. In a future version, integer keys will always be treated as labels (consistent with DataFrame behavior). To access a value by position, use `ser.iloc[pos]`\n",
      "  df_test = df.iloc[int(df.count()[0]*0.5)+1:]\n"
     ]
    },
    {
     "data": {
      "application/vnd.microsoft.datawrangler.viewer.v0+json": {
       "columns": [
        {
         "name": "index",
         "rawType": "int64",
         "type": "integer"
        },
        {
         "name": "id",
         "rawType": "int64",
         "type": "integer"
        },
        {
         "name": "Gender",
         "rawType": "object",
         "type": "string"
        },
        {
         "name": "Age",
         "rawType": "int64",
         "type": "integer"
        },
        {
         "name": "Driving_License",
         "rawType": "int64",
         "type": "integer"
        },
        {
         "name": "Region_Code",
         "rawType": "float64",
         "type": "float"
        },
        {
         "name": "Previously_Insured",
         "rawType": "int64",
         "type": "integer"
        },
        {
         "name": "Vehicle_Age",
         "rawType": "object",
         "type": "string"
        },
        {
         "name": "Vehicle_Damage",
         "rawType": "object",
         "type": "string"
        },
        {
         "name": "Annual_Premium",
         "rawType": "float64",
         "type": "float"
        },
        {
         "name": "Policy_Sales_Channel",
         "rawType": "float64",
         "type": "float"
        },
        {
         "name": "Vintage",
         "rawType": "int64",
         "type": "integer"
        },
        {
         "name": "Response",
         "rawType": "int64",
         "type": "integer"
        }
       ],
       "conversionMethod": "pd.DataFrame",
       "ref": "909c50dc-efd0-4878-a983-6a5bd473f66b",
       "rows": [
        [
         "5752400",
         "5752400",
         "Female",
         "23",
         "1",
         "8.0",
         "1",
         "< 1 Year",
         "No",
         "38259.0",
         "152.0",
         "80",
         "0"
        ],
        [
         "5752401",
         "5752401",
         "Female",
         "34",
         "1",
         "28.0",
         "0",
         "1-2 Year",
         "Yes",
         "55855.0",
         "124.0",
         "278",
         "0"
        ],
        [
         "5752402",
         "5752402",
         "Male",
         "40",
         "1",
         "8.0",
         "0",
         "1-2 Year",
         "No",
         "31527.0",
         "124.0",
         "196",
         "0"
        ],
        [
         "5752403",
         "5752403",
         "Female",
         "45",
         "1",
         "28.0",
         "0",
         "> 2 Years",
         "Yes",
         "30294.0",
         "124.0",
         "90",
         "0"
        ],
        [
         "5752404",
         "5752404",
         "Male",
         "28",
         "1",
         "6.0",
         "0",
         "< 1 Year",
         "Yes",
         "53436.0",
         "124.0",
         "258",
         "1"
        ]
       ],
       "shape": {
        "columns": 12,
        "rows": 5
       }
      },
      "text/html": [
       "<div>\n",
       "<style scoped>\n",
       "    .dataframe tbody tr th:only-of-type {\n",
       "        vertical-align: middle;\n",
       "    }\n",
       "\n",
       "    .dataframe tbody tr th {\n",
       "        vertical-align: top;\n",
       "    }\n",
       "\n",
       "    .dataframe thead th {\n",
       "        text-align: right;\n",
       "    }\n",
       "</style>\n",
       "<table border=\"1\" class=\"dataframe\">\n",
       "  <thead>\n",
       "    <tr style=\"text-align: right;\">\n",
       "      <th></th>\n",
       "      <th>id</th>\n",
       "      <th>Gender</th>\n",
       "      <th>Age</th>\n",
       "      <th>Driving_License</th>\n",
       "      <th>Region_Code</th>\n",
       "      <th>Previously_Insured</th>\n",
       "      <th>Vehicle_Age</th>\n",
       "      <th>Vehicle_Damage</th>\n",
       "      <th>Annual_Premium</th>\n",
       "      <th>Policy_Sales_Channel</th>\n",
       "      <th>Vintage</th>\n",
       "      <th>Response</th>\n",
       "    </tr>\n",
       "  </thead>\n",
       "  <tbody>\n",
       "    <tr>\n",
       "      <th>5752400</th>\n",
       "      <td>5752400</td>\n",
       "      <td>Female</td>\n",
       "      <td>23</td>\n",
       "      <td>1</td>\n",
       "      <td>8.0</td>\n",
       "      <td>1</td>\n",
       "      <td>&lt; 1 Year</td>\n",
       "      <td>No</td>\n",
       "      <td>38259.0</td>\n",
       "      <td>152.0</td>\n",
       "      <td>80</td>\n",
       "      <td>0</td>\n",
       "    </tr>\n",
       "    <tr>\n",
       "      <th>5752401</th>\n",
       "      <td>5752401</td>\n",
       "      <td>Female</td>\n",
       "      <td>34</td>\n",
       "      <td>1</td>\n",
       "      <td>28.0</td>\n",
       "      <td>0</td>\n",
       "      <td>1-2 Year</td>\n",
       "      <td>Yes</td>\n",
       "      <td>55855.0</td>\n",
       "      <td>124.0</td>\n",
       "      <td>278</td>\n",
       "      <td>0</td>\n",
       "    </tr>\n",
       "    <tr>\n",
       "      <th>5752402</th>\n",
       "      <td>5752402</td>\n",
       "      <td>Male</td>\n",
       "      <td>40</td>\n",
       "      <td>1</td>\n",
       "      <td>8.0</td>\n",
       "      <td>0</td>\n",
       "      <td>1-2 Year</td>\n",
       "      <td>No</td>\n",
       "      <td>31527.0</td>\n",
       "      <td>124.0</td>\n",
       "      <td>196</td>\n",
       "      <td>0</td>\n",
       "    </tr>\n",
       "    <tr>\n",
       "      <th>5752403</th>\n",
       "      <td>5752403</td>\n",
       "      <td>Female</td>\n",
       "      <td>45</td>\n",
       "      <td>1</td>\n",
       "      <td>28.0</td>\n",
       "      <td>0</td>\n",
       "      <td>&gt; 2 Years</td>\n",
       "      <td>Yes</td>\n",
       "      <td>30294.0</td>\n",
       "      <td>124.0</td>\n",
       "      <td>90</td>\n",
       "      <td>0</td>\n",
       "    </tr>\n",
       "    <tr>\n",
       "      <th>5752404</th>\n",
       "      <td>5752404</td>\n",
       "      <td>Male</td>\n",
       "      <td>28</td>\n",
       "      <td>1</td>\n",
       "      <td>6.0</td>\n",
       "      <td>0</td>\n",
       "      <td>&lt; 1 Year</td>\n",
       "      <td>Yes</td>\n",
       "      <td>53436.0</td>\n",
       "      <td>124.0</td>\n",
       "      <td>258</td>\n",
       "      <td>1</td>\n",
       "    </tr>\n",
       "  </tbody>\n",
       "</table>\n",
       "</div>"
      ],
      "text/plain": [
       "              id  Gender  Age  Driving_License  Region_Code  \\\n",
       "5752400  5752400  Female   23                1          8.0   \n",
       "5752401  5752401  Female   34                1         28.0   \n",
       "5752402  5752402    Male   40                1          8.0   \n",
       "5752403  5752403  Female   45                1         28.0   \n",
       "5752404  5752404    Male   28                1          6.0   \n",
       "\n",
       "         Previously_Insured Vehicle_Age Vehicle_Damage  Annual_Premium  \\\n",
       "5752400                   1    < 1 Year             No         38259.0   \n",
       "5752401                   0    1-2 Year            Yes         55855.0   \n",
       "5752402                   0    1-2 Year             No         31527.0   \n",
       "5752403                   0   > 2 Years            Yes         30294.0   \n",
       "5752404                   0    < 1 Year            Yes         53436.0   \n",
       "\n",
       "         Policy_Sales_Channel  Vintage  Response  \n",
       "5752400                 152.0       80         0  \n",
       "5752401                 124.0      278         0  \n",
       "5752402                 124.0      196         0  \n",
       "5752403                 124.0       90         0  \n",
       "5752404                 124.0      258         1  "
      ]
     },
     "execution_count": 4,
     "metadata": {},
     "output_type": "execute_result"
    }
   ],
   "source": [
    "df_test = df.iloc[int(df.count()[0]*0.5)+1:]\n",
    "df_test.head()"
   ]
  },
  {
   "cell_type": "markdown",
   "metadata": {},
   "source": [
    "# Предобработка"
   ]
  },
  {
   "cell_type": "code",
   "execution_count": 5,
   "metadata": {},
   "outputs": [
    {
     "data": {
      "text/plain": [
       "Gender                   object\n",
       "Age                       int64\n",
       "Driving_License           int64\n",
       "Region_Code             float64\n",
       "Previously_Insured        int64\n",
       "Vehicle_Age              object\n",
       "Vehicle_Damage           object\n",
       "Annual_Premium          float64\n",
       "Policy_Sales_Channel    float64\n",
       "Vintage                   int64\n",
       "Response                  int64\n",
       "dtype: object"
      ]
     },
     "execution_count": 5,
     "metadata": {},
     "output_type": "execute_result"
    }
   ],
   "source": [
    "df_train = df_train.drop('id', axis=1) # Удаление бесполезного признака id\n",
    "df_test = df_test.drop('id', axis=1)\n",
    "df_train.dtypes"
   ]
  },
  {
   "cell_type": "markdown",
   "metadata": {},
   "source": [
    "### Заменим значения признака Vehicle_Age на порядковые, а признаков Vehicle_Damage, Driving_license, Previously_Insured - на булевые значения"
   ]
  },
  {
   "cell_type": "code",
   "execution_count": 6,
   "metadata": {},
   "outputs": [
    {
     "data": {
      "application/vnd.microsoft.datawrangler.viewer.v0+json": {
       "columns": [
        {
         "name": "index",
         "rawType": "int64",
         "type": "integer"
        },
        {
         "name": "Gender",
         "rawType": "object",
         "type": "string"
        },
        {
         "name": "Age",
         "rawType": "int64",
         "type": "integer"
        },
        {
         "name": "Driving_License",
         "rawType": "bool",
         "type": "boolean"
        },
        {
         "name": "Region_Code",
         "rawType": "float64",
         "type": "float"
        },
        {
         "name": "Previously_Insured",
         "rawType": "bool",
         "type": "boolean"
        },
        {
         "name": "Vehicle_Age",
         "rawType": "int64",
         "type": "integer"
        },
        {
         "name": "Vehicle_Damage",
         "rawType": "bool",
         "type": "boolean"
        },
        {
         "name": "Annual_Premium",
         "rawType": "float64",
         "type": "float"
        },
        {
         "name": "Policy_Sales_Channel",
         "rawType": "float64",
         "type": "float"
        },
        {
         "name": "Vintage",
         "rawType": "int64",
         "type": "integer"
        },
        {
         "name": "Response",
         "rawType": "int64",
         "type": "integer"
        }
       ],
       "conversionMethod": "pd.DataFrame",
       "ref": "1586c5b4-6a0c-434f-a03c-a89274e0ef64",
       "rows": [
        [
         "0",
         "Male",
         "21",
         "True",
         "35.0",
         "False",
         "1",
         "True",
         "65101.0",
         "124.0",
         "187",
         "0"
        ],
        [
         "1",
         "Male",
         "43",
         "True",
         "28.0",
         "False",
         "2",
         "True",
         "58911.0",
         "26.0",
         "288",
         "1"
        ],
        [
         "2",
         "Female",
         "25",
         "True",
         "14.0",
         "True",
         "0",
         "False",
         "38043.0",
         "152.0",
         "254",
         "0"
        ],
        [
         "3",
         "Female",
         "35",
         "True",
         "1.0",
         "False",
         "1",
         "True",
         "2630.0",
         "156.0",
         "76",
         "0"
        ],
        [
         "4",
         "Female",
         "36",
         "True",
         "15.0",
         "True",
         "1",
         "False",
         "31951.0",
         "152.0",
         "294",
         "0"
        ]
       ],
       "shape": {
        "columns": 11,
        "rows": 5
       }
      },
      "text/html": [
       "<div>\n",
       "<style scoped>\n",
       "    .dataframe tbody tr th:only-of-type {\n",
       "        vertical-align: middle;\n",
       "    }\n",
       "\n",
       "    .dataframe tbody tr th {\n",
       "        vertical-align: top;\n",
       "    }\n",
       "\n",
       "    .dataframe thead th {\n",
       "        text-align: right;\n",
       "    }\n",
       "</style>\n",
       "<table border=\"1\" class=\"dataframe\">\n",
       "  <thead>\n",
       "    <tr style=\"text-align: right;\">\n",
       "      <th></th>\n",
       "      <th>Gender</th>\n",
       "      <th>Age</th>\n",
       "      <th>Driving_License</th>\n",
       "      <th>Region_Code</th>\n",
       "      <th>Previously_Insured</th>\n",
       "      <th>Vehicle_Age</th>\n",
       "      <th>Vehicle_Damage</th>\n",
       "      <th>Annual_Premium</th>\n",
       "      <th>Policy_Sales_Channel</th>\n",
       "      <th>Vintage</th>\n",
       "      <th>Response</th>\n",
       "    </tr>\n",
       "  </thead>\n",
       "  <tbody>\n",
       "    <tr>\n",
       "      <th>0</th>\n",
       "      <td>Male</td>\n",
       "      <td>21</td>\n",
       "      <td>True</td>\n",
       "      <td>35.0</td>\n",
       "      <td>False</td>\n",
       "      <td>1</td>\n",
       "      <td>True</td>\n",
       "      <td>65101.0</td>\n",
       "      <td>124.0</td>\n",
       "      <td>187</td>\n",
       "      <td>0</td>\n",
       "    </tr>\n",
       "    <tr>\n",
       "      <th>1</th>\n",
       "      <td>Male</td>\n",
       "      <td>43</td>\n",
       "      <td>True</td>\n",
       "      <td>28.0</td>\n",
       "      <td>False</td>\n",
       "      <td>2</td>\n",
       "      <td>True</td>\n",
       "      <td>58911.0</td>\n",
       "      <td>26.0</td>\n",
       "      <td>288</td>\n",
       "      <td>1</td>\n",
       "    </tr>\n",
       "    <tr>\n",
       "      <th>2</th>\n",
       "      <td>Female</td>\n",
       "      <td>25</td>\n",
       "      <td>True</td>\n",
       "      <td>14.0</td>\n",
       "      <td>True</td>\n",
       "      <td>0</td>\n",
       "      <td>False</td>\n",
       "      <td>38043.0</td>\n",
       "      <td>152.0</td>\n",
       "      <td>254</td>\n",
       "      <td>0</td>\n",
       "    </tr>\n",
       "    <tr>\n",
       "      <th>3</th>\n",
       "      <td>Female</td>\n",
       "      <td>35</td>\n",
       "      <td>True</td>\n",
       "      <td>1.0</td>\n",
       "      <td>False</td>\n",
       "      <td>1</td>\n",
       "      <td>True</td>\n",
       "      <td>2630.0</td>\n",
       "      <td>156.0</td>\n",
       "      <td>76</td>\n",
       "      <td>0</td>\n",
       "    </tr>\n",
       "    <tr>\n",
       "      <th>4</th>\n",
       "      <td>Female</td>\n",
       "      <td>36</td>\n",
       "      <td>True</td>\n",
       "      <td>15.0</td>\n",
       "      <td>True</td>\n",
       "      <td>1</td>\n",
       "      <td>False</td>\n",
       "      <td>31951.0</td>\n",
       "      <td>152.0</td>\n",
       "      <td>294</td>\n",
       "      <td>0</td>\n",
       "    </tr>\n",
       "  </tbody>\n",
       "</table>\n",
       "</div>"
      ],
      "text/plain": [
       "   Gender  Age  Driving_License  Region_Code  Previously_Insured  Vehicle_Age  \\\n",
       "0    Male   21             True         35.0               False            1   \n",
       "1    Male   43             True         28.0               False            2   \n",
       "2  Female   25             True         14.0                True            0   \n",
       "3  Female   35             True          1.0               False            1   \n",
       "4  Female   36             True         15.0                True            1   \n",
       "\n",
       "   Vehicle_Damage  Annual_Premium  Policy_Sales_Channel  Vintage  Response  \n",
       "0            True         65101.0                 124.0      187         0  \n",
       "1            True         58911.0                  26.0      288         1  \n",
       "2           False         38043.0                 152.0      254         0  \n",
       "3            True          2630.0                 156.0       76         0  \n",
       "4           False         31951.0                 152.0      294         0  "
      ]
     },
     "execution_count": 6,
     "metadata": {},
     "output_type": "execute_result"
    }
   ],
   "source": [
    "v_age_mapping = {'< 1 Year': 0, '1-2 Year': 1, '> 2 Years': 2}\n",
    "\n",
    "df_train['Vehicle_Age'] = df_train['Vehicle_Age'].map(v_age_mapping)\n",
    "df_test['Vehicle_Age'] = df_test['Vehicle_Age'].map(v_age_mapping)\n",
    "\n",
    "\n",
    "v_damage_mapping = {'Yes': True, 'No': False}\n",
    "\n",
    "df_train['Vehicle_Damage'] = df_train['Vehicle_Damage'].map(v_damage_mapping)\n",
    "df_test['Vehicle_Damage'] = df_test['Vehicle_Damage'].map(v_damage_mapping)\n",
    "\n",
    "\n",
    "bool_mapping = {1: True, 0: False}\n",
    "\n",
    "df_train['Driving_License'] = df_train['Driving_License'].map(bool_mapping)\n",
    "df_train['Previously_Insured'] = df_train['Previously_Insured'].map(bool_mapping)\n",
    "\n",
    "df_test['Driving_License'] = df_test['Driving_License'].map(bool_mapping)\n",
    "df_test['Previously_Insured'] = df_test['Previously_Insured'].map(bool_mapping)\n",
    "\n",
    "df_train.head()"
   ]
  },
  {
   "cell_type": "markdown",
   "metadata": {},
   "source": [
    "### Преобразуем признаки Policy_Sales_Channel и Region_Code в категориальные, ибо они несут именно такой смысл"
   ]
  },
  {
   "cell_type": "code",
   "execution_count": 7,
   "metadata": {},
   "outputs": [
    {
     "data": {
      "application/vnd.microsoft.datawrangler.viewer.v0+json": {
       "columns": [
        {
         "name": "index",
         "rawType": "int64",
         "type": "integer"
        },
        {
         "name": "Gender",
         "rawType": "object",
         "type": "string"
        },
        {
         "name": "Age",
         "rawType": "int64",
         "type": "integer"
        },
        {
         "name": "Driving_License",
         "rawType": "bool",
         "type": "boolean"
        },
        {
         "name": "Region_Code",
         "rawType": "object",
         "type": "unknown"
        },
        {
         "name": "Previously_Insured",
         "rawType": "bool",
         "type": "boolean"
        },
        {
         "name": "Vehicle_Age",
         "rawType": "int64",
         "type": "integer"
        },
        {
         "name": "Vehicle_Damage",
         "rawType": "bool",
         "type": "boolean"
        },
        {
         "name": "Annual_Premium",
         "rawType": "float64",
         "type": "float"
        },
        {
         "name": "Policy_Sales_Channel",
         "rawType": "object",
         "type": "unknown"
        },
        {
         "name": "Vintage",
         "rawType": "int64",
         "type": "integer"
        },
        {
         "name": "Response",
         "rawType": "int64",
         "type": "integer"
        }
       ],
       "conversionMethod": "pd.DataFrame",
       "ref": "f07ac03d-7ca4-49f7-bd63-72d24558a7f1",
       "rows": [
        [
         "0",
         "Male",
         "21",
         "True",
         "35.0",
         "False",
         "1",
         "True",
         "65101.0",
         "124.0",
         "187",
         "0"
        ],
        [
         "1",
         "Male",
         "43",
         "True",
         "28.0",
         "False",
         "2",
         "True",
         "58911.0",
         "26.0",
         "288",
         "1"
        ],
        [
         "2",
         "Female",
         "25",
         "True",
         "14.0",
         "True",
         "0",
         "False",
         "38043.0",
         "152.0",
         "254",
         "0"
        ],
        [
         "3",
         "Female",
         "35",
         "True",
         "1.0",
         "False",
         "1",
         "True",
         "2630.0",
         "156.0",
         "76",
         "0"
        ],
        [
         "4",
         "Female",
         "36",
         "True",
         "15.0",
         "True",
         "1",
         "False",
         "31951.0",
         "152.0",
         "294",
         "0"
        ]
       ],
       "shape": {
        "columns": 11,
        "rows": 5
       }
      },
      "text/html": [
       "<div>\n",
       "<style scoped>\n",
       "    .dataframe tbody tr th:only-of-type {\n",
       "        vertical-align: middle;\n",
       "    }\n",
       "\n",
       "    .dataframe tbody tr th {\n",
       "        vertical-align: top;\n",
       "    }\n",
       "\n",
       "    .dataframe thead th {\n",
       "        text-align: right;\n",
       "    }\n",
       "</style>\n",
       "<table border=\"1\" class=\"dataframe\">\n",
       "  <thead>\n",
       "    <tr style=\"text-align: right;\">\n",
       "      <th></th>\n",
       "      <th>Gender</th>\n",
       "      <th>Age</th>\n",
       "      <th>Driving_License</th>\n",
       "      <th>Region_Code</th>\n",
       "      <th>Previously_Insured</th>\n",
       "      <th>Vehicle_Age</th>\n",
       "      <th>Vehicle_Damage</th>\n",
       "      <th>Annual_Premium</th>\n",
       "      <th>Policy_Sales_Channel</th>\n",
       "      <th>Vintage</th>\n",
       "      <th>Response</th>\n",
       "    </tr>\n",
       "  </thead>\n",
       "  <tbody>\n",
       "    <tr>\n",
       "      <th>0</th>\n",
       "      <td>Male</td>\n",
       "      <td>21</td>\n",
       "      <td>True</td>\n",
       "      <td>35.0</td>\n",
       "      <td>False</td>\n",
       "      <td>1</td>\n",
       "      <td>True</td>\n",
       "      <td>65101.0</td>\n",
       "      <td>124.0</td>\n",
       "      <td>187</td>\n",
       "      <td>0</td>\n",
       "    </tr>\n",
       "    <tr>\n",
       "      <th>1</th>\n",
       "      <td>Male</td>\n",
       "      <td>43</td>\n",
       "      <td>True</td>\n",
       "      <td>28.0</td>\n",
       "      <td>False</td>\n",
       "      <td>2</td>\n",
       "      <td>True</td>\n",
       "      <td>58911.0</td>\n",
       "      <td>26.0</td>\n",
       "      <td>288</td>\n",
       "      <td>1</td>\n",
       "    </tr>\n",
       "    <tr>\n",
       "      <th>2</th>\n",
       "      <td>Female</td>\n",
       "      <td>25</td>\n",
       "      <td>True</td>\n",
       "      <td>14.0</td>\n",
       "      <td>True</td>\n",
       "      <td>0</td>\n",
       "      <td>False</td>\n",
       "      <td>38043.0</td>\n",
       "      <td>152.0</td>\n",
       "      <td>254</td>\n",
       "      <td>0</td>\n",
       "    </tr>\n",
       "    <tr>\n",
       "      <th>3</th>\n",
       "      <td>Female</td>\n",
       "      <td>35</td>\n",
       "      <td>True</td>\n",
       "      <td>1.0</td>\n",
       "      <td>False</td>\n",
       "      <td>1</td>\n",
       "      <td>True</td>\n",
       "      <td>2630.0</td>\n",
       "      <td>156.0</td>\n",
       "      <td>76</td>\n",
       "      <td>0</td>\n",
       "    </tr>\n",
       "    <tr>\n",
       "      <th>4</th>\n",
       "      <td>Female</td>\n",
       "      <td>36</td>\n",
       "      <td>True</td>\n",
       "      <td>15.0</td>\n",
       "      <td>True</td>\n",
       "      <td>1</td>\n",
       "      <td>False</td>\n",
       "      <td>31951.0</td>\n",
       "      <td>152.0</td>\n",
       "      <td>294</td>\n",
       "      <td>0</td>\n",
       "    </tr>\n",
       "  </tbody>\n",
       "</table>\n",
       "</div>"
      ],
      "text/plain": [
       "   Gender  Age  Driving_License Region_Code  Previously_Insured  Vehicle_Age  \\\n",
       "0    Male   21             True        35.0               False            1   \n",
       "1    Male   43             True        28.0               False            2   \n",
       "2  Female   25             True        14.0                True            0   \n",
       "3  Female   35             True         1.0               False            1   \n",
       "4  Female   36             True        15.0                True            1   \n",
       "\n",
       "   Vehicle_Damage  Annual_Premium Policy_Sales_Channel  Vintage  Response  \n",
       "0            True         65101.0                124.0      187         0  \n",
       "1            True         58911.0                 26.0      288         1  \n",
       "2           False         38043.0                152.0      254         0  \n",
       "3            True          2630.0                156.0       76         0  \n",
       "4           False         31951.0                152.0      294         0  "
      ]
     },
     "execution_count": 7,
     "metadata": {},
     "output_type": "execute_result"
    }
   ],
   "source": [
    "df_train['Policy_Sales_Channel'] = df_train['Policy_Sales_Channel'].astype('object')\n",
    "df_train['Region_Code'] = df_train['Region_Code'].astype('object')\n",
    "\n",
    "df_test['Policy_Sales_Channel'] = df_test['Policy_Sales_Channel'].astype('object')\n",
    "df_test['Region_Code'] = df_test['Region_Code'].astype('object')\n",
    "\n",
    "df_train.head()"
   ]
  },
  {
   "cell_type": "markdown",
   "metadata": {},
   "source": [
    "### Нормировка"
   ]
  },
  {
   "cell_type": "code",
   "execution_count": 15,
   "metadata": {},
   "outputs": [],
   "source": [
    "numerical_features = df_train.select_dtypes(exclude=['object', 'bool']).columns\n",
    "numerical_features = np.delete(numerical_features, np.where(numerical_features == 'Response'))\n",
    "numerical_features = np.delete(numerical_features, np.where(numerical_features == 'Vehicle_Age'))"
   ]
  },
  {
   "cell_type": "code",
   "execution_count": 17,
   "metadata": {},
   "outputs": [
    {
     "data": {
      "application/vnd.microsoft.datawrangler.viewer.v0+json": {
       "columns": [
        {
         "name": "index",
         "rawType": "int64",
         "type": "integer"
        },
        {
         "name": "Gender",
         "rawType": "object",
         "type": "string"
        },
        {
         "name": "Age",
         "rawType": "float64",
         "type": "float"
        },
        {
         "name": "Driving_License",
         "rawType": "bool",
         "type": "boolean"
        },
        {
         "name": "Region_Code",
         "rawType": "object",
         "type": "unknown"
        },
        {
         "name": "Previously_Insured",
         "rawType": "bool",
         "type": "boolean"
        },
        {
         "name": "Vehicle_Age",
         "rawType": "float64",
         "type": "float"
        },
        {
         "name": "Vehicle_Damage",
         "rawType": "bool",
         "type": "boolean"
        },
        {
         "name": "Annual_Premium",
         "rawType": "float64",
         "type": "float"
        },
        {
         "name": "Policy_Sales_Channel",
         "rawType": "object",
         "type": "unknown"
        },
        {
         "name": "Vintage",
         "rawType": "float64",
         "type": "float"
        },
        {
         "name": "Response",
         "rawType": "int64",
         "type": "integer"
        }
       ],
       "conversionMethod": "pd.DataFrame",
       "ref": "25a60523-9d5a-442f-92d7-768ca901e1a2",
       "rows": [
        [
         "0",
         "Male",
         "-1.159319945621836",
         "True",
         "35.0",
         "False",
         "0.6989320323486612",
         "True",
         "2.10349091108882",
         "124.0",
         "0.2886075960924035",
         "0"
        ],
        [
         "1",
         "Male",
         "0.30772617085491216",
         "True",
         "28.0",
         "False",
         "2.4601026621944238",
         "True",
         "1.727572500327122",
         "26.0",
         "1.5513482388579984",
         "1"
        ],
        [
         "2",
         "Female",
         "-0.8925842880806091",
         "True",
         "14.0",
         "True",
         "-1.062238597497102",
         "False",
         "0.46025983541999804",
         "152.0",
         "1.1262672304022538",
         "0"
        ],
        [
         "3",
         "Female",
         "-0.22574514422754174",
         "True",
         "1.0",
         "False",
         "0.6989320323486612",
         "True",
         "-1.6903699998472042",
         "156.0",
         "-1.0991568726895875",
         "0"
        ],
        [
         "4",
         "Female",
         "-0.159061229842235",
         "True",
         "15.0",
         "True",
         "0.6989320323486612",
         "False",
         "0.09029296007908379",
         "152.0",
         "1.6263625344678359",
         "0"
        ]
       ],
       "shape": {
        "columns": 11,
        "rows": 5
       }
      },
      "text/html": [
       "<div>\n",
       "<style scoped>\n",
       "    .dataframe tbody tr th:only-of-type {\n",
       "        vertical-align: middle;\n",
       "    }\n",
       "\n",
       "    .dataframe tbody tr th {\n",
       "        vertical-align: top;\n",
       "    }\n",
       "\n",
       "    .dataframe thead th {\n",
       "        text-align: right;\n",
       "    }\n",
       "</style>\n",
       "<table border=\"1\" class=\"dataframe\">\n",
       "  <thead>\n",
       "    <tr style=\"text-align: right;\">\n",
       "      <th></th>\n",
       "      <th>Gender</th>\n",
       "      <th>Age</th>\n",
       "      <th>Driving_License</th>\n",
       "      <th>Region_Code</th>\n",
       "      <th>Previously_Insured</th>\n",
       "      <th>Vehicle_Age</th>\n",
       "      <th>Vehicle_Damage</th>\n",
       "      <th>Annual_Premium</th>\n",
       "      <th>Policy_Sales_Channel</th>\n",
       "      <th>Vintage</th>\n",
       "      <th>Response</th>\n",
       "    </tr>\n",
       "  </thead>\n",
       "  <tbody>\n",
       "    <tr>\n",
       "      <th>0</th>\n",
       "      <td>Male</td>\n",
       "      <td>-1.159320</td>\n",
       "      <td>True</td>\n",
       "      <td>35.0</td>\n",
       "      <td>False</td>\n",
       "      <td>0.698932</td>\n",
       "      <td>True</td>\n",
       "      <td>2.103491</td>\n",
       "      <td>124.0</td>\n",
       "      <td>0.288608</td>\n",
       "      <td>0</td>\n",
       "    </tr>\n",
       "    <tr>\n",
       "      <th>1</th>\n",
       "      <td>Male</td>\n",
       "      <td>0.307726</td>\n",
       "      <td>True</td>\n",
       "      <td>28.0</td>\n",
       "      <td>False</td>\n",
       "      <td>2.460103</td>\n",
       "      <td>True</td>\n",
       "      <td>1.727573</td>\n",
       "      <td>26.0</td>\n",
       "      <td>1.551348</td>\n",
       "      <td>1</td>\n",
       "    </tr>\n",
       "    <tr>\n",
       "      <th>2</th>\n",
       "      <td>Female</td>\n",
       "      <td>-0.892584</td>\n",
       "      <td>True</td>\n",
       "      <td>14.0</td>\n",
       "      <td>True</td>\n",
       "      <td>-1.062239</td>\n",
       "      <td>False</td>\n",
       "      <td>0.460260</td>\n",
       "      <td>152.0</td>\n",
       "      <td>1.126267</td>\n",
       "      <td>0</td>\n",
       "    </tr>\n",
       "    <tr>\n",
       "      <th>3</th>\n",
       "      <td>Female</td>\n",
       "      <td>-0.225745</td>\n",
       "      <td>True</td>\n",
       "      <td>1.0</td>\n",
       "      <td>False</td>\n",
       "      <td>0.698932</td>\n",
       "      <td>True</td>\n",
       "      <td>-1.690370</td>\n",
       "      <td>156.0</td>\n",
       "      <td>-1.099157</td>\n",
       "      <td>0</td>\n",
       "    </tr>\n",
       "    <tr>\n",
       "      <th>4</th>\n",
       "      <td>Female</td>\n",
       "      <td>-0.159061</td>\n",
       "      <td>True</td>\n",
       "      <td>15.0</td>\n",
       "      <td>True</td>\n",
       "      <td>0.698932</td>\n",
       "      <td>False</td>\n",
       "      <td>0.090293</td>\n",
       "      <td>152.0</td>\n",
       "      <td>1.626363</td>\n",
       "      <td>0</td>\n",
       "    </tr>\n",
       "  </tbody>\n",
       "</table>\n",
       "</div>"
      ],
      "text/plain": [
       "   Gender       Age  Driving_License Region_Code  Previously_Insured  \\\n",
       "0    Male -1.159320             True        35.0               False   \n",
       "1    Male  0.307726             True        28.0               False   \n",
       "2  Female -0.892584             True        14.0                True   \n",
       "3  Female -0.225745             True         1.0               False   \n",
       "4  Female -0.159061             True        15.0                True   \n",
       "\n",
       "   Vehicle_Age  Vehicle_Damage  Annual_Premium Policy_Sales_Channel   Vintage  \\\n",
       "0     0.698932            True        2.103491                124.0  0.288608   \n",
       "1     2.460103            True        1.727573                 26.0  1.551348   \n",
       "2    -1.062239           False        0.460260                152.0  1.126267   \n",
       "3     0.698932            True       -1.690370                156.0 -1.099157   \n",
       "4     0.698932           False        0.090293                152.0  1.626363   \n",
       "\n",
       "   Response  \n",
       "0         0  \n",
       "1         1  \n",
       "2         0  \n",
       "3         0  \n",
       "4         0  "
      ]
     },
     "execution_count": 17,
     "metadata": {},
     "output_type": "execute_result"
    }
   ],
   "source": [
    "scaler = StandardScaler()\n",
    "df_train[numerical_features] = scaler.fit_transform(df_train[numerical_features])\n",
    "df_test[numerical_features] = scaler.transform(df_test[numerical_features])\n",
    "\n",
    "df_train.head()"
   ]
  },
  {
   "cell_type": "code",
   "execution_count": 18,
   "metadata": {},
   "outputs": [
    {
     "data": {
      "application/vnd.microsoft.datawrangler.viewer.v0+json": {
       "columns": [
        {
         "name": "index",
         "rawType": "int64",
         "type": "integer"
        },
        {
         "name": "Age",
         "rawType": "float64",
         "type": "float"
        },
        {
         "name": "Driving_License",
         "rawType": "bool",
         "type": "boolean"
        },
        {
         "name": "Previously_Insured",
         "rawType": "bool",
         "type": "boolean"
        },
        {
         "name": "Vehicle_Age",
         "rawType": "float64",
         "type": "float"
        },
        {
         "name": "Vehicle_Damage",
         "rawType": "bool",
         "type": "boolean"
        },
        {
         "name": "Annual_Premium",
         "rawType": "float64",
         "type": "float"
        },
        {
         "name": "Vintage",
         "rawType": "float64",
         "type": "float"
        },
        {
         "name": "Response",
         "rawType": "int64",
         "type": "integer"
        },
        {
         "name": "Gender_Male",
         "rawType": "bool",
         "type": "boolean"
        }
       ],
       "conversionMethod": "pd.DataFrame",
       "ref": "84c3cf23-91f2-4179-ad46-d0b91a7dc222",
       "rows": [
        [
         "0",
         "-1.159319945621836",
         "True",
         "False",
         "0.6989320323486612",
         "True",
         "2.10349091108882",
         "0.2886075960924035",
         "0",
         "True"
        ],
        [
         "1",
         "0.30772617085491216",
         "True",
         "False",
         "2.4601026621944238",
         "True",
         "1.727572500327122",
         "1.5513482388579984",
         "1",
         "True"
        ],
        [
         "2",
         "-0.8925842880806091",
         "True",
         "True",
         "-1.062238597497102",
         "False",
         "0.46025983541999804",
         "1.1262672304022538",
         "0",
         "False"
        ],
        [
         "3",
         "-0.22574514422754174",
         "True",
         "False",
         "0.6989320323486612",
         "True",
         "-1.6903699998472042",
         "-1.0991568726895875",
         "0",
         "False"
        ],
        [
         "4",
         "-0.159061229842235",
         "True",
         "True",
         "0.6989320323486612",
         "False",
         "0.09029296007908379",
         "1.6263625344678359",
         "0",
         "False"
        ]
       ],
       "shape": {
        "columns": 9,
        "rows": 5
       }
      },
      "text/html": [
       "<div>\n",
       "<style scoped>\n",
       "    .dataframe tbody tr th:only-of-type {\n",
       "        vertical-align: middle;\n",
       "    }\n",
       "\n",
       "    .dataframe tbody tr th {\n",
       "        vertical-align: top;\n",
       "    }\n",
       "\n",
       "    .dataframe thead th {\n",
       "        text-align: right;\n",
       "    }\n",
       "</style>\n",
       "<table border=\"1\" class=\"dataframe\">\n",
       "  <thead>\n",
       "    <tr style=\"text-align: right;\">\n",
       "      <th></th>\n",
       "      <th>Age</th>\n",
       "      <th>Driving_License</th>\n",
       "      <th>Previously_Insured</th>\n",
       "      <th>Vehicle_Age</th>\n",
       "      <th>Vehicle_Damage</th>\n",
       "      <th>Annual_Premium</th>\n",
       "      <th>Vintage</th>\n",
       "      <th>Response</th>\n",
       "      <th>Gender_Male</th>\n",
       "    </tr>\n",
       "  </thead>\n",
       "  <tbody>\n",
       "    <tr>\n",
       "      <th>0</th>\n",
       "      <td>-1.159320</td>\n",
       "      <td>True</td>\n",
       "      <td>False</td>\n",
       "      <td>0.698932</td>\n",
       "      <td>True</td>\n",
       "      <td>2.103491</td>\n",
       "      <td>0.288608</td>\n",
       "      <td>0</td>\n",
       "      <td>True</td>\n",
       "    </tr>\n",
       "    <tr>\n",
       "      <th>1</th>\n",
       "      <td>0.307726</td>\n",
       "      <td>True</td>\n",
       "      <td>False</td>\n",
       "      <td>2.460103</td>\n",
       "      <td>True</td>\n",
       "      <td>1.727573</td>\n",
       "      <td>1.551348</td>\n",
       "      <td>1</td>\n",
       "      <td>True</td>\n",
       "    </tr>\n",
       "    <tr>\n",
       "      <th>2</th>\n",
       "      <td>-0.892584</td>\n",
       "      <td>True</td>\n",
       "      <td>True</td>\n",
       "      <td>-1.062239</td>\n",
       "      <td>False</td>\n",
       "      <td>0.460260</td>\n",
       "      <td>1.126267</td>\n",
       "      <td>0</td>\n",
       "      <td>False</td>\n",
       "    </tr>\n",
       "    <tr>\n",
       "      <th>3</th>\n",
       "      <td>-0.225745</td>\n",
       "      <td>True</td>\n",
       "      <td>False</td>\n",
       "      <td>0.698932</td>\n",
       "      <td>True</td>\n",
       "      <td>-1.690370</td>\n",
       "      <td>-1.099157</td>\n",
       "      <td>0</td>\n",
       "      <td>False</td>\n",
       "    </tr>\n",
       "    <tr>\n",
       "      <th>4</th>\n",
       "      <td>-0.159061</td>\n",
       "      <td>True</td>\n",
       "      <td>True</td>\n",
       "      <td>0.698932</td>\n",
       "      <td>False</td>\n",
       "      <td>0.090293</td>\n",
       "      <td>1.626363</td>\n",
       "      <td>0</td>\n",
       "      <td>False</td>\n",
       "    </tr>\n",
       "  </tbody>\n",
       "</table>\n",
       "</div>"
      ],
      "text/plain": [
       "        Age  Driving_License  Previously_Insured  Vehicle_Age  Vehicle_Damage  \\\n",
       "0 -1.159320             True               False     0.698932            True   \n",
       "1  0.307726             True               False     2.460103            True   \n",
       "2 -0.892584             True                True    -1.062239           False   \n",
       "3 -0.225745             True               False     0.698932            True   \n",
       "4 -0.159061             True                True     0.698932           False   \n",
       "\n",
       "   Annual_Premium   Vintage  Response  Gender_Male  \n",
       "0        2.103491  0.288608         0         True  \n",
       "1        1.727573  1.551348         1         True  \n",
       "2        0.460260  1.126267         0        False  \n",
       "3       -1.690370 -1.099157         0        False  \n",
       "4        0.090293  1.626363         0        False  "
      ]
     },
     "execution_count": 18,
     "metadata": {},
     "output_type": "execute_result"
    }
   ],
   "source": [
    "df_train = df_train.drop(['Policy_Sales_Channel', 'Region_Code'], axis=1)\n",
    "df_test = df_test.drop(['Policy_Sales_Channel', 'Region_Code'], axis=1)\n",
    "\n",
    "df_train = pd.get_dummies(df_train, drop_first=True)\n",
    "df_test = pd.get_dummies(df_test, drop_first=True)\n",
    "df_train.head()"
   ]
  },
  {
   "cell_type": "code",
   "execution_count": 20,
   "metadata": {},
   "outputs": [],
   "source": [
    "\n",
    "X_train = df_train.drop('Response', axis=1)\n",
    "y_train = df_train['Response']\n",
    "\n",
    "X_test = df_test.drop('Response', axis=1)\n",
    "y_test = df_test['Response']\n",
    "\n"
   ]
  },
  {
   "cell_type": "markdown",
   "metadata": {},
   "source": [
    "### Попробуем без достаточно сильно коррелированного признака Vehicle_age"
   ]
  },
  {
   "cell_type": "code",
   "execution_count": null,
   "metadata": {},
   "outputs": [],
   "source": [
    "X_train = X_train.drop('Vehicle_Age', axis=1)"
   ]
  },
  {
   "cell_type": "code",
   "execution_count": 22,
   "metadata": {},
   "outputs": [],
   "source": [
    "X_test = X_test.drop('Vehicle_Age', axis=1)"
   ]
  },
  {
   "cell_type": "code",
   "execution_count": 23,
   "metadata": {},
   "outputs": [
    {
     "data": {
      "text/plain": [
       "0.40162630257011206"
      ]
     },
     "execution_count": 23,
     "metadata": {},
     "output_type": "execute_result"
    }
   ],
   "source": [
    "tree_model = DecisionTreeClassifier(random_state=42, max_depth=80, min_samples_split=2)\n",
    "tree_model.fit(X_train, y_train)\n",
    "tree_pred = tree_model.predict(X_test)\n",
    "f1_score(y_test, tree_pred)"
   ]
  },
  {
   "cell_type": "code",
   "execution_count": 29,
   "metadata": {},
   "outputs": [],
   "source": [
    "import pickle\n",
    "\n",
    "with open('baseline.pkl', 'wb') as f:\n",
    "    pickle.dump({'model': tree_model, 'scaler': scaler}, f)"
   ]
  }
 ],
 "metadata": {
  "kernelspec": {
   "display_name": "sreamlitvenv",
   "language": "python",
   "name": "python3"
  },
  "language_info": {
   "codemirror_mode": {
    "name": "ipython",
    "version": 3
   },
   "file_extension": ".py",
   "mimetype": "text/x-python",
   "name": "python",
   "nbconvert_exporter": "python",
   "pygments_lexer": "ipython3",
   "version": "3.13.1"
  }
 },
 "nbformat": 4,
 "nbformat_minor": 2
}
